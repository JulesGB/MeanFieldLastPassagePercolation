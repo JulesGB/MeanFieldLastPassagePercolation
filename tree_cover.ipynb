{
 "cells": [
  {
   "cell_type": "code",
   "execution_count": 1,
   "id": "09ee5597-3ec0-49e3-963b-eb0274515de1",
   "metadata": {
    "scrolled": true
   },
   "outputs": [],
   "source": [
    "import numpy as np\n",
    "import matplotlib.pyplot as plt\n",
    "import networkx as nx\n",
    "import random\n",
    "import kmax as kx\n",
    "import utility as util\n",
    "from hierarchy import *"
   ]
  },
  {
   "cell_type": "markdown",
   "id": "68229391-80bb-459c-9555-2cad54b9abbc",
   "metadata": {},
   "source": [
    "# Finding Tree Path Covers"
   ]
  },
  {
   "cell_type": "code",
   "execution_count": 2,
   "id": "d54923b3-2ddb-4cf1-a608-6a555a1dc26b",
   "metadata": {},
   "outputs": [],
   "source": [
    "def draw_tree(tree, layout, draw_path=True):\n",
    "    rooted_tree = nx.bfs_tree(tree, 0)\n",
    "    \n",
    "    #nx.draw_networkx_nodes(tree, pos=layout, node_size=29)\n",
    "    nx.draw_networkx_labels(tree, pos=layout, font_size=10, font_color=\"tab:blue\")\n",
    "    \n",
    "    if draw_path:\n",
    "        path_cover,_,X=util.path_cover(tree)\n",
    "        nx.draw_networkx_edges(rooted_tree, pos=layout, edgelist=path_cover, edge_color=\"tab:red\", arrows=True)\n",
    "        \n",
    "        other_edges = [(u,v) for u,v in rooted_tree.edges() if (u,v) not in path_cover and (v,u) not in path_cover]\n",
    "        nx.draw_networkx_edges(rooted_tree, pos=layout, edgelist=other_edges)\n",
    "    else:\n",
    "        nx.draw_networkx_edges(rooted_tree, pos=layout)"
   ]
  },
  {
   "cell_type": "markdown",
   "id": "6f65f309-02bf-4a67-bf79-f865c6870407",
   "metadata": {
    "jp-MarkdownHeadingCollapsed": true
   },
   "source": [
    "### Bulk Testing with (0,1)-weights"
   ]
  },
  {
   "cell_type": "code",
   "execution_count": null,
   "id": "b66c6551-beaa-4ee5-adc4-e6b16d67fbb5",
   "metadata": {
    "scrolled": true
   },
   "outputs": [],
   "source": [
    "failure_count = 0\n",
    "bad_trees = []\n",
    "for i in range(1000):\n",
    "    n = 100\n",
    "    T = nx.random_labeled_tree(n)\n",
    "    \n",
    "    for s,t in T.edges():\n",
    "        T[s][t]['weight'] = random.random()\n",
    "\n",
    "    path, diff = util.path_cover(T)\n",
    "    if not math.isclose(diff, 0.0, rel_tol=1e-4):\n",
    "        failure_count += 1\n",
    "        bad_trees.append(T)"
   ]
  },
  {
   "cell_type": "code",
   "execution_count": null,
   "id": "5d2e67a5-f119-49ac-a96a-898ed12df589",
   "metadata": {},
   "outputs": [],
   "source": [
    "print(f'failures: {failure_count}')\n",
    "bad_tree = bad_trees[0]\n",
    "draw_tree(bad_tree, hierarchye_pos(bad_tree, 0), draw_path=False)"
   ]
  },
  {
   "cell_type": "code",
   "execution_count": null,
   "id": "27b48d0b-7585-404b-ac0e-63926c19e1fa",
   "metadata": {},
   "outputs": [],
   "source": [
    "draw_tree(bad_tree, hierarchye_pos(bad_tree, 0))"
   ]
  },
  {
   "cell_type": "code",
   "execution_count": null,
   "id": "7385f4d2-50d7-4446-a712-b03dc2d2207f",
   "metadata": {
    "scrolled": true
   },
   "outputs": [],
   "source": [
    "util.path_cover(bad_tree)"
   ]
  },
  {
   "cell_type": "code",
   "execution_count": null,
   "id": "658dfff8-cdfc-49fc-b991-1fcc3355e171",
   "metadata": {},
   "outputs": [],
   "source": [
    "math.isclose(util.path_cover(bad_tree)[1],0.0,rel_tol=1e-4)"
   ]
  },
  {
   "cell_type": "markdown",
   "id": "44ee49e8-079d-4da5-a185-3f828d78f7ef",
   "metadata": {
    "jp-MarkdownHeadingCollapsed": true
   },
   "source": [
    "### Test Tree 2"
   ]
  },
  {
   "cell_type": "code",
   "execution_count": null,
   "id": "df714200-4f6d-422d-bbb8-0703fa06289d",
   "metadata": {},
   "outputs": [],
   "source": [
    "test_tree2 = nx.read_graphml('test2.graphml', node_type=int)"
   ]
  },
  {
   "cell_type": "code",
   "execution_count": null,
   "id": "cb40f9b2-419a-444a-b3e6-48d8730b5297",
   "metadata": {},
   "outputs": [],
   "source": [
    "draw_tree(test_tree2, hierarchyc_pos(test_tree2, 0))"
   ]
  },
  {
   "cell_type": "code",
   "execution_count": null,
   "id": "3d3ca0d5-4b81-4a18-adb9-2c1a1cc1b096",
   "metadata": {},
   "outputs": [],
   "source": [
    "nx.get_edge_attributes(test_tree2, 'weight')"
   ]
  },
  {
   "cell_type": "markdown",
   "id": "7dd8b00b-6c2f-4225-a8a7-a6c256d5d1c4",
   "metadata": {
    "jp-MarkdownHeadingCollapsed": true
   },
   "source": [
    "### Test Tree 1 [(0,1)-weights]"
   ]
  },
  {
   "cell_type": "code",
   "execution_count": null,
   "id": "68241690-32e6-4107-b5af-a58df5578d20",
   "metadata": {},
   "outputs": [],
   "source": [
    "test_tree = nx.read_graphml('test1.graphml', node_type=int)"
   ]
  },
  {
   "cell_type": "code",
   "execution_count": null,
   "id": "756583cc-ad31-4de4-bd10-47113e639498",
   "metadata": {},
   "outputs": [],
   "source": [
    "draw_tree(test_tree, hierarchyc_pos(test_tree, 0), draw_path=False)"
   ]
  },
  {
   "cell_type": "code",
   "execution_count": null,
   "id": "b20f76b7-ca16-4182-b240-917c74dfd415",
   "metadata": {},
   "outputs": [],
   "source": [
    "draw_tree(test_tree, hierarchyc_pos(test_tree, 0))"
   ]
  },
  {
   "cell_type": "code",
   "execution_count": null,
   "id": "8d629f2f-9521-4d85-a42a-e2001090381a",
   "metadata": {},
   "outputs": [],
   "source": [
    "nx.get_edge_attributes(test_tree, 'weight')"
   ]
  },
  {
   "cell_type": "markdown",
   "id": "f04a7e77-b6ba-436c-83d2-b24edae32249",
   "metadata": {
    "jp-MarkdownHeadingCollapsed": true
   },
   "source": [
    "### Random tree with edge weights in [0,1)"
   ]
  },
  {
   "cell_type": "code",
   "execution_count": null,
   "id": "6c415507-ffeb-4824-97df-f8e40f143347",
   "metadata": {},
   "outputs": [],
   "source": [
    "n = 30\n",
    "tree = nx.random_labeled_tree(n)\n",
    "\n",
    "for s,t in tree.edges():\n",
    "    tree[s][t]['weight'] = random.random() # assign a random edge weight in [0,1)"
   ]
  },
  {
   "cell_type": "code",
   "execution_count": null,
   "id": "3da5a2b4-34e3-4e1c-a23e-55f6ca975d14",
   "metadata": {},
   "outputs": [],
   "source": [
    "layout = hierarchyc_pos(tree, 0)\n",
    "draw_tree(tree, layout, draw_path=False)"
   ]
  },
  {
   "cell_type": "code",
   "execution_count": null,
   "id": "09405c87-d90d-42da-b437-61f97eab102b",
   "metadata": {},
   "outputs": [],
   "source": [
    "draw_tree(tree, layout)"
   ]
  },
  {
   "cell_type": "code",
   "execution_count": null,
   "id": "fe748bbf-31d3-4376-b44a-26ec8145a1b9",
   "metadata": {},
   "outputs": [],
   "source": [
    "nx.get_edge_attributes(tree, 'weight')"
   ]
  },
  {
   "cell_type": "markdown",
   "id": "a70aa179-c974-44de-ae48-deab78731c98",
   "metadata": {},
   "source": [
    "### Unit edge weights"
   ]
  },
  {
   "cell_type": "code",
   "execution_count": 3,
   "id": "731008e3-5edd-42e4-a9e0-e813aefe0938",
   "metadata": {},
   "outputs": [],
   "source": [
    "n=20\n",
    "ones_tree = nx.random_labeled_tree(n)\n",
    "for s,t in ones_tree.edges():\n",
    "    ones_tree[s][t]['weight'] = 1"
   ]
  },
  {
   "cell_type": "code",
   "execution_count": 4,
   "id": "8abe0e9c-e300-4f8a-9ef7-383fdaf0ef0d",
   "metadata": {},
   "outputs": [
    {
     "data": {
      "image/png": "[encoded data removed]",
      "text/plain": [
       "<Figure size 640x480 with 1 Axes>"
      ]
     },
     "metadata": {},
     "output_type": "display_data"
    }
   ],
   "source": [
    "#ones_layout = nx.spring_layout(ones_tree)\n",
    "ones_layout = hierarchye_pos(ones_tree, 0)\n",
    "draw_tree(ones_tree, ones_layout, draw_path=False)"
   ]
  },
  {
   "cell_type": "code",
   "execution_count": 5,
   "id": "4f423642-100e-4d2c-b754-951963545bba",
   "metadata": {},
   "outputs": [
    {
     "data": {
      "image/png": "[encoded data removed]",
      "text/plain": [
       "<Figure size 640x480 with 1 Axes>"
      ]
     },
     "metadata": {},
     "output_type": "display_data"
    }
   ],
   "source": [
    "draw_tree(ones_tree, ones_layout)"
   ]
  },
  {
   "cell_type": "code",
   "execution_count": null,
   "id": "c6fcf176-5fac-4f9e-8962-5b071bc4c3d6",
   "metadata": {},
   "outputs": [],
   "source": []
  }
 ],
 "metadata": {
  "kernelspec": {
   "display_name": "Python 3 (ipykernel)",
   "language": "python",
   "name": "python3"
  },
  "language_info": {
   "codemirror_mode": {
    "name": "ipython",
    "version": 3
   },
   "file_extension": ".py",
   "mimetype": "text/x-python",
   "name": "python",
   "nbconvert_exporter": "python",
   "pygments_lexer": "ipython3",
   "version": "3.9.7"
  }
 },
 "nbformat": 4,
 "nbformat_minor": 5
}
