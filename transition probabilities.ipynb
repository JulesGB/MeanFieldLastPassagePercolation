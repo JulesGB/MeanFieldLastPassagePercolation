{
 "cells": [
  {
   "cell_type": "code",
   "execution_count": 1,
   "id": "8aa01f71-95ac-40fb-a799-4a3686478b61",
   "metadata": {},
   "outputs": [],
   "source": [
    "import numpy as np\n",
    "import matplotlib.pyplot as plt\n",
    "import networkx as nx\n",
    "import random\n",
    "\n",
    "import sys\n",
    "sys.path.append(\"Fall 2024\")\n",
    "\n",
    "import kmax as kx\n",
    "import utility as util\n",
    "from hierarchy import *"
   ]
  },
  {
   "cell_type": "markdown",
   "id": "80a09fbb-5b23-4cc2-8811-72e3c271783f",
   "metadata": {},
   "source": [
    "# Continuous Edge Weights - Transition Probabilities"
   ]
  },
  {
   "cell_type": "markdown",
   "id": "48f341d3-eeee-446e-be8f-17d0049b986d",
   "metadata": {},
   "source": [
    "## Function Definitions"
   ]
  },
  {
   "cell_type": "code",
   "execution_count": null,
   "id": "9e225d15-f1a5-461d-800b-151b847e4bf7",
   "metadata": {},
   "outputs": [],
   "source": []
  },
  {
   "cell_type": "markdown",
   "id": "2dabfba8-3e7f-4e88-acf4-a97618ea47a7",
   "metadata": {},
   "source": [
    "## Simulation"
   ]
  },
  {
   "cell_type": "code",
   "execution_count": 2,
   "id": "0fcb65c0-98f9-4458-a3dd-e667f01a1f11",
   "metadata": {},
   "outputs": [],
   "source": [
    "num_samples = 1000\n",
    "lam = 0.7\n",
    "offspring_dist = lambda: np.random.poisson(lam)\n",
    "edge_dist = lambda: np.random.uniform(0,1)"
   ]
  },
  {
   "cell_type": "code",
   "execution_count": 6,
   "id": "415c3935-4511-473c-8ddb-c832e9a589cf",
   "metadata": {
    "scrolled": true
   },
   "outputs": [
    {
     "name": "stdout",
     "output_type": "stream",
     "text": [
      "{3: (0, 0.9735632083291947, None, None), 2: (0.9735632083291947, 0.5149527263497861, 3, None), 1: (1.488515934678981, 0.9534208564580703, 2, None), 0: (2.441936791137051, 1, 1, None)}\n"
     ]
    },
    {
     "ename": "AttributeError",
     "evalue": "'tuple' object has no attribute 'items'",
     "output_type": "error",
     "traceback": [
      "\u001b[1;31m---------------------------------------------------------------------------\u001b[0m",
      "\u001b[1;31mAttributeError\u001b[0m                            Traceback (most recent call last)",
      "Cell \u001b[1;32mIn[6], line 11\u001b[0m\n\u001b[0;32m      9\u001b[0m tups \u001b[38;5;241m=\u001b[39m util\u001b[38;5;241m.\u001b[39mpath_cover(tree, root\u001b[38;5;241m=\u001b[39m\u001b[38;5;241m0\u001b[39m, return_tuples\u001b[38;5;241m=\u001b[39m\u001b[38;5;28;01mTrue\u001b[39;00m)\n\u001b[0;32m     10\u001b[0m \u001b[38;5;66;03m#Z = {e:tup[1] for e,tup in tups}\u001b[39;00m\n\u001b[1;32m---> 11\u001b[0m Z \u001b[38;5;241m=\u001b[39m {e:tup[\u001b[38;5;241m1\u001b[39m] \u001b[38;5;28;01mfor\u001b[39;00m e,tup \u001b[38;5;129;01min\u001b[39;00m \u001b[43mtups\u001b[49m\u001b[38;5;241;43m.\u001b[39;49m\u001b[43mitems\u001b[49m()}\n",
      "\u001b[1;31mAttributeError\u001b[0m: 'tuple' object has no attribute 'items'"
     ]
    }
   ],
   "source": [
    "for _ in range(num_samples):\n",
    "    # Generate tree\n",
    "    tree = nx.Graph(GWBP(dist=offspring_dist, MAXLEVEL=10))\n",
    "    for u,v in tree.edges():\n",
    "        tree[u][v]['weight'] = edge_dist()\n",
    "    \n",
    "    # Get Z values\n",
    "    # TODO - this doesn't work in a really weird way...\n",
    "    tups = util.path_cover(tree, root=0, return_tuples=True)\n",
    "    #Z = {e:tup[1] for e,tup in tups}\n",
    "    Z = {e:tup[1] for e,tup in tups.items()}"
   ]
  },
  {
   "cell_type": "code",
   "execution_count": null,
   "id": "b197d2c4-ecc4-4dff-a446-210092d38e8e",
   "metadata": {},
   "outputs": [],
   "source": [
    "type(tups)"
   ]
  },
  {
   "cell_type": "code",
   "execution_count": 5,
   "id": "b3fb569b-87fb-4c70-a04f-9cdd3bbf7104",
   "metadata": {},
   "outputs": [
    {
     "name": "stdout",
     "output_type": "stream",
     "text": [
      "3\n",
      "8\n",
      "9\n",
      "7\n",
      "6\n",
      "5\n",
      "4\n",
      "2\n",
      "1\n",
      "0\n"
     ]
    }
   ],
   "source": [
    "for x in tups:\n",
    "    print(x)"
   ]
  },
  {
   "cell_type": "code",
   "execution_count": null,
   "id": "14cc48de-4fda-4d15-9c7d-dab651f65328",
   "metadata": {},
   "outputs": [],
   "source": []
  }
 ],
 "metadata": {
  "kernelspec": {
   "display_name": "Python 3 (ipykernel)",
   "language": "python",
   "name": "python3"
  },
  "language_info": {
   "codemirror_mode": {
    "name": "ipython",
    "version": 3
   },
   "file_extension": ".py",
   "mimetype": "text/x-python",
   "name": "python",
   "nbconvert_exporter": "python",
   "pygments_lexer": "ipython3",
   "version": "3.9.7"
  }
 },
 "nbformat": 4,
 "nbformat_minor": 5
}
