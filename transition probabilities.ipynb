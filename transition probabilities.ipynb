{
 "cells": [
  {
   "cell_type": "code",
   "execution_count": 1,
   "id": "8aa01f71-95ac-40fb-a799-4a3686478b61",
   "metadata": {},
   "outputs": [],
   "source": [
    "import numpy as np\n",
    "import matplotlib.pyplot as plt\n",
    "import networkx as nx\n",
    "import random\n",
    "import copy\n",
    "\n",
    "import sys\n",
    "sys.path.append(\"Fall 2024\")\n",
    "\n",
    "import kmax as kx\n",
    "import utility as util\n",
    "from hierarchy import *"
   ]
  },
  {
   "cell_type": "markdown",
   "id": "80a09fbb-5b23-4cc2-8811-72e3c271783f",
   "metadata": {},
   "source": [
    "# Continuous Edge Weights - Transition Probabilities"
   ]
  },
  {
   "cell_type": "markdown",
   "id": "48f341d3-eeee-446e-be8f-17d0049b986d",
   "metadata": {},
   "source": [
    "## Function Definitions"
   ]
  },
  {
   "cell_type": "code",
   "execution_count": 2,
   "id": "b158020a-ad79-41cd-8f20-5397fe0f434e",
   "metadata": {},
   "outputs": [],
   "source": [
    "def get_section(Z_val):\n",
    "    if Z_val <= 0:\n",
    "        return 0\n",
    "    else:\n",
    "        section_bounds = np.linspace(0.0, 1.0, num_sections)\n",
    "        return int(Z_val // (1 / num_sections))"
   ]
  },
  {
   "cell_type": "markdown",
   "id": "2dabfba8-3e7f-4e88-acf4-a97618ea47a7",
   "metadata": {},
   "source": [
    "## Simulation"
   ]
  },
  {
   "cell_type": "code",
   "execution_count": 3,
   "id": "0fcb65c0-98f9-4458-a3dd-e667f01a1f11",
   "metadata": {},
   "outputs": [],
   "source": [
    "num_samples = 1000\n",
    "lam = 0.7\n",
    "offspring_dist = lambda: np.random.poisson(lam)\n",
    "edge_dist = lambda: np.random.uniform(0,1)"
   ]
  },
  {
   "cell_type": "code",
   "execution_count": 4,
   "id": "bd0a4481-a4d9-4b9d-913e-cf77ff9bd0cf",
   "metadata": {},
   "outputs": [],
   "source": [
    "# Setup transition count matrix\n",
    "num_sections = 4\n",
    "transition_counts = np.zeros(shape=(num_sections+1,num_sections+1),\n",
    "                             dtype=int)"
   ]
  },
  {
   "cell_type": "code",
   "execution_count": 5,
   "id": "415c3935-4511-473c-8ddb-c832e9a589cf",
   "metadata": {
    "scrolled": true
   },
   "outputs": [],
   "source": [
    "for _ in range(num_samples):\n",
    "    # Generate tree\n",
    "    tree = nx.Graph(GWBP(dist=offspring_dist, MAXLEVEL=10))\n",
    "    for u,v in tree.edges():\n",
    "        tree[u][v]['weight'] = edge_dist()\n",
    "\n",
    "    if tree.number_of_nodes() == 1:\n",
    "        transition_counts[0][0] += 1\n",
    "        continue\n",
    "    \n",
    "    # Get Z values, children\n",
    "    tups = util.path_cover(tree, root=0, return_tuples=True)\n",
    "    Z = {v:tup[1] for v,tup in tups}\n",
    "    v1 = {v:tup[2] for v,tup in tups}\n",
    "    v2 = {v:tup[3] for v,tup in tups}\n",
    "\n",
    "    current_node = v1[0] # first max child of root 0\n",
    "    while True:\n",
    "        current_section = get_section(Z[current_node]) + 1\n",
    "        if v1[current_node] is not None:\n",
    "            v1_section = get_section(Z[v1[current_node]]) + 1\n",
    "            transition_counts[current_section][v1_section] += 1\n",
    "            if Z[v1[current_node]] < 0:\n",
    "                break\n",
    "            else:\n",
    "                current_node = v1[current_node]\n",
    "        else:\n",
    "            transition_counts[current_section][0] += 1\n",
    "            break"
   ]
  },
  {
   "cell_type": "code",
   "execution_count": 6,
   "id": "42540071-0cc2-4dca-b667-ef58eb1a7393",
   "metadata": {},
   "outputs": [
    {
     "data": {
      "text/plain": [
       "array([[492,   0,   0,   0,   0],\n",
       "       [ 95,  34,  31,  37,  36],\n",
       "       [148,  31,  32,  23,  27],\n",
       "       [118,  39,  35,  26,  23],\n",
       "       [130,  21,  32,  24,  36]])"
      ]
     },
     "execution_count": 6,
     "metadata": {},
     "output_type": "execute_result"
    }
   ],
   "source": [
    "transition_counts"
   ]
  },
  {
   "cell_type": "code",
   "execution_count": 7,
   "id": "d0bb1e7b-fb44-4ab9-874a-6ac02a83c691",
   "metadata": {},
   "outputs": [],
   "source": [
    "my_shape = transition_counts.shape\n",
    "transition_probs = np.ndarray(shape=my_shape, dtype=float)\n",
    "for i in range(my_shape[0]):\n",
    "    for j in range(my_shape[1]):\n",
    "        transition_probs[i][j] = transition_counts[i][j] / num_samples"
   ]
  },
  {
   "cell_type": "markdown",
   "id": "3986f841-65cb-45fb-a679-ba76a4be2b0b",
   "metadata": {},
   "source": [
    "### TODO - adjust probabilities so that `transition_probs` sums to 1"
   ]
  },
  {
   "cell_type": "code",
   "execution_count": 8,
   "id": "edc5a107-42b5-4c12-81e4-6db273442843",
   "metadata": {},
   "outputs": [
    {
     "data": {
      "text/plain": [
       "array([[0.492, 0.   , 0.   , 0.   , 0.   ],\n",
       "       [0.095, 0.034, 0.031, 0.037, 0.036],\n",
       "       [0.148, 0.031, 0.032, 0.023, 0.027],\n",
       "       [0.118, 0.039, 0.035, 0.026, 0.023],\n",
       "       [0.13 , 0.021, 0.032, 0.024, 0.036]])"
      ]
     },
     "execution_count": 8,
     "metadata": {},
     "output_type": "execute_result"
    }
   ],
   "source": [
    "transition_probs"
   ]
  },
  {
   "cell_type": "code",
   "execution_count": 9,
   "id": "680164eb-9012-45ec-8667-e587f139bf16",
   "metadata": {},
   "outputs": [
    {
     "data": {
      "text/plain": [
       "array([0.983, 0.125, 0.13 , 0.11 , 0.122])"
      ]
     },
     "execution_count": 9,
     "metadata": {},
     "output_type": "execute_result"
    }
   ],
   "source": [
    "sum(transition_probs)"
   ]
  },
  {
   "cell_type": "code",
   "execution_count": 10,
   "id": "98229e5b-e153-4d22-8e5e-f5d5661b4814",
   "metadata": {},
   "outputs": [
    {
     "ename": "TypeError",
     "evalue": "bar3d() missing 5 required positional arguments: 'y', 'z', 'dx', 'dy', and 'dz'",
     "output_type": "error",
     "traceback": [
      "\u001b[1;31m---------------------------------------------------------------------------\u001b[0m",
      "\u001b[1;31mTypeError\u001b[0m                                 Traceback (most recent call last)",
      "Cell \u001b[1;32mIn[10], line 3\u001b[0m\n\u001b[0;32m      1\u001b[0m fig \u001b[38;5;241m=\u001b[39m plt\u001b[38;5;241m.\u001b[39mfigure(figsize\u001b[38;5;241m=\u001b[39m(\u001b[38;5;241m8\u001b[39m, \u001b[38;5;241m3\u001b[39m))\n\u001b[0;32m      2\u001b[0m ax \u001b[38;5;241m=\u001b[39m fig\u001b[38;5;241m.\u001b[39madd_subplot(\u001b[38;5;241m111\u001b[39m, projection\u001b[38;5;241m=\u001b[39m\u001b[38;5;124m'\u001b[39m\u001b[38;5;124m3d\u001b[39m\u001b[38;5;124m'\u001b[39m)\n\u001b[1;32m----> 3\u001b[0m \u001b[43max\u001b[49m\u001b[38;5;241;43m.\u001b[39;49m\u001b[43mbar3d\u001b[49m\u001b[43m(\u001b[49m\u001b[43mtransition_probs\u001b[49m\u001b[43m)\u001b[49m\n",
      "File \u001b[1;32m~\\AppData\\Roaming\\Python\\Python39\\site-packages\\matplotlib\\__init__.py:1473\u001b[0m, in \u001b[0;36m_preprocess_data.<locals>.inner\u001b[1;34m(ax, data, *args, **kwargs)\u001b[0m\n\u001b[0;32m   1470\u001b[0m \u001b[38;5;129m@functools\u001b[39m\u001b[38;5;241m.\u001b[39mwraps(func)\n\u001b[0;32m   1471\u001b[0m \u001b[38;5;28;01mdef\u001b[39;00m \u001b[38;5;21minner\u001b[39m(ax, \u001b[38;5;241m*\u001b[39margs, data\u001b[38;5;241m=\u001b[39m\u001b[38;5;28;01mNone\u001b[39;00m, \u001b[38;5;241m*\u001b[39m\u001b[38;5;241m*\u001b[39mkwargs):\n\u001b[0;32m   1472\u001b[0m     \u001b[38;5;28;01mif\u001b[39;00m data \u001b[38;5;129;01mis\u001b[39;00m \u001b[38;5;28;01mNone\u001b[39;00m:\n\u001b[1;32m-> 1473\u001b[0m         \u001b[38;5;28;01mreturn\u001b[39;00m func(\n\u001b[0;32m   1474\u001b[0m             ax,\n\u001b[0;32m   1475\u001b[0m             \u001b[38;5;241m*\u001b[39m\u001b[38;5;28mmap\u001b[39m(sanitize_sequence, args),\n\u001b[0;32m   1476\u001b[0m             \u001b[38;5;241m*\u001b[39m\u001b[38;5;241m*\u001b[39m{k: sanitize_sequence(v) \u001b[38;5;28;01mfor\u001b[39;00m k, v \u001b[38;5;129;01min\u001b[39;00m kwargs\u001b[38;5;241m.\u001b[39mitems()})\n\u001b[0;32m   1478\u001b[0m     bound \u001b[38;5;241m=\u001b[39m new_sig\u001b[38;5;241m.\u001b[39mbind(ax, \u001b[38;5;241m*\u001b[39margs, \u001b[38;5;241m*\u001b[39m\u001b[38;5;241m*\u001b[39mkwargs)\n\u001b[0;32m   1479\u001b[0m     auto_label \u001b[38;5;241m=\u001b[39m (bound\u001b[38;5;241m.\u001b[39marguments\u001b[38;5;241m.\u001b[39mget(label_namer)\n\u001b[0;32m   1480\u001b[0m                   \u001b[38;5;129;01mor\u001b[39;00m bound\u001b[38;5;241m.\u001b[39mkwargs\u001b[38;5;241m.\u001b[39mget(label_namer))\n",
      "\u001b[1;31mTypeError\u001b[0m: bar3d() missing 5 required positional arguments: 'y', 'z', 'dx', 'dy', and 'dz'"
     ]
    },
    {
     "data": {
      "image/png": "[encoded data removed]",
      "text/plain": [
       "<Figure size 800x300 with 1 Axes>"
      ]
     },
     "metadata": {},
     "output_type": "display_data"
    }
   ],
   "source": [
    "fig = plt.figure(figsize=(8, 3))\n",
    "ax = fig.add_subplot(111, projection='3d')\n",
    "ax.bar3d(transition_probs)"
   ]
  },
  {
   "cell_type": "code",
   "execution_count": null,
   "id": "229a682b-277a-452a-9bec-55a9f6222b17",
   "metadata": {},
   "outputs": [],
   "source": []
  }
 ],
 "metadata": {
  "kernelspec": {
   "display_name": "Python 3 (ipykernel)",
   "language": "python",
   "name": "python3"
  },
  "language_info": {
   "codemirror_mode": {
    "name": "ipython",
    "version": 3
   },
   "file_extension": ".py",
   "mimetype": "text/x-python",
   "name": "python",
   "nbconvert_exporter": "python",
   "pygments_lexer": "ipython3",
   "version": "3.9.7"
  }
 },
 "nbformat": 4,
 "nbformat_minor": 5
}
