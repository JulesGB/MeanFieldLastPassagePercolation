{
 "cells": [
  {
   "cell_type": "code",
   "execution_count": 68,
   "id": "8aa01f71-95ac-40fb-a799-4a3686478b61",
   "metadata": {},
   "outputs": [],
   "source": [
    "import numpy as np\n",
    "import matplotlib.pyplot as plt\n",
    "import networkx as nx\n",
    "import random\n",
    "import copy\n",
    "\n",
    "import sys\n",
    "sys.path.append(\"Fall 2024\")\n",
    "\n",
    "import kmax as kx\n",
    "import utility as util\n",
    "from hierarchy import *"
   ]
  },
  {
   "cell_type": "markdown",
   "id": "80a09fbb-5b23-4cc2-8811-72e3c271783f",
   "metadata": {},
   "source": [
    "# Continuous Edge Weights - Transition Probabilities"
   ]
  },
  {
   "cell_type": "markdown",
   "id": "48f341d3-eeee-446e-be8f-17d0049b986d",
   "metadata": {},
   "source": [
    "## Function Definitions"
   ]
  },
  {
   "cell_type": "code",
   "execution_count": null,
   "id": "9e225d15-f1a5-461d-800b-151b847e4bf7",
   "metadata": {},
   "outputs": [],
   "source": []
  },
  {
   "cell_type": "markdown",
   "id": "2dabfba8-3e7f-4e88-acf4-a97618ea47a7",
   "metadata": {},
   "source": [
    "## Simulation"
   ]
  },
  {
   "cell_type": "code",
   "execution_count": 2,
   "id": "0fcb65c0-98f9-4458-a3dd-e667f01a1f11",
   "metadata": {},
   "outputs": [],
   "source": [
    "num_samples = 1000\n",
    "lam = 0.7\n",
    "offspring_dist = lambda: np.random.poisson(lam)\n",
    "edge_dist = lambda: np.random.uniform(0,1)"
   ]
  },
  {
   "cell_type": "code",
   "execution_count": 34,
   "id": "bd0a4481-a4d9-4b9d-913e-cf77ff9bd0cf",
   "metadata": {},
   "outputs": [],
   "source": [
    "# Setup transition count matrix\n",
    "num_sections = 4\n",
    "transition_counts = np.zeros(shape=(num_sections+1,num_sections+1),\n",
    "                             dtype=int)"
   ]
  },
  {
   "cell_type": "code",
   "execution_count": 64,
   "id": "b158020a-ad79-41cd-8f20-5397fe0f434e",
   "metadata": {},
   "outputs": [],
   "source": [
    "def get_section(Z_val):\n",
    "    if Z_val <= 0:\n",
    "        return 0\n",
    "    else:\n",
    "        section_bounds = np.linspace(0.0, 1.0, num_sections)\n",
    "        sec = 0\n",
    "        while section_bounds[sec] < Z_val:\n",
    "            sec += 1\n",
    "        return sec"
   ]
  },
  {
   "cell_type": "code",
   "execution_count": 66,
   "id": "415c3935-4511-473c-8ddb-c832e9a589cf",
   "metadata": {
    "scrolled": true
   },
   "outputs": [],
   "source": [
    "for _ in range(num_samples):\n",
    "    # Generate tree\n",
    "    tree = nx.Graph(GWBP(dist=offspring_dist, MAXLEVEL=10))\n",
    "    for u,v in tree.edges():\n",
    "        tree[u][v]['weight'] = edge_dist()\n",
    "\n",
    "    if tree.number_of_nodes() == 1:\n",
    "        transition_counts[0][0] += 1\n",
    "        continue\n",
    "    \n",
    "    # Get Z values, children\n",
    "    tups = util.path_cover(tree, root=0, return_tuples=True)\n",
    "    Z = {v:tup[1] for v,tup in tups}\n",
    "    v1 = {v:tup[2] for v,tup in tups}\n",
    "    v2 = {v:tup[3] for v,tup in tups}\n",
    "\n",
    "    current_node = v1[0]\n",
    "    while True:\n",
    "        current_section = get_section(Z[current_node])\n",
    "        if v1[current_node] is not None:\n",
    "            v1_section = get_section(Z[v1[current_node]])\n",
    "            transition_counts[current_section][v1_section] += 1\n",
    "            current_node = v1[current_node]\n",
    "        else:\n",
    "            transition_counts[current_section][0] += 1\n",
    "            break"
   ]
  },
  {
   "cell_type": "code",
   "execution_count": 67,
   "id": "42540071-0cc2-4dca-b667-ef58eb1a7393",
   "metadata": {},
   "outputs": [
    {
     "data": {
      "text/plain": [
       "array([[4538,    0,    7,   27,    0],\n",
       "       [ 161,   38,   47,   59,    0],\n",
       "       [ 180,   47,   50,   43,    0],\n",
       "       [ 201,   66,   56,   35,    0],\n",
       "       [   0,    0,    0,    0,    0]])"
      ]
     },
     "execution_count": 67,
     "metadata": {},
     "output_type": "execute_result"
    }
   ],
   "source": [
    "transition_counts"
   ]
  },
  {
   "cell_type": "code",
   "execution_count": 82,
   "id": "d0bb1e7b-fb44-4ab9-874a-6ac02a83c691",
   "metadata": {},
   "outputs": [
    {
     "name": "stdout",
     "output_type": "stream",
     "text": [
      "[[0. 0. 0. 0. 0.]\n",
      " [0. 0. 0. 0. 0.]\n",
      " [0. 0. 0. 0. 0.]\n",
      " [0. 0. 0. 0. 0.]\n",
      " [0. 0. 0. 0. 0.]]\n",
      "[[4.538 0.    0.007 0.027 0.   ]\n",
      " [0.161 0.038 0.047 0.059 0.   ]\n",
      " [0.18  0.047 0.05  0.043 0.   ]\n",
      " [0.201 0.066 0.056 0.035 0.   ]\n",
      " [0.    0.    0.    0.    0.   ]]\n"
     ]
    }
   ],
   "source": [
    "my_shape = transition_counts.shape\n",
    "transition_probs = np.ndarray(shape=my_shape, dtype=float)\n",
    "print(transition_probs)\n",
    "for i in range(my_shape[0]):\n",
    "    for j in range(my_shape[1]):\n",
    "        transition_probs[i][j] = transition_counts[i][j] / num_samples\n",
    "print(transition_probs)"
   ]
  },
  {
   "cell_type": "code",
   "execution_count": null,
   "id": "edc5a107-42b5-4c12-81e4-6db273442843",
   "metadata": {},
   "outputs": [],
   "source": []
  }
 ],
 "metadata": {
  "kernelspec": {
   "display_name": "Python 3 (ipykernel)",
   "language": "python",
   "name": "python3"
  },
  "language_info": {
   "codemirror_mode": {
    "name": "ipython",
    "version": 3
   },
   "file_extension": ".py",
   "mimetype": "text/x-python",
   "name": "python",
   "nbconvert_exporter": "python",
   "pygments_lexer": "ipython3",
   "version": "3.9.7"
  }
 },
 "nbformat": 4,
 "nbformat_minor": 5
}
