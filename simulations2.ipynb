{
 "cells": [
  {
   "cell_type": "code",
   "execution_count": null,
   "id": "332499cc-98ed-4437-a9cb-f6f027aa742b",
   "metadata": {},
   "outputs": [],
   "source": []
  },
  {
   "cell_type": "markdown",
   "id": "81e89a3d-3c06-435e-9e0c-c2d9b54c2e53",
   "metadata": {},
   "source": [
    "# Simulations 2\n",
    "\n",
    "## Length case ($\\omega_e=1$)"
   ]
  },
  {
   "cell_type": "markdown",
   "id": "c97bf42f-a27e-476f-9aee-7429a8b6e63d",
   "metadata": {},
   "source": [
    "### Histogram"
   ]
  },
  {
   "cell_type": "code",
   "execution_count": null,
   "id": "c11c2eb2-919e-4537-8a98-4a90d7e56ac9",
   "metadata": {},
   "outputs": [],
   "source": []
  },
  {
   "cell_type": "markdown",
   "id": "ed679003-ca1f-42bc-b7d9-d5dd57724428",
   "metadata": {},
   "source": [
    "### q-q Plot"
   ]
  },
  {
   "cell_type": "code",
   "execution_count": null,
   "id": "accfe888-104a-4912-8890-94d31d4b5378",
   "metadata": {},
   "outputs": [],
   "source": []
  },
  {
   "cell_type": "markdown",
   "id": "8d2f2ea9-c21c-4d19-a222-78df0128ac77",
   "metadata": {},
   "source": [
    "### $\\frac{\\text{Var}(X_n)}{n}\\underset{n\\to\\infty}{\\longrightarrow}\\text{const}(\\lambda)$"
   ]
  },
  {
   "cell_type": "code",
   "execution_count": null,
   "id": "43df9d32-aa91-42fd-8c44-7aa9e500e4fd",
   "metadata": {},
   "outputs": [],
   "source": []
  },
  {
   "cell_type": "markdown",
   "id": "69920fd1-f61a-4570-b1db-3431f47accbd",
   "metadata": {},
   "source": [
    "## Weight case ($\\omega_e\\sim\\mathcal{U}(0,1)$)"
   ]
  },
  {
   "cell_type": "code",
   "execution_count": null,
   "id": "060c9303-0bdf-44e6-b42d-eae6701909c1",
   "metadata": {},
   "outputs": [],
   "source": []
  }
 ],
 "metadata": {
  "kernelspec": {
   "display_name": "Python 3 (ipykernel)",
   "language": "python",
   "name": "python3"
  },
  "language_info": {
   "codemirror_mode": {
    "name": "ipython",
    "version": 3
   },
   "file_extension": ".py",
   "mimetype": "text/x-python",
   "name": "python",
   "nbconvert_exporter": "python",
   "pygments_lexer": "ipython3",
   "version": "3.9.7"
  }
 },
 "nbformat": 4,
 "nbformat_minor": 5
}
