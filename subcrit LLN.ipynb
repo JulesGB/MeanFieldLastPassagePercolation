{
 "cells": [
  {
   "cell_type": "code",
   "execution_count": 1,
   "id": "f51a6f39-6c9a-475d-a08d-033a7af126b2",
   "metadata": {},
   "outputs": [],
   "source": [
    "import numpy as np\n",
    "import matplotlib.pyplot as plt\n",
    "import networkx as nx\n",
    "import random\n",
    "import statistics\n",
    "import kmax as kx\n",
    "import utility as util\n",
    "from hierarchy import *\n",
    "from scipy.optimize import fsolve\n",
    "from IPython.core.debugger import set_trace"
   ]
  },
  {
   "cell_type": "markdown",
   "id": "22e1f7af-d355-490e-87bd-d5d9d12df4a0",
   "metadata": {
    "jp-MarkdownHeadingCollapsed": true
   },
   "source": [
    "### LLN stuff"
   ]
  },
  {
   "cell_type": "code",
   "execution_count": 2,
   "id": "475bd415-14b0-497d-aa31-91acee11cc28",
   "metadata": {},
   "outputs": [],
   "source": [
    "LAM = 0.9"
   ]
  },
  {
   "cell_type": "code",
   "execution_count": 3,
   "id": "2d7c281a-c552-4dfc-9b6e-2cfee3940914",
   "metadata": {},
   "outputs": [],
   "source": [
    "def iterate_W_N(num_samples=10**5):\n",
    "    Ws = []\n",
    "    Ns = []\n",
    "    for _ in range(num_samples):\n",
    "        # Poisson Branching\n",
    "        sample_tree = nx.Graph(GWBP(LAM, MAXLEVEL=100))\n",
    "        for u,v in sample_tree.edges():\n",
    "            sample_tree[u][v]['weight'] = 1\n",
    "\n",
    "        # Get X for sample_tree\n",
    "        _,_,W,_ = util.path_cover(sample_tree, list(sample_tree.nodes())[0])\n",
    "        Ws.append(W)\n",
    "        Ns.append(sample_tree.number_of_nodes())\n",
    "    return Ws, Ns"
   ]
  },
  {
   "cell_type": "code",
   "execution_count": 4,
   "id": "1c4d6cc4-55ea-41a2-b6d8-df38145b365c",
   "metadata": {},
   "outputs": [
    {
     "ename": "KeyboardInterrupt",
     "evalue": "",
     "output_type": "error",
     "traceback": [
      "\u001b[1;31m---------------------------------------------------------------------------\u001b[0m",
      "\u001b[1;31mKeyboardInterrupt\u001b[0m                         Traceback (most recent call last)",
      "Cell \u001b[1;32mIn[4], line 1\u001b[0m\n\u001b[1;32m----> 1\u001b[0m Ws, Ns \u001b[38;5;241m=\u001b[39m \u001b[43miterate_W_N\u001b[49m\u001b[43m(\u001b[49m\u001b[43m)\u001b[49m\n",
      "Cell \u001b[1;32mIn[3], line 6\u001b[0m, in \u001b[0;36miterate_W_N\u001b[1;34m(num_samples)\u001b[0m\n\u001b[0;32m      3\u001b[0m Ns \u001b[38;5;241m=\u001b[39m []\n\u001b[0;32m      4\u001b[0m \u001b[38;5;28;01mfor\u001b[39;00m _ \u001b[38;5;129;01min\u001b[39;00m \u001b[38;5;28mrange\u001b[39m(num_samples):\n\u001b[0;32m      5\u001b[0m     \u001b[38;5;66;03m# Poisson Branching\u001b[39;00m\n\u001b[1;32m----> 6\u001b[0m     sample_tree \u001b[38;5;241m=\u001b[39m nx\u001b[38;5;241m.\u001b[39mGraph(\u001b[43mGWBP\u001b[49m\u001b[43m(\u001b[49m\u001b[43mLAM\u001b[49m\u001b[43m,\u001b[49m\u001b[43m \u001b[49m\u001b[43mMAXLEVEL\u001b[49m\u001b[38;5;241;43m=\u001b[39;49m\u001b[38;5;241;43m100\u001b[39;49m\u001b[43m)\u001b[49m)\n\u001b[0;32m      7\u001b[0m     \u001b[38;5;28;01mfor\u001b[39;00m u,v \u001b[38;5;129;01min\u001b[39;00m sample_tree\u001b[38;5;241m.\u001b[39medges():\n\u001b[0;32m      8\u001b[0m         sample_tree[u][v][\u001b[38;5;124m'\u001b[39m\u001b[38;5;124mweight\u001b[39m\u001b[38;5;124m'\u001b[39m] \u001b[38;5;241m=\u001b[39m \u001b[38;5;241m1\u001b[39m\n",
      "File \u001b[1;32m~\\Desktop\\MeanFieldLastPassagePercolation\\hierarchy.py:145\u001b[0m, in \u001b[0;36mGWBP\u001b[1;34m(a, MAXLEVEL, dist)\u001b[0m\n\u001b[0;32m    142\u001b[0m \u001b[38;5;28;01mfor\u001b[39;00m j \u001b[38;5;129;01min\u001b[39;00m \u001b[38;5;28mrange\u001b[39m(level[i\u001b[38;5;241m-\u001b[39m\u001b[38;5;241m1\u001b[39m]\u001b[38;5;241m+\u001b[39m\u001b[38;5;241m1\u001b[39m, level[i]\u001b[38;5;241m+\u001b[39m\u001b[38;5;241m1\u001b[39m):\n\u001b[0;32m    143\u001b[0m     \u001b[38;5;66;03m#X = np.random.poisson(a)\u001b[39;00m\n\u001b[0;32m    144\u001b[0m     X \u001b[38;5;241m=\u001b[39m dist()\n\u001b[1;32m--> 145\u001b[0m     \u001b[38;5;28;01mfor\u001b[39;00m v \u001b[38;5;129;01min\u001b[39;00m \u001b[38;5;28mrange\u001b[39m(level[i\u001b[38;5;241m+\u001b[39m\u001b[38;5;241m1\u001b[39m]\u001b[38;5;241m+\u001b[39m\u001b[38;5;241m1\u001b[39m, \u001b[43mlevel\u001b[49m\u001b[43m[\u001b[49m\u001b[43mi\u001b[49m\u001b[38;5;241;43m+\u001b[39;49m\u001b[38;5;241;43m1\u001b[39;49m\u001b[43m]\u001b[49m\u001b[38;5;241;43m+\u001b[39;49m\u001b[43mX\u001b[49m\u001b[38;5;241;43m+\u001b[39;49m\u001b[38;5;241;43m1\u001b[39;49m):\n\u001b[0;32m    146\u001b[0m         G\u001b[38;5;241m.\u001b[39madd_node(v, level \u001b[38;5;241m=\u001b[39m i\u001b[38;5;241m+\u001b[39m\u001b[38;5;241m1\u001b[39m)\n\u001b[0;32m    147\u001b[0m         G\u001b[38;5;241m.\u001b[39madd_edge(j, v)\n",
      "\u001b[1;31mKeyboardInterrupt\u001b[0m: "
     ]
    }
   ],
   "source": [
    "Ws, Ns = iterate_W_N()"
   ]
  },
  {
   "cell_type": "code",
   "execution_count": null,
   "id": "a67505dd-f417-4513-a0d0-20f80fde1bc1",
   "metadata": {},
   "outputs": [],
   "source": [
    "def solve_p(lam):\n",
    "    func = lambda p: [p[0] * np.exp(lam*p[0]) - (1 + lam * p[0])]\n",
    "    return float(fsolve(func, 1)[0])"
   ]
  },
  {
   "cell_type": "code",
   "execution_count": null,
   "id": "9076953d-8247-4a07-bc69-589b07e0de46",
   "metadata": {},
   "outputs": [],
   "source": [
    "p = solve_p(LAM)\n",
    "EX_EN = 2-(2+LAM*p)*math.exp(-LAM*p)\n",
    "EX_EN"
   ]
  },
  {
   "cell_type": "code",
   "execution_count": null,
   "id": "6fab9276-a566-4736-a4bb-55a526b116c3",
   "metadata": {},
   "outputs": [],
   "source": [
    "W_N = sum(Ws) / sum(Ns)\n",
    "W_N"
   ]
  },
  {
   "cell_type": "code",
   "execution_count": null,
   "id": "41d9be4c-a2df-4c4a-bcbe-180a5bb457c5",
   "metadata": {},
   "outputs": [],
   "source": [
    "(W_N - EX_EN) / EX_EN"
   ]
  },
  {
   "cell_type": "markdown",
   "id": "ae6135d4-13cb-4094-85a9-57d73ecbf493",
   "metadata": {},
   "source": [
    "### $\\frac{W}{N}$ varying MAXLEVEL"
   ]
  },
  {
   "cell_type": "code",
   "execution_count": 5,
   "id": "743a6e15-a761-4d74-b747-fa90dffe4891",
   "metadata": {},
   "outputs": [],
   "source": [
    "def maxlev_iter(lam, K, num_samples=1000):\n",
    "    W_Ns = []\n",
    "    for _ in range(num_samples):\n",
    "        # Poisson Branching\n",
    "        sample_tree, is_finite = GWBP_finite_flag(lam, MAXLEVEL=K)\n",
    "        sample_tree = nx.Graph(sample_tree)\n",
    "        for u,v in sample_tree.edges():\n",
    "            sample_tree[u][v]['weight'] = 1\n",
    "\n",
    "        if not is_finite:\n",
    "            # Get X for sample_tree\n",
    "            _,_,W,_ = util.path_cover(sample_tree, list(sample_tree.nodes())[0])\n",
    "            W_Ns.append(W / sample_tree.number_of_nodes())\n",
    "    return sum(W_Ns) / len(W_Ns)"
   ]
  },
  {
   "cell_type": "code",
   "execution_count": 7,
   "id": "a7f7d04c-432d-46f6-9a37-d95e92d6d317",
   "metadata": {},
   "outputs": [
    {
     "name": "stdout",
     "output_type": "stream",
     "text": [
      "6 & 0.692 & 0.681 & 0.662 & 0.639 & 0.62 \\\\ \\hline\n",
      "8 & 0.71 & 0.689 & 0.67 & 0.648 & 0.619 \\\\ \\hline\n",
      "10 & 0.72 & 0.699 & 0.673 & 0.646 & 0.618 \\\\ \\hline\n",
      "12 & 0.722 & 0.702 & 0.674 & 0.644 & 0.617 \\\\ \\hline\n",
      "14 & 0.724 & 0.702 & 0.673 & 0.644 & 0.616 \\\\ \\hline\n"
     ]
    }
   ],
   "source": [
    "for K in np.arange(6,15,2):\n",
    "    vals = []\n",
    "    for lam in np.arange(1.1, 2, 0.2):\n",
    "        vals.append(maxlev_iter(lam, K))\n",
    "    print(f'{K} & '+ ' & '.join([str(x) for x in np.round(vals, decimals=3)]) + ' \\\\\\\\ \\hline')"
   ]
  },
  {
   "cell_type": "code",
   "execution_count": null,
   "id": "19bd4aa9-b984-4c9a-b51e-7888eeef21e0",
   "metadata": {},
   "outputs": [],
   "source": [
    "' & '.join([str(x) for x in np.arange(1.1, 2, 0.2)])"
   ]
  },
  {
   "cell_type": "code",
   "execution_count": null,
   "id": "4578c68e-8ce1-497a-a821-7efb5be5d35d",
   "metadata": {},
   "outputs": [],
   "source": []
  }
 ],
 "metadata": {
  "kernelspec": {
   "display_name": "Python 3 (ipykernel)",
   "language": "python",
   "name": "python3"
  },
  "language_info": {
   "codemirror_mode": {
    "name": "ipython",
    "version": 3
   },
   "file_extension": ".py",
   "mimetype": "text/x-python",
   "name": "python",
   "nbconvert_exporter": "python",
   "pygments_lexer": "ipython3",
   "version": "3.9.7"
  }
 },
 "nbformat": 4,
 "nbformat_minor": 5
}
