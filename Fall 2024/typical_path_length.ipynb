{
 "cells": [
  {
   "cell_type": "code",
   "execution_count": 1,
   "id": "cd57e627-3502-42e9-90f6-c0168ac012de",
   "metadata": {},
   "outputs": [],
   "source": [
    "import numpy as np\n",
    "import matplotlib.pyplot as plt\n",
    "import networkx as nx\n",
    "import random\n",
    "import statistics\n",
    "import kmax as kx\n",
    "import utility as util\n",
    "from hierarchy import *\n",
    "from scipy.optimize import fsolve\n",
    "from IPython.core.debugger import set_trace\n",
    "import scipy.stats as stats\n",
    "import pylab\n",
    "import math"
   ]
  },
  {
   "cell_type": "code",
   "execution_count": 2,
   "id": "e61e216c",
   "metadata": {},
   "outputs": [],
   "source": [
    "num_samples = 10**6"
   ]
  },
  {
   "cell_type": "markdown",
   "id": "be863e3f-256a-4ffe-b6f0-72df456f191a",
   "metadata": {},
   "source": [
    "### Function Definitions"
   ]
  },
  {
   "cell_type": "code",
   "execution_count": 3,
   "id": "889be52d-af48-4318-9c37-233bf053c6ce",
   "metadata": {},
   "outputs": [],
   "source": [
    "# Calculate the length of the path passing \n",
    "# through `node` in `path_cover`\n",
    "def path_seg_length(tree, path_cover, node):\n",
    "    if len(path_cover) == 0:\n",
    "        return 0\n",
    "    \n",
    "    path_subgraph = tree.edge_subgraph(path_cover)\n",
    "    if node not in path_subgraph:\n",
    "        return 0\n",
    "\n",
    "    # node_connected_component returns a list of nodes, so we subtract 1 to get the number of edges\n",
    "    return len(nx.node_connected_component(path_subgraph, node)) - 1\n",
    "\n",
    "def all_path_seg_lengths(tree):\n",
    "    hist_data = {}\n",
    "    component_root = 0\n",
    "    path_cover,_,_,_ = util.path_cover(tree, root=component_root)\n",
    "    path_subgraph = tree.edge_subgraph(path_cover)\n",
    "    for path in nx.connected_components(path_subgraph):\n",
    "        seg_len = len(path) - 1\n",
    "        if seg_len not in hist_data:\n",
    "            hist_data[seg_len] = 1\n",
    "        else:\n",
    "            hist_data[seg_len] += 1\n",
    "    return hist_data\n",
    "\n",
    "def root_seg_length(tree):\n",
    "    path_cover,_,_,_ = util.path_cover(tree, root=0)\n",
    "    return path_seg_length(tree, path_cover, 0)\n",
    "\n",
    "def root_seg_length_z(tree):\n",
    "    path_cover,_,_,z_root = util.path_cover(tree, root=0)\n",
    "    return path_seg_length(tree, path_cover, 0), z_root"
   ]
  },
  {
   "cell_type": "code",
   "execution_count": 4,
   "id": "2fa9e7b6-c5ea-4c7d-b6f4-91502cf7c09a",
   "metadata": {},
   "outputs": [],
   "source": [
    "def run_samples(graph_gen, sup_crit=False):\n",
    "    root_seg_lengths_z0 = []\n",
    "    root_seg_lengths_z1 = []\n",
    "    while len(root_seg_lengths_z0) + len(root_seg_lengths_z1) < num_samples:\n",
    "        sample_tree = graph_gen()\n",
    "        for u,v in sample_tree.edges():\n",
    "            sample_tree[u][v]['weight'] = 1\n",
    "\n",
    "        if sup_crit and nx.diameter(sample_tree) < 10:\n",
    "            continue\n",
    "    \n",
    "        seg_len, z_root = root_seg_length_z(sample_tree)\n",
    "        if z_root == 0:\n",
    "            root_seg_lengths_z0.append(seg_len)\n",
    "        else:\n",
    "            root_seg_lengths_z1.append(seg_len)\n",
    "    return root_seg_lengths_z0, root_seg_lengths_z1"
   ]
  },
  {
   "cell_type": "markdown",
   "id": "49b0fbf8-6f9f-48b7-9955-1b062fd1bbc5",
   "metadata": {},
   "source": [
    "#### Theoretical value approximations"
   ]
  },
  {
   "cell_type": "code",
   "execution_count": 5,
   "id": "6d4e2dd3-15f7-4c23-b88e-8b32b07b1c5f",
   "metadata": {},
   "outputs": [],
   "source": [
    "def solve_p(lam):\n",
    "    func = lambda p: [p[0] * np.exp(lam*p[0]) - (1 + lam * p[0])]\n",
    "    return float(fsolve(func, 1)[0])\n",
    "\n",
    "def solve_r(lam):\n",
    "    p = solve_p(lam)\n",
    "    return lam * np.exp(-lam * p)\n",
    "\n",
    "def compute_L(k, lam):\n",
    "    p = solve_p(lam)\n",
    "    r = solve_r(lam)\n",
    "    return (1-r) * r**(k-2) * (p * r**2 + (1-p) * (1-r) * max(0,(k-1)))\n",
    "\n",
    "def compute_L_one(k, lam):\n",
    "    p = solve_p(lam)\n",
    "    r = lam * np.exp(-lam * p)\n",
    "    return  (1-r) * math.pow(r, k)\n",
    "               \n",
    "def compute_L_zero(k, lam):\n",
    "    p = solve_p(lam)\n",
    "    r = lam * np.exp(-lam * p)\n",
    "    return  math.pow(1-r, 2) * math.pow(r, k - 2) * max(0, (k-1))\n",
    "\n",
    "def compute_mu_from_lambda(lam):\n",
    "    e_val = lam * math.exp(-1 * lam)\n",
    "    func = lambda mu : [mu[0] * math.exp(-1 * mu[0]) - e_val]\n",
    "    if lam > 1:\n",
    "        return float(fsolve(func, 0)[0])\n",
    "    else:\n",
    "        return float(fsolve(func, 2)[0])"
   ]
  },
  {
   "cell_type": "code",
   "execution_count": 6,
   "id": "577d0626",
   "metadata": {},
   "outputs": [],
   "source": [
    "def draw_tree(tree, layout, draw_path=True):\n",
    "    rooted_tree = nx.bfs_tree(tree, 0)\n",
    "    \n",
    "    #nx.draw_networkx_nodes(tree, pos=layout, node_size=29)\n",
    "    nx.draw_networkx_labels(tree, pos=layout, font_size=10, font_color=\"tab:blue\")\n",
    "    \n",
    "    if draw_path:\n",
    "        path_cover,_,X,_=util.path_cover(tree)\n",
    "        nx.draw_networkx_edges(rooted_tree, pos=layout, edgelist=path_cover, edge_color=\"tab:red\", arrows=True)\n",
    "        \n",
    "        other_edges = [(u,v) for u,v in rooted_tree.edges() if (u,v) not in path_cover and (v,u) not in path_cover]\n",
    "        nx.draw_networkx_edges(rooted_tree, pos=layout, edgelist=other_edges)\n",
    "    else:\n",
    "        nx.draw_networkx_edges(rooted_tree, pos=layout)\n",
    "\n",
    "def generate_histogram(dataset, func, bins = np.arange(0,100,1), title=None):\n",
    "    theoretical_seg_lengths = [func(k) for k in bins]\n",
    "    plt.figure(figsize=(6,6))\n",
    "    plt.bar(bins, theoretical_seg_lengths, color='red', width=1, label='Theoretical')\n",
    "    plt.hist(dataset, bins=bins, density=True, edgecolor = 'black', linewidth=1.2, color = 'lightblue', alpha=0.5, label='Experimental')\n",
    "    if title:\n",
    "        plt.title(title, fontfamily=['Serif'])\n",
    "    else:\n",
    "        #plt.title(f\"Path segment length\\n(GWBP, $\\\\lambda={LAM}$, {num_samples} samples)\", fontfamily=['Serif'])\n",
    "        asdf = None\n",
    "    plt.xticks(bins)\n",
    "    plt.xlabel(\"Root path length\", fontfamily=['Serif'], fontsize=12)\n",
    "    plt.ylabel(\"Probability\", fontfamily=['Serif'], fontsize=12)\n",
    "    plt.legend(loc='upper right')\n",
    "    plt.show()"
   ]
  },
  {
   "cell_type": "markdown",
   "id": "43eff66f",
   "metadata": {
    "jp-MarkdownHeadingCollapsed": true
   },
   "source": [
    "### Single Sample"
   ]
  },
  {
   "cell_type": "code",
   "execution_count": 7,
   "id": "9f5656ef-5f69-495a-94d4-88d3e733a848",
   "metadata": {},
   "outputs": [],
   "source": [
    "#sample_tree = nx.fast_gnp_random_graph(n, lam/n)\n",
    "sample_tree = nx.random_labeled_tree(30)\n",
    "for u,v in sample_tree.edges():\n",
    "    sample_tree[u][v]['weight'] = 1\n",
    "\n",
    "seg_length_counts = all_path_seg_lengths(sample_tree)"
   ]
  },
  {
   "cell_type": "code",
   "execution_count": 8,
   "id": "df3a7360-d4be-4bd2-89a1-983705d4b49b",
   "metadata": {},
   "outputs": [
    {
     "data": {
      "text/plain": [
       "{7: 1, 9: 1, 2: 1, 3: 1, 1: 1}"
      ]
     },
     "execution_count": 8,
     "metadata": {},
     "output_type": "execute_result"
    }
   ],
   "source": [
    "seg_length_counts"
   ]
  },
  {
   "cell_type": "code",
   "execution_count": 9,
   "id": "cb425fb8-cd01-4ac1-aa7e-c3e60f0ed584",
   "metadata": {},
   "outputs": [
    {
     "data": {
      "image/png": "[encoded data removed]",
      "text/plain": [
       "<Figure size 640x480 with 1 Axes>"
      ]
     },
     "metadata": {},
     "output_type": "display_data"
    }
   ],
   "source": [
    "draw_tree(sample_tree, hierarchyc_pos(sample_tree, root=0))"
   ]
  },
  {
   "cell_type": "markdown",
   "id": "e0d584d0-599b-4abe-b275-c7797a21df13",
   "metadata": {},
   "source": [
    "# Galton-Watson Branching Process - $\\text{Pois}(\\lambda)$"
   ]
  },
  {
   "cell_type": "markdown",
   "id": "9dc7a152-9cbd-4108-a6ea-a031e896e9aa",
   "metadata": {},
   "source": [
    "## Subcritical case $(\\lambda < 1)$"
   ]
  },
  {
   "cell_type": "code",
   "execution_count": 10,
   "id": "b53ee1a6-851b-4df5-8cd4-e071fe642a2d",
   "metadata": {},
   "outputs": [],
   "source": [
    "LAM = 0.7"
   ]
  },
  {
   "cell_type": "markdown",
   "id": "78f2e12a-6752-4b9b-b6fd-9dbadb9cf723",
   "metadata": {},
   "source": [
    "### Average Segment Length"
   ]
  },
  {
   "cell_type": "code",
   "execution_count": 11,
   "id": "cdfb1c87-e5d8-4685-8004-e4fa764bf605",
   "metadata": {},
   "outputs": [],
   "source": [
    "seg_lengths = []\n",
    "for _ in range(num_samples):\n",
    "    # Poisson Branching\n",
    "    sample_tree = nx.Graph(GWBP(LAM, MAXLEVEL=100))\n",
    "    for u,v in sample_tree.edges():\n",
    "        sample_tree[u][v]['weight'] = 1\n",
    "\n",
    "    for (l,c) in all_path_seg_lengths(sample_tree).items():\n",
    "        for _ in range(c):\n",
    "            seg_lengths.append(l)"
   ]
  },
  {
   "cell_type": "markdown",
   "id": "dfd62f6b-b57d-4524-ab13-ec32d67e94e9",
   "metadata": {},
   "source": [
    "### Root segment length"
   ]
  },
  {
   "cell_type": "code",
   "execution_count": 12,
   "id": "86252a11-42a7-46fd-bb62-a7cbc257e925",
   "metadata": {},
   "outputs": [],
   "source": [
    "root_seg_lengths = []\n",
    "for _ in range(num_samples):\n",
    "    sample_tree = nx.Graph(GWBP(LAM, MAXLEVEL=100))\n",
    "    for u,v in sample_tree.edges():\n",
    "        sample_tree[u][v]['weight'] = 1\n",
    "\n",
    "    root_seg_lengths.append(root_seg_length(sample_tree))"
   ]
  },
  {
   "cell_type": "code",
   "execution_count": 13,
   "id": "74271d94-8001-44e3-8d1b-12d9c62c143d",
   "metadata": {},
   "outputs": [
    {
     "data": {
      "image/png": "[encoded data removed]",
      "text/plain": [
       "<Figure size 600x600 with 1 Axes>"
      ]
     },
     "metadata": {},
     "output_type": "display_data"
    }
   ],
   "source": [
    "theoretical_func = lambda k: compute_L(k, LAM)\n",
    "generate_histogram(root_seg_lengths, func=theoretical_func, bins=np.arange(0,20,1))"
   ]
  },
  {
   "cell_type": "markdown",
   "id": "4f2847b9-6986-4282-9552-813e94110c9e",
   "metadata": {},
   "source": [
    "### Root segmenth length (split by z)\n",
    "\n",
    "Let $L$ be a random variable denoting the length of the path segment passing through the root of a GWBP tree $(\\text{Pois}(\\lambda))$.\n",
    "\n",
    "Further, let $L_0$ denote the length of the root path segment $L$ conditioning on $z_{\\text{root}}=0$.\n",
    "\n",
    "Similarly, let $L_1$ denote the length of the root path segment $L$ conditioning on $z_{\\text{root}}=1$.\n",
    "\n",
    "Then we expect\n",
    "$$\n",
    "\\begin{align*}\n",
    "L_0 &\\sim \\text{geom}(1-r) \\oplus \\text{geom}(1-r), \\\\\n",
    "L_1 &\\sim \\text{geom}(1-r) - 1,\n",
    "\\end{align*}\n",
    "$$\n",
    "where $r = \\lambda e^{-\\lambda p}$ and $p$ is the solution to the equation\n",
    "$$\n",
    "p = (1+\\lambda p) e^{-\\lambda p} = \\mathbb{P}(z_{\\text{root}}=1).\n",
    "$$"
   ]
  },
  {
   "cell_type": "code",
   "execution_count": 14,
   "id": "803247a4-3091-4e2f-8f1a-4f8d6cce8819",
   "metadata": {},
   "outputs": [
    {
     "data": {
      "text/plain": [
       "0.874376"
      ]
     },
     "execution_count": 14,
     "metadata": {},
     "output_type": "execute_result"
    }
   ],
   "source": [
    "func = lambda: nx.Graph(GWBP(0.7, MAXLEVEL=100))\n",
    "rsl_z0, rsl_z1 = run_samples(func)\n",
    "len(rsl_z1) / num_samples"
   ]
  },
  {
   "cell_type": "markdown",
   "id": "e5173fd1-cc5f-459a-81d0-6f7db5f1c15d",
   "metadata": {},
   "source": [
    "We should have $\\mathbb{P}(z_{\\text{root}}=1)=p$.\n",
    "Let's compute a sample probability and compare:"
   ]
  },
  {
   "cell_type": "code",
   "execution_count": 15,
   "id": "5de23179",
   "metadata": {},
   "outputs": [
    {
     "name": "stdout",
     "output_type": "stream",
     "text": [
      "p = 0.8741606425132523\n",
      "# z(root)=0 = 125624\n",
      "# z(root)=1 = 874376\n",
      "sample P(z(root)=1) = 0.874376\n"
     ]
    }
   ],
   "source": [
    "print(f'p = {solve_p(0.7)}')\n",
    "print(f'# z(root)=0 = {len(rsl_z0)}')\n",
    "print(f'# z(root)=1 = {len(rsl_z1)}')\n",
    "print(f'sample P(z(root)=1) = {len(rsl_z1) / num_samples}')"
   ]
  },
  {
   "cell_type": "code",
   "execution_count": 16,
   "id": "d668006f",
   "metadata": {},
   "outputs": [
    {
     "data": {
      "image/png": "[encoded data removed]",
      "text/plain": [
       "<Figure size 600x600 with 1 Axes>"
      ]
     },
     "metadata": {},
     "output_type": "display_data"
    }
   ],
   "source": [
    "zero_dist = lambda k: compute_L_zero(k, LAM)\n",
    "generate_histogram(rsl_z0, func=zero_dist, bins=np.arange(0,20,1))\n",
    "#                   title = f\"Path segment length, $z=0$\\n(GWBP, $\\\\lambda={LAM}$, {num_samples} samples)\")"
   ]
  },
  {
   "cell_type": "code",
   "execution_count": 17,
   "id": "757823b6",
   "metadata": {},
   "outputs": [
    {
     "data": {
      "image/png": "[encoded data removed]",
      "text/plain": [
       "<Figure size 600x600 with 1 Axes>"
      ]
     },
     "metadata": {},
     "output_type": "display_data"
    }
   ],
   "source": [
    "one_dist = lambda k: compute_L_one(k, LAM)\n",
    "generate_histogram(rsl_z1, func=one_dist, bins=np.arange(0,20,1))\n",
    "#                   title = f\"Path segment length, $z=1$\\n(GWBP, $\\\\lambda={LAM}$, {num_samples} samples)\")"
   ]
  },
  {
   "cell_type": "markdown",
   "id": "d2a9d8b6-b7c8-4d7a-b091-1bc311271a7b",
   "metadata": {},
   "source": [
    "## Supercritical case $(\\lambda > 1)$\n",
    "Note: we discard any trees that \"go extinct\" before MAXLEVEL (i.e., have level < MAXLEVEL = 10)."
   ]
  },
  {
   "cell_type": "code",
   "execution_count": 18,
   "id": "af6dfc4d-e116-4d28-88ff-844b933e61fb",
   "metadata": {},
   "outputs": [],
   "source": [
    "def supcrit_X_N(lam, my_max):\n",
    "    finite_vals = []\n",
    "    infinite_vals = []\n",
    "    for _ in range(num_samples):\n",
    "        # Poisson Branching\n",
    "        sample_tree, is_finite = GWBP_finite_flag(lam, MAXLEVEL=my_max)\n",
    "        sample_tree = nx.Graph(sample_tree)\n",
    "        for u,v in sample_tree.edges():\n",
    "            sample_tree[u][v]['weight'] = 1\n",
    "    \n",
    "        _,_,X,_ = util.path_cover(sample_tree,root=0)\n",
    "        val = X / sample_tree.number_of_nodes() # X / n\n",
    "        if is_finite:\n",
    "            finite_vals.append(val)\n",
    "        else:\n",
    "            infinite_vals.append(val)\n",
    "    return finite_vals, infinite_vals"
   ]
  },
  {
   "cell_type": "code",
   "execution_count": 19,
   "id": "ce2cb448-4560-414f-86a8-3c5bbf01f28b",
   "metadata": {},
   "outputs": [],
   "source": [
    "def supcrit_infinite_hist(inf_vals):\n",
    "    mean = np.mean(inf_vals)\n",
    "    std = np.var(inf_vals) ** 0.5\n",
    "    yy = [(x - mean) / std for x in inf_vals]\n",
    "    xx = np.linspace(-3,3,100)\n",
    "    kde = stats.gaussian_kde(inf_vals)\n",
    "    plt.hist(yy, bins=xx, density=True)\n",
    "    #plt.plot(xx, kde(xx))\n",
    "    plt.plot(xx, stats.norm.pdf(xx, 0, 1))\n",
    "    plt.title('Histogram of $\\\\frac{X}{N}$ when tree is infinite\\n' + f'(GWBP, $\\\\lambda={LAM}$, MAXLEVEL={my_maxlevel}, {num_samples} samples)')\n",
    "    plt.xlabel('$X/N$')\n",
    "    plt.ylabel('Density')\n",
    "    plt.show()\n",
    "    return mean, std"
   ]
  },
  {
   "cell_type": "code",
   "execution_count": null,
   "id": "e72c784e",
   "metadata": {},
   "outputs": [],
   "source": [
    "LAM = 1.5\n",
    "my_maxlevel = 15\n",
    "finite_vals, infinite_vals = supcrit_X_N(LAM, my_maxlevel)"
   ]
  },
  {
   "cell_type": "code",
   "execution_count": null,
   "id": "20effd7e",
   "metadata": {},
   "outputs": [],
   "source": [
    "supcrit_infinite_hist(infinite_vals)"
   ]
  },
  {
   "cell_type": "code",
   "execution_count": null,
   "id": "4dc68f07-ebcc-46d0-ba7e-ec20f0647bab",
   "metadata": {},
   "outputs": [],
   "source": [
    "solve_p(LAM)"
   ]
  },
  {
   "cell_type": "code",
   "execution_count": null,
   "id": "b3cba569-2f48-4882-99ef-ad236735a1ad",
   "metadata": {},
   "outputs": [],
   "source": [
    "# Without discarding (matches theoretical value of p better)\n",
    "func = lambda: nx.Graph(GWBP(LAM, MAXLEVEL=10))\n",
    "rsl_z0_no_disc, rsl_z1_no_disc = run_samples(func, sup_crit=False)\n",
    "len(rsl_z1_no_disc) / num_samples"
   ]
  },
  {
   "cell_type": "code",
   "execution_count": null,
   "id": "4a6a0cd8-7c53-43f4-991f-ceb9cdbb7273",
   "metadata": {},
   "outputs": [],
   "source": [
    "# With discarding\n",
    "rsl_z0, rsl_z1 = run_samples(func, sup_crit=True)\n",
    "rsls = rsl_z0 + rsl_z1\n",
    "len(rsl_z1) / num_samples"
   ]
  },
  {
   "cell_type": "code",
   "execution_count": null,
   "id": "c8c3ae98-4d99-4ac7-a36f-ef40e59dcb58",
   "metadata": {},
   "outputs": [],
   "source": [
    "generate_histogram(rsls, lambda k: compute_L(k, LAM), bins=np.arange(0,20,1),\n",
    "                  title=f'Root segment length\\n(Poisson GWBP, $\\\\lambda={LAM}$, {num_samples} samples)')"
   ]
  },
  {
   "cell_type": "code",
   "execution_count": null,
   "id": "33e4c3f7-7326-470c-984b-6a06b4215a8b",
   "metadata": {},
   "outputs": [],
   "source": [
    "generate_histogram(rsl_z0, lambda k: compute_L_zero(k, LAM), bins=np.arange(0,20,1),\n",
    "                   title = f\"Root segment length, $z = 0$\\n(Poisson GWBP, $\\\\lambda={LAM}$, {num_samples} samples)\")\n",
    "generate_histogram(rsl_z1, lambda k: compute_L_one(k, LAM), bins=np.arange(0,20,1),\n",
    "                   title= f\"Root segment length, $z = 1$\\n(Poisson GWBP, $\\\\lambda={LAM}$, {num_samples} samples)\")"
   ]
  },
  {
   "cell_type": "markdown",
   "id": "82d253ef-4c09-40bc-b165-d17622fa1005",
   "metadata": {
    "jp-MarkdownHeadingCollapsed": true
   },
   "source": [
    "# Galton-Watson Branching Process - $\\mathcal{U}(0,0,1,2)$ (subcritical)"
   ]
  },
  {
   "cell_type": "markdown",
   "id": "5cb6f917-c9fb-4f38-8cbd-5847b4a716ba",
   "metadata": {},
   "source": [
    "### Theoretical distribution"
   ]
  },
  {
   "cell_type": "code",
   "execution_count": null,
   "id": "b519db18-93b2-422b-8790-b9770ed982eb",
   "metadata": {},
   "outputs": [],
   "source": [
    "def compute_m_unif(t):\n",
    "    prob_xi_k = 0.25 # xi = U{0,1,2,3}\n",
    "    return sum(t**k * prob_xi_k for k in [0,1,2,0])\n",
    "\n",
    "def compute_m_prime_unif(t):\n",
    "    prob_xi_k = 0.25 # xi = U{0,1,2,3}\n",
    "    return sum(k * t**(k-1) * prob_xi_k for k in [1,2])\n",
    "\n",
    "def solve_p_unif():\n",
    "    func = lambda p : compute_m_unif(1-p) + p * compute_m_prime_unif(1-p) - p\n",
    "    return float(fsolve(func, 1)[0])\n",
    "\n",
    "def compute_r_unif():\n",
    "    p = solve_p_unif()\n",
    "    return compute_m_prime_unif(1-p)\n",
    "\n",
    "def compute_L_zero_unif(k):\n",
    "    # k >= 2\n",
    "    r = compute_r_unif()\n",
    "    return math.pow(1-r, 2) * math.pow(r, k - 2) * max(0, (k-1))\n",
    "\n",
    "def compute_L_one_unif(k):\n",
    "    # k >= 0\n",
    "    r = compute_r_unif()\n",
    "    return (1-r) * math.pow(r, k)               \n",
    "\n",
    "def compute_L_unif(k):\n",
    "    p = solve_p_unif()\n",
    "    return p * compute_L_one_unif(k) + (1-p) * compute_L_zero_unif(k)"
   ]
  },
  {
   "cell_type": "code",
   "execution_count": null,
   "id": "b0909fa5-b80b-4665-acf5-2d9e24d2aa20",
   "metadata": {},
   "outputs": [],
   "source": [
    "solve_p_unif()"
   ]
  },
  {
   "cell_type": "code",
   "execution_count": null,
   "id": "ef6dc690-9448-41aa-b29c-0ba85e57e1da",
   "metadata": {},
   "outputs": [],
   "source": [
    "compute_r_unif()"
   ]
  },
  {
   "cell_type": "markdown",
   "id": "cbf27ab0-8583-48c1-9806-ee1efe180951",
   "metadata": {},
   "source": [
    "### Experimental data"
   ]
  },
  {
   "cell_type": "code",
   "execution_count": null,
   "id": "380e6a98-76c9-49a7-a171-f8f8eb4cc65e",
   "metadata": {},
   "outputs": [],
   "source": [
    "def run_samples_uniform():\n",
    "    rsl_z0 = []\n",
    "    rsl_z1 = []\n",
    "    while len(rsl_z0)+len(rsl_z1) < num_samples:\n",
    "        unif_dist = lambda: np.random.choice(3, 1, p=[0.5,0.25,0.25])[0] # xi = U{0,0,1,2}\n",
    "        sample_tree = nx.Graph(GWBP(dist=unif_dist, MAXLEVEL=100))\n",
    "        for u,v in sample_tree.edges():\n",
    "            sample_tree[u][v]['weight'] = 1\n",
    "\n",
    "        seg_len, z_root = root_seg_length_z(sample_tree)\n",
    "        if z_root == 0:\n",
    "            rsl_z0.append(seg_len)\n",
    "        else:\n",
    "            rsl_z1.append(seg_len)\n",
    "    return rsl_z0, rsl_z1"
   ]
  },
  {
   "cell_type": "code",
   "execution_count": null,
   "id": "7ba9116d-3c5b-4101-a394-7437a1f7b9f7",
   "metadata": {},
   "outputs": [],
   "source": [
    "rsl_z0_unif, rsl_z1_unif = run_samples_uniform()\n",
    "rsls_unif = rsl_z0_unif + rsl_z1_unif"
   ]
  },
  {
   "cell_type": "code",
   "execution_count": null,
   "id": "f139a13e-4603-477a-88fa-400e32c24fb1",
   "metadata": {},
   "outputs": [],
   "source": [
    "generate_histogram(rsls_unif, func=lambda k: compute_L_unif(k), bins=np.arange(0,20,1),\n",
    "                   title=f\"Root segment length\\n(Uniform GWBP, {num_samples} samples)\")"
   ]
  },
  {
   "cell_type": "code",
   "execution_count": null,
   "id": "210a1de6-c503-4554-8858-672aefa25d99",
   "metadata": {},
   "outputs": [],
   "source": [
    "generate_histogram(rsl_z0_unif, func=lambda k: compute_L_zero_unif(k), bins=np.arange(0,20,1),\n",
    "                   title=f\"Root segment length, $z=0$\\n(Uniform GWBP, {num_samples} samples)\")\n",
    "generate_histogram(rsl_z1_unif, func=lambda k: compute_L_one_unif(k), bins=np.arange(0,20,1),\n",
    "                   title=f\"Root segment length, $z=1$\\n(Uniform GWBP, {num_samples} samples)\")"
   ]
  },
  {
   "cell_type": "markdown",
   "id": "dceb7131-23a8-45e0-bfff-6057e5ee3a29",
   "metadata": {},
   "source": [
    "# Galton-Watson Branching Process - $\\mathcal{U}(0,1,2,3)$ (supercritical)"
   ]
  },
  {
   "cell_type": "code",
   "execution_count": null,
   "id": "44479a00-8e6f-4f70-9e13-0c8e344aecac",
   "metadata": {},
   "outputs": [],
   "source": [
    "LAM = 1.5"
   ]
  },
  {
   "cell_type": "code",
   "execution_count": null,
   "id": "5cad09a4-3e5f-400c-b304-3e4d940f593e",
   "metadata": {},
   "outputs": [],
   "source": [
    "def supcrit_X_unif(lam, my_max):\n",
    "    finite_vals = []\n",
    "    infinite_vals = []\n",
    "    for _ in range(num_samples):\n",
    "        unif_dist = lambda: np.random.choice([0,1,2,3]) # xi = U{0,1,2,3}\n",
    "        sample_tree, is_finite = GWBP_finite_flag(lam, MAXLEVEL=my_max, dist=unif_dist)\n",
    "        sample_tree = nx.Graph(sample_tree)\n",
    "        for u,v in sample_tree.edges():\n",
    "            sample_tree[u][v]['weight'] = 1\n",
    "    \n",
    "        _,_,X,_ = util.path_cover(sample_tree, root=0)\n",
    "        val = X\n",
    "        if is_finite:\n",
    "            finite_vals.append(val)\n",
    "        else:\n",
    "            infinite_vals.append(val)\n",
    "    return finite_vals, infinite_vals"
   ]
  },
  {
   "cell_type": "code",
   "execution_count": null,
   "id": "fe0bc05b-d287-43bd-af3e-d002d996076d",
   "metadata": {},
   "outputs": [],
   "source": [
    "fin_vals, inf_vals = supcrit_X_unif(LAM, 10)"
   ]
  },
  {
   "cell_type": "code",
   "execution_count": null,
   "id": "4b26c590-9668-4ea6-8efb-ab2f2c07100c",
   "metadata": {},
   "outputs": [],
   "source": [
    "bins = np.arange(0,20,1)\n",
    "plt.figure(figsize=(6,6))\n",
    "plt.hist(fin_vals, bins=bins, density=True,\n",
    "         edgecolor = 'black', linewidth=1.2, color = 'lightblue', alpha=0.5, label='Experimental')\n",
    "plt.xticks(bins)\n",
    "plt.title('MVDP in Extinct Trees\\n(Uniform{0,1,2,3}, '+f\"{num_samples} samples)\", fontfamily=['Serif'], fontsize=12)\n",
    "plt.xlabel(\"$W(\\emptyset)$\", fontfamily=['Serif'], fontsize=12)\n",
    "plt.ylabel(\"Probability\", fontfamily=['Serif'], fontsize=12)\n",
    "plt.show()"
   ]
  },
  {
   "cell_type": "code",
   "execution_count": null,
   "id": "95704214-33e0-41c1-9234-d1766695db68",
   "metadata": {},
   "outputs": [],
   "source": []
  }
 ],
 "metadata": {
  "kernelspec": {
   "display_name": "Python 3 (ipykernel)",
   "language": "python",
   "name": "python3"
  },
  "language_info": {
   "codemirror_mode": {
    "name": "ipython",
    "version": 3
   },
   "file_extension": ".py",
   "mimetype": "text/x-python",
   "name": "python",
   "nbconvert_exporter": "python",
   "pygments_lexer": "ipython3",
   "version": "3.11.6"
  }
 },
 "nbformat": 4,
 "nbformat_minor": 5
}
