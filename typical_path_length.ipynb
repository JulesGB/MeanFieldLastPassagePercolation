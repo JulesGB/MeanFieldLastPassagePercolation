{
 "cells": [
  {
   "cell_type": "code",
   "execution_count": null,
   "id": "cd57e627-3502-42e9-90f6-c0168ac012de",
   "metadata": {},
   "outputs": [],
   "source": [
    "import numpy as np\n",
    "import matplotlib.pyplot as plt\n",
    "import networkx as nx\n",
    "import random\n",
    "import statistics\n",
    "import kmax as kx\n",
    "import utility as util\n",
    "from hierarchy import *\n",
    "from scipy.optimize import fsolve\n",
    "from IPython.core.debugger import set_trace\n",
    "import scipy.stats as stats\n",
    "import pylab\n",
    "import statsmodels.api as sm\n",
    "import math"
   ]
  },
  {
   "cell_type": "code",
   "execution_count": null,
   "id": "e61e216c",
   "metadata": {},
   "outputs": [],
   "source": [
    "num_samples = 10000\n",
    "LAM = 0.7"
   ]
  },
  {
   "cell_type": "markdown",
   "id": "be863e3f-256a-4ffe-b6f0-72df456f191a",
   "metadata": {},
   "source": [
    "### Function Definitions"
   ]
  },
  {
   "cell_type": "code",
   "execution_count": null,
   "id": "889be52d-af48-4318-9c37-233bf053c6ce",
   "metadata": {},
   "outputs": [],
   "source": [
    "# Calculate the length of the path passing \n",
    "# through `node` in `path_cover`\n",
    "def path_seg_length(tree, path_cover, node):\n",
    "    if len(path_cover) == 0:\n",
    "        return 0\n",
    "    \n",
    "    path_subgraph = tree.edge_subgraph(path_cover)\n",
    "    if node not in path_subgraph:\n",
    "        return 0\n",
    "\n",
    "    # node_connected_component returns a list of nodes, so we subtract 1 to get the number of edges\n",
    "    return len(nx.node_connected_component(path_subgraph, node)) - 1\n",
    "\n",
    "def all_path_seg_lengths(tree):\n",
    "    hist_data = {}\n",
    "    component_root = 0\n",
    "    path_cover,_,_,_ = util.path_cover(tree, root=component_root)\n",
    "    path_subgraph = tree.edge_subgraph(path_cover)\n",
    "    for path in nx.connected_components(path_subgraph):\n",
    "        seg_len = len(path) - 1\n",
    "        if seg_len not in hist_data:\n",
    "            hist_data[seg_len] = 1\n",
    "        else:\n",
    "            hist_data[seg_len] += 1\n",
    "    \n",
    "    #seg_lengths = {node : path_seg_length(tree, path_covers[node], node) for node in tree.nodes()}\n",
    "\n",
    "    return hist_data\n",
    "\n",
    "def root_seg_length(tree):\n",
    "    path_cover,_,_,_ = util.path_cover(tree, root=0)\n",
    "    return path_seg_length(tree, path_cover, 0)\n",
    "\n",
    "def root_seg_length_z(tree):\n",
    "    path_cover,_,_,z_root = util.path_cover(tree, root=0)\n",
    "    return path_seg_length(tree, path_cover, 0), z_root\n",
    "\n",
    "def solve_p(lam):\n",
    "    func = lambda p: [p[0] * np.exp(lam*p[0]) - (1 + lam * p[0])]\n",
    "    return float(fsolve(func, 0)[0])\n",
    "\n",
    "def compute_L(k):\n",
    "    p = solve_p(LAM)\n",
    "    r = LAM * np.exp(-LAM * p)\n",
    "    return (1-r) * r**(k-2) * (p * r**2 + (1-p) * (1-r) * max(0,(k-1)))\n",
    "\n",
    "def compute_L_one(k):\n",
    "    p = solve_p(LAM)\n",
    "    r = LAM * np.exp(-LAM * p)\n",
    "    return p * (1-r) * math.pow(r, k)\n",
    "\n",
    "def compute_L_zero(k):\n",
    "    p = solve_p(LAM)\n",
    "    r = LAM * np.exp(-LAM * p)\n",
    "    return (1-p) * math.pow(1-r, 2) * math.pow(r, k - 2) * max(0, (k-1))"
   ]
  },
  {
   "cell_type": "code",
   "execution_count": null,
   "id": "577d0626",
   "metadata": {},
   "outputs": [],
   "source": [
    "def draw_tree(tree, layout, draw_path=True):\n",
    "    rooted_tree = nx.bfs_tree(tree, 0)\n",
    "    \n",
    "    #nx.draw_networkx_nodes(tree, pos=layout, node_size=29)\n",
    "    nx.draw_networkx_labels(tree, pos=layout, font_size=10, font_color=\"tab:blue\")\n",
    "    \n",
    "    if draw_path:\n",
    "        path_cover,_,X,_=util.path_cover(tree)\n",
    "        nx.draw_networkx_edges(rooted_tree, pos=layout, edgelist=path_cover, edge_color=\"tab:red\", arrows=True)\n",
    "        \n",
    "        other_edges = [(u,v) for u,v in rooted_tree.edges() if (u,v) not in path_cover and (v,u) not in path_cover]\n",
    "        nx.draw_networkx_edges(rooted_tree, pos=layout, edgelist=other_edges)\n",
    "    else:\n",
    "        nx.draw_networkx_edges(rooted_tree, pos=layout)\n",
    "\n",
    "def generate_histogram(dataset, func = compute_L, bins = np.arange(0,100,1)):\n",
    "    theoretical_seg_lengths = [func(b) * num_samples for b in bins]\n",
    "    plt.figure(figsize=(6,6))\n",
    "    plt.bar(bins, theoretical_seg_lengths, color='red', width=1)\n",
    "    plt.hist(dataset, bins=bins, edgecolor = 'black', linewidth=1.2, color = 'lightblue', alpha=0.5)\n",
    "    plt.title(f\"Path segment length histogram (GWBP, $\\lambda={LAM}$, {num_samples} samples)\", fontfamily=['Serif'])\n",
    "    plt.xticks(bins)\n",
    "    plt.xlabel(\"Path length in optimal path cover\", fontfamily=['Serif'], fontsize=12)\n",
    "    plt.ylabel(\"Occurences\", fontfamily=['Serif'], fontsize=12)\n",
    "    plt.show()"
   ]
  },
  {
   "cell_type": "markdown",
   "id": "43eff66f",
   "metadata": {},
   "source": [
    "### Single Sample"
   ]
  },
  {
   "cell_type": "code",
   "execution_count": null,
   "id": "9f5656ef-5f69-495a-94d4-88d3e733a848",
   "metadata": {},
   "outputs": [],
   "source": [
    "n = 30\n",
    "lam = 0.7\n",
    "#sample_tree = nx.fast_gnp_random_graph(n, lam/n)\n",
    "sample_tree = nx.random_labeled_tree(n)\n",
    "for u,v in sample_tree.edges():\n",
    "    sample_tree[u][v]['weight'] = 1\n",
    "\n",
    "seg_length_counts = all_path_seg_lengths(sample_tree)"
   ]
  },
  {
   "cell_type": "code",
   "execution_count": null,
   "id": "df3a7360-d4be-4bd2-89a1-983705d4b49b",
   "metadata": {},
   "outputs": [],
   "source": [
    "seg_length_counts"
   ]
  },
  {
   "cell_type": "code",
   "execution_count": null,
   "id": "cb425fb8-cd01-4ac1-aa7e-c3e60f0ed584",
   "metadata": {},
   "outputs": [],
   "source": [
    "draw_tree(sample_tree, hierarchyc_pos(sample_tree, root=0))"
   ]
  },
  {
   "cell_type": "markdown",
   "id": "9dc7a152-9cbd-4108-a6ea-a031e896e9aa",
   "metadata": {},
   "source": [
    "## Subcritical case $(\\lambda < 1)$"
   ]
  },
  {
   "cell_type": "markdown",
   "id": "78f2e12a-6752-4b9b-b6fd-9dbadb9cf723",
   "metadata": {},
   "source": [
    "### Average Segment Length"
   ]
  },
  {
   "cell_type": "code",
   "execution_count": null,
   "id": "cdfb1c87-e5d8-4685-8004-e4fa764bf605",
   "metadata": {},
   "outputs": [],
   "source": [
    "seg_lengths = []\n",
    "for _ in range(num_samples):\n",
    "    # Poisson Branching\n",
    "    sample_tree = nx.Graph(GWBP(LAM, MAXLEVEL=100))\n",
    "    for u,v in sample_tree.edges():\n",
    "        sample_tree[u][v]['weight'] = 1\n",
    "\n",
    "    for (l,c) in all_path_seg_lengths(sample_tree).items():\n",
    "        for _ in range(c):\n",
    "            seg_lengths.append(l)"
   ]
  },
  {
   "cell_type": "markdown",
   "id": "dfd62f6b-b57d-4524-ab13-ec32d67e94e9",
   "metadata": {},
   "source": [
    "### Root segment length"
   ]
  },
  {
   "cell_type": "code",
   "execution_count": null,
   "id": "86252a11-42a7-46fd-bb62-a7cbc257e925",
   "metadata": {},
   "outputs": [],
   "source": [
    "root_seg_lengths = []\n",
    "for _ in range(num_samples):\n",
    "    sample_tree = nx.Graph(GWBP(LAM, MAXLEVEL=100))\n",
    "    for u,v in sample_tree.edges():\n",
    "        sample_tree[u][v]['weight'] = 1\n",
    "\n",
    "    root_seg_lengths.append(root_seg_length(sample_tree))"
   ]
  },
  {
   "cell_type": "code",
   "execution_count": null,
   "id": "74271d94-8001-44e3-8d1b-12d9c62c143d",
   "metadata": {},
   "outputs": [],
   "source": [
    "generate_histogram(root_seg_lengths, bins=np.arange(0,20,1))"
   ]
  },
  {
   "cell_type": "markdown",
   "id": "4f2847b9-6986-4282-9552-813e94110c9e",
   "metadata": {},
   "source": [
    "### Root segmenth length (split by z)\n",
    "\n",
    "Let $L$ be a random variable denoting the length of the path segment passing through the root of a GWBP tree $(\\text{Pois}(\\lambda))$.\n",
    "\n",
    "Further, let $L_0$ denote the length of the root path segment $L$ conditioning on $z_{\\text{root}}=0$.\n",
    "\n",
    "Similarly, let $L_1$ denote the length of the root path segment $L$ conditioning on $z_{\\text{root}}=1$.\n",
    "\n",
    "Then we expect\n",
    "$$\n",
    "\\begin{align*}\n",
    "L_0 &\\sim \\text{geom}(1-r) \\oplus \\text{geom}(1-r), \\\\\n",
    "L_1 &\\sim \\text{geom}(1-r) - 1,\n",
    "\\end{align*}\n",
    "$$\n",
    "where $r = \\lambda e^{-\\lambda p}$ and $p$ is the solution to the equation\n",
    "$$\n",
    "p = (1+\\lambda p) e^{-\\lambda p}.\n",
    "$$"
   ]
  },
  {
   "cell_type": "code",
   "execution_count": null,
   "id": "2fa9e7b6-c5ea-4c7d-b6f4-91502cf7c09a",
   "metadata": {},
   "outputs": [],
   "source": [
    "root_seg_lengths_z0 = []\n",
    "root_seg_lengths_z1 = []\n",
    "for _ in range(num_samples):\n",
    "    sample_tree = nx.Graph(GWBP(LAM, MAXLEVEL=100))\n",
    "    for u,v in sample_tree.edges():\n",
    "        sample_tree[u][v]['weight'] = 1\n",
    "\n",
    "    seg_len, z_root = root_seg_length_z(sample_tree)\n",
    "    if z_root == 0:\n",
    "        root_seg_lengths_z0.append(seg_len)\n",
    "    else:\n",
    "        root_seg_lengths_z1.append(seg_len)"
   ]
  },
  {
   "cell_type": "markdown",
   "id": "e5173fd1-cc5f-459a-81d0-6f7db5f1c15d",
   "metadata": {},
   "source": [
    "We should have $\\mathbb{P}(z_{\\text{root}}=1)=p$.\n",
    "Let's compute a sample probability and compare:"
   ]
  },
  {
   "cell_type": "code",
   "execution_count": null,
   "id": "5de23179",
   "metadata": {},
   "outputs": [],
   "source": [
    "print(f'p = {solve_p(0.7)}')\n",
    "print(f'# z(root)=0 = {len(root_seg_lengths_z0)}')\n",
    "print(f'# z(root)=1 = {len(root_seg_lengths_z1)}')\n",
    "print(f'sample P(z(root)=1) = {len(root_seg_lengths_z1) / num_samples}')"
   ]
  },
  {
   "cell_type": "code",
   "execution_count": null,
   "id": "d668006f",
   "metadata": {},
   "outputs": [],
   "source": [
    "generate_histogram(root_seg_lengths_z0, func = compute_L_zero, bins=np.arange(0,20,1))"
   ]
  },
  {
   "cell_type": "code",
   "execution_count": null,
   "id": "757823b6",
   "metadata": {},
   "outputs": [],
   "source": [
    "generate_histogram(root_seg_lengths_z1, func = compute_L_one, bins=np.arange(0,20,1))"
   ]
  },
  {
   "cell_type": "markdown",
   "id": "d2a9d8b6-b7c8-4d7a-b091-1bc311271a7b",
   "metadata": {},
   "source": [
    "## Supercritical case $(\\lambda > 1)$"
   ]
  },
  {
   "cell_type": "code",
   "execution_count": null,
   "id": "4a6a0cd8-7c53-43f4-991f-ceb9cdbb7273",
   "metadata": {},
   "outputs": [],
   "source": []
  }
 ],
 "metadata": {
  "kernelspec": {
   "display_name": "Python 3 (ipykernel)",
   "language": "python",
   "name": "python3"
  },
  "language_info": {
   "codemirror_mode": {
    "name": "ipython",
    "version": 3
   },
   "file_extension": ".py",
   "mimetype": "text/x-python",
   "name": "python",
   "nbconvert_exporter": "python",
   "pygments_lexer": "ipython3",
   "version": "3.9.7"
  }
 },
 "nbformat": 4,
 "nbformat_minor": 5
}
