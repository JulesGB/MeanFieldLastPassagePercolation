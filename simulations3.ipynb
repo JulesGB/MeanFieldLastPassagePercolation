{
 "cells": [
  {
   "cell_type": "code",
   "execution_count": 1,
   "id": "cd57e627-3502-42e9-90f6-c0168ac012de",
   "metadata": {},
   "outputs": [],
   "source": [
    "import numpy as np\n",
    "import matplotlib.pyplot as plt\n",
    "import networkx as nx\n",
    "import random\n",
    "import statistics\n",
    "import kmax as kx\n",
    "import utility as util\n",
    "from hierarchy import *\n",
    "from scipy.optimize import fsolve\n",
    "from IPython.core.debugger import set_trace\n",
    "import scipy.stats as stats\n",
    "import pylab\n",
    "import statsmodels.api as sm"
   ]
  },
  {
   "cell_type": "code",
   "execution_count": 2,
   "id": "b5d69072-8fcd-4106-b258-c22ef5649aa6",
   "metadata": {},
   "outputs": [],
   "source": [
    "def draw_tree(tree, layout, draw_path=True):\n",
    "    rooted_tree = nx.bfs_tree(tree, 0)\n",
    "    \n",
    "    #nx.draw_networkx_nodes(tree, pos=layout, node_size=29)\n",
    "    nx.draw_networkx_labels(tree, pos=layout, font_size=10, font_color=\"tab:blue\")\n",
    "    \n",
    "    if draw_path:\n",
    "        path_cover,_,X=util.path_cover(tree)\n",
    "        nx.draw_networkx_edges(rooted_tree, pos=layout, edgelist=path_cover, edge_color=\"tab:red\", arrows=True)\n",
    "        \n",
    "        other_edges = [(u,v) for u,v in rooted_tree.edges() if (u,v) not in path_cover and (v,u) not in path_cover]\n",
    "        nx.draw_networkx_edges(rooted_tree, pos=layout, edgelist=other_edges)\n",
    "    else:\n",
    "        nx.draw_networkx_edges(rooted_tree, pos=layout)"
   ]
  },
  {
   "cell_type": "markdown",
   "id": "be863e3f-256a-4ffe-b6f0-72df456f191a",
   "metadata": {},
   "source": [
    "# Simulations 3\n",
    "\n",
    "## Goals:\n",
    "- Find path segment length for a typical vertex"
   ]
  },
  {
   "cell_type": "code",
   "execution_count": 3,
   "id": "889be52d-af48-4318-9c37-233bf053c6ce",
   "metadata": {},
   "outputs": [],
   "source": [
    "# Calculate the length of the path passing \n",
    "# through `node` in `path_cover`\n",
    "def path_seg_length(tree, path_cover, node):\n",
    "    if len(path_cover) == 0:\n",
    "        return 0\n",
    "    \n",
    "    path_subgraph = tree.edge_subgraph(path_cover)\n",
    "    if node not in path_subgraph:\n",
    "        return 0\n",
    "\n",
    "    # node_connected_component returns a list of nodes, so we subtract 1 to get the number of edges\n",
    "    return len(nx.node_connected_component(path_subgraph, node)) - 1\n",
    "\n",
    "def all_path_seg_lengths(tree):\n",
    "    path_covers = {}\n",
    "    for component in nx.connected_components(tree):\n",
    "        component_root = list(component)[0]\n",
    "        path_cover,_,_ = util.path_cover(tree, root=component_root)\n",
    "        for node in component:\n",
    "            path_covers[node] = path_cover\n",
    "    \n",
    "    return {node : path_seg_length(tree, path_covers[node], node) for node in tree.nodes()}"
   ]
  },
  {
   "cell_type": "code",
   "execution_count": 9,
   "id": "9f5656ef-5f69-495a-94d4-88d3e733a848",
   "metadata": {},
   "outputs": [
    {
     "name": "stdout",
     "output_type": "stream",
     "text": [
      "{0: 5, 1: 2, 2: 6, 3: 6, 4: 2, 5: 2, 6: 6, 7: 5, 8: 2, 9: 6, 10: 0, 11: 6, 12: 2, 13: 2, 14: 6, 15: 6, 16: 5, 17: 5, 18: 5, 19: 5}\n"
     ]
    }
   ],
   "source": [
    "n = 20\n",
    "lam = 0.7\n",
    "#sample_tree = nx.fast_gnp_random_graph(n, lam/n)\n",
    "sample_tree = nx.random_labeled_tree(n)\n",
    "for u,v in sample_tree.edges():\n",
    "    sample_tree[u][v]['weight'] = 1\n",
    "\n",
    "print(all_path_seg_lengths(sample_tree))"
   ]
  },
  {
   "cell_type": "code",
   "execution_count": 12,
   "id": "cb425fb8-cd01-4ac1-aa7e-c3e60f0ed584",
   "metadata": {},
   "outputs": [
    {
     "data": {
      "image/png": "[encoded data removed]",
      "text/plain": [
       "<Figure size 640x480 with 1 Axes>"
      ]
     },
     "metadata": {},
     "output_type": "display_data"
    }
   ],
   "source": [
    "draw_tree(sample_tree, hierarchyc_pos(sample_tree, root=0))"
   ]
  },
  {
   "cell_type": "code",
   "execution_count": null,
   "id": "cdfb1c87-e5d8-4685-8004-e4fa764bf605",
   "metadata": {},
   "outputs": [],
   "source": []
  },
  {
   "cell_type": "code",
   "execution_count": null,
   "id": "bbcbf9eb-b8ea-4414-b64e-0311187aa162",
   "metadata": {},
   "outputs": [],
   "source": []
  }
 ],
 "metadata": {
  "kernelspec": {
   "display_name": "Python 3 (ipykernel)",
   "language": "python",
   "name": "python3"
  },
  "language_info": {
   "codemirror_mode": {
    "name": "ipython",
    "version": 3
   },
   "file_extension": ".py",
   "mimetype": "text/x-python",
   "name": "python",
   "nbconvert_exporter": "python",
   "pygments_lexer": "ipython3",
   "version": "3.9.7"
  }
 },
 "nbformat": 4,
 "nbformat_minor": 5
}
