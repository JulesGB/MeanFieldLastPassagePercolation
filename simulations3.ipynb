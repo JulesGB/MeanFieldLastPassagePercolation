{
 "cells": [
  {
   "cell_type": "code",
   "execution_count": 3,
   "id": "cd57e627-3502-42e9-90f6-c0168ac012de",
   "metadata": {},
   "outputs": [],
   "source": [
    "import numpy as np\n",
    "import matplotlib.pyplot as plt\n",
    "import networkx as nx\n",
    "import random\n",
    "import statistics\n",
    "import kmax as kx\n",
    "import utility as util\n",
    "from hierarchy import *\n",
    "from scipy.optimize import fsolve\n",
    "from IPython.core.debugger import set_trace\n",
    "import scipy.stats as stats\n",
    "import pylab\n",
    "import statsmodels.api as sm"
   ]
  },
  {
   "cell_type": "code",
   "execution_count": 4,
   "id": "b5d69072-8fcd-4106-b258-c22ef5649aa6",
   "metadata": {},
   "outputs": [],
   "source": [
    "def draw_tree(tree, layout, draw_path=True):\n",
    "    rooted_tree = nx.bfs_tree(tree, 0)\n",
    "    \n",
    "    #nx.draw_networkx_nodes(tree, pos=layout, node_size=29)\n",
    "    nx.draw_networkx_labels(tree, pos=layout, font_size=10, font_color=\"tab:blue\")\n",
    "    \n",
    "    if draw_path:\n",
    "        path_cover,_,X=util.path_cover(tree)\n",
    "        nx.draw_networkx_edges(rooted_tree, pos=layout, edgelist=path_cover, edge_color=\"tab:red\", arrows=True)\n",
    "        \n",
    "        other_edges = [(u,v) for u,v in rooted_tree.edges() if (u,v) not in path_cover and (v,u) not in path_cover]\n",
    "        nx.draw_networkx_edges(rooted_tree, pos=layout, edgelist=other_edges)\n",
    "    else:\n",
    "        nx.draw_networkx_edges(rooted_tree, pos=layout)"
   ]
  },
  {
   "cell_type": "markdown",
   "id": "be863e3f-256a-4ffe-b6f0-72df456f191a",
   "metadata": {},
   "source": [
    "# Simulations 3\n",
    "\n",
    "## Goals:\n",
    "- Find path segment length for a typical vertex"
   ]
  },
  {
   "cell_type": "code",
   "execution_count": 5,
   "id": "889be52d-af48-4318-9c37-233bf053c6ce",
   "metadata": {},
   "outputs": [],
   "source": [
    "# Calculate the length of the path passing \n",
    "# through `node` in `path_cover`\n",
    "def path_seg_length(tree, path_cover, node):\n",
    "    if len(path_cover) == 0:\n",
    "        return 0\n",
    "    \n",
    "    path_subgraph = tree.edge_subgraph(path_cover)\n",
    "    if node not in path_subgraph:\n",
    "        return 0\n",
    "\n",
    "    # node_connected_component returns a list of nodes, so we subtract 1 to get the number of edges\n",
    "    return len(nx.node_connected_component(path_subgraph, node)) - 1\n",
    "\n",
    "def all_path_seg_lengths(tree):\n",
    "    hist_data = {}\n",
    "    component_root = 0\n",
    "    path_cover,_,_ = util.path_cover(tree, root=component_root)\n",
    "    path_subgraph = tree.edge_subgraph(path_cover)\n",
    "    for path in nx.connected_components(path_subgraph):\n",
    "        seg_len = len(path) - 1\n",
    "        if seg_len not in hist_data:\n",
    "            hist_data[seg_len] = 1\n",
    "        else:\n",
    "            hist_data[seg_len] += 1\n",
    "    \n",
    "    #seg_lengths = {node : path_seg_length(tree, path_covers[node], node) for node in tree.nodes()}\n",
    "\n",
    "    return hist_data"
   ]
  },
  {
   "cell_type": "code",
   "execution_count": 17,
   "id": "9f5656ef-5f69-495a-94d4-88d3e733a848",
   "metadata": {},
   "outputs": [],
   "source": [
    "n = 30\n",
    "lam = 0.7\n",
    "#sample_tree = nx.fast_gnp_random_graph(n, lam/n)\n",
    "sample_tree = nx.random_labeled_tree(n)\n",
    "for u,v in sample_tree.edges():\n",
    "    sample_tree[u][v]['weight'] = 1\n",
    "\n",
    "seg_length_counts = all_path_seg_lengths(sample_tree)"
   ]
  },
  {
   "cell_type": "code",
   "execution_count": 18,
   "id": "df3a7360-d4be-4bd2-89a1-983705d4b49b",
   "metadata": {},
   "outputs": [
    {
     "data": {
      "text/plain": [
       "{2: 2, 9: 2, 1: 1}"
      ]
     },
     "execution_count": 18,
     "metadata": {},
     "output_type": "execute_result"
    }
   ],
   "source": [
    "seg_length_counts"
   ]
  },
  {
   "cell_type": "code",
   "execution_count": 19,
   "id": "cb425fb8-cd01-4ac1-aa7e-c3e60f0ed584",
   "metadata": {},
   "outputs": [
    {
     "data": {
      "image/png": "[encoded data removed]",
      "text/plain": [
       "<Figure size 640x480 with 1 Axes>"
      ]
     },
     "metadata": {},
     "output_type": "display_data"
    }
   ],
   "source": [
    "draw_tree(sample_tree, hierarchyc_pos(sample_tree, root=0))"
   ]
  },
  {
   "cell_type": "code",
   "execution_count": 26,
   "id": "cdfb1c87-e5d8-4685-8004-e4fa764bf605",
   "metadata": {},
   "outputs": [],
   "source": [
    "num_samples = 10000\n",
    "seg_lengths = []\n",
    "LAM = 0.7\n",
    "for _ in range(num_samples):\n",
    "    # Poisson Branching\n",
    "    sample_tree = nx.Graph(GWBP(LAM, MAXLEVEL=100))\n",
    "    for u,v in sample_tree.edges():\n",
    "        sample_tree[u][v]['weight'] = 1\n",
    "\n",
    "    for (l,c) in all_path_seg_lengths(sample_tree).items():\n",
    "        for _ in range(c):\n",
    "            seg_lengths.append(l)"
   ]
  },
  {
   "cell_type": "code",
   "execution_count": 27,
   "id": "bbcbf9eb-b8ea-4414-b64e-0311187aa162",
   "metadata": {},
   "outputs": [],
   "source": [
    "def generate_histogram(dataset, bins = np.arange(0,100,1)):\n",
    "    plt.figure(figsize=(6,6))\n",
    "    plt.hist(dataset, bins=bins, edgecolor = 'black', linewidth=1.2, color = 'lightblue')\n",
    "    plt.title(\"Path segment length histogram\", fontfamily=['Serif'])\n",
    "    plt.xticks(bins)\n",
    "    plt.xlabel(\"Path length in optimal path cover\", fontfamily=['Serif'], fontsize=12)\n",
    "    plt.ylabel(\"Occurences\", fontfamily=['Serif'], fontsize=12)\n",
    "    plt.show()"
   ]
  },
  {
   "cell_type": "code",
   "execution_count": 30,
   "id": "b2ab5dd8-a53a-4684-9dca-b32e71264126",
   "metadata": {},
   "outputs": [
    {
     "ename": "AttributeError",
     "evalue": "'list' object has no attribute 'items'",
     "output_type": "error",
     "traceback": [
      "\u001b[1;31m---------------------------------------------------------------------------\u001b[0m",
      "\u001b[1;31mAttributeError\u001b[0m                            Traceback (most recent call last)",
      "Cell \u001b[1;32mIn[30], line 2\u001b[0m\n\u001b[0;32m      1\u001b[0m total_segs \u001b[38;5;241m=\u001b[39m []\n\u001b[1;32m----> 2\u001b[0m \u001b[38;5;28;01mfor\u001b[39;00m (l, c) \u001b[38;5;129;01min\u001b[39;00m \u001b[43mseg_lengths\u001b[49m\u001b[38;5;241;43m.\u001b[39;49m\u001b[43mitems\u001b[49m():\n\u001b[0;32m      3\u001b[0m     \u001b[38;5;28;01mfor\u001b[39;00m _ \u001b[38;5;129;01min\u001b[39;00m \u001b[38;5;28mrange\u001b[39m(c):\n\u001b[0;32m      4\u001b[0m         total_segs\u001b[38;5;241m.\u001b[39mappend(l)\n",
      "\u001b[1;31mAttributeError\u001b[0m: 'list' object has no attribute 'items'"
     ]
    }
   ],
   "source": [
    "generate_histogram(seg_lengths, bins=np.arange(1,20,1))"
   ]
  },
  {
   "cell_type": "code",
   "execution_count": null,
   "id": "f7c52021-b504-4e17-af9c-ec7ef0a50a4f",
   "metadata": {},
   "outputs": [],
   "source": []
  }
 ],
 "metadata": {
  "kernelspec": {
   "display_name": "Python 3",
   "language": "python",
   "name": "python3"
  },
  "language_info": {
   "codemirror_mode": {
    "name": "ipython",
    "version": 3
   },
   "file_extension": ".py",
   "mimetype": "text/x-python",
   "name": "python",
   "nbconvert_exporter": "python",
   "pygments_lexer": "ipython3",
   "version": "3.12.6"
  }
 },
 "nbformat": 4,
 "nbformat_minor": 5
}
