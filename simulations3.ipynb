{
 "cells": [
  {
   "cell_type": "code",
   "execution_count": 3,
   "id": "cd57e627-3502-42e9-90f6-c0168ac012de",
   "metadata": {},
   "outputs": [],
   "source": [
    "import numpy as np\n",
    "import matplotlib.pyplot as plt\n",
    "import networkx as nx\n",
    "import random\n",
    "import statistics\n",
    "import kmax as kx\n",
    "import utility as util\n",
    "from hierarchy import *\n",
    "from scipy.optimize import fsolve\n",
    "from IPython.core.debugger import set_trace\n",
    "import scipy.stats as stats\n",
    "import pylab\n",
    "import statsmodels.api as sm"
   ]
  },
  {
   "cell_type": "markdown",
   "id": "be863e3f-256a-4ffe-b6f0-72df456f191a",
   "metadata": {},
   "source": [
    "# Simulations 3\n",
    "\n",
    "## Goals:\n",
    "- Find path segment length for a typical vertex"
   ]
  },
  {
   "cell_type": "code",
   "execution_count": 4,
   "id": "889be52d-af48-4318-9c37-233bf053c6ce",
   "metadata": {},
   "outputs": [],
   "source": [
    "# Calculate the length of the path passing \n",
    "# through `node` in the optimal path cover\n",
    "def path_seg_length(tree, node):\n",
    "    path,_,_ = util.path_cover(tree)\n",
    "    path_subgraph = tree.subgraph(path)\n",
    "\n",
    "    return len(nx.node_connected_component(path_subgraph, node))"
   ]
  },
  {
   "cell_type": "code",
   "execution_count": 32,
   "id": "9f5656ef-5f69-495a-94d4-88d3e733a848",
   "metadata": {},
   "outputs": [
    {
     "name": "stdout",
     "output_type": "stream",
     "text": [
      "[0, 1, 2, 3]\n"
     ]
    }
   ],
   "source": [
    "sample_tree = nx.Graph(GWBP(0.9, MAXLEVEL=100))\n",
    "for u,v in sample_tree.edges():\n",
    "    sample_tree[u][v]['weight'] = 1\n",
    "\n",
    "#print(path_seg_length(sample_tree, 0))"
   ]
  },
  {
   "cell_type": "code",
   "execution_count": null,
   "id": "61059461-1379-407e-a89a-2c7101ffdf2d",
   "metadata": {},
   "outputs": [],
   "source": []
  },
  {
   "cell_type": "code",
   "execution_count": null,
   "id": "dbaa6402-c68b-465f-b2e0-719445ce9b81",
   "metadata": {},
   "outputs": [],
   "source": []
  }
 ],
 "metadata": {
  "kernelspec": {
   "display_name": "Python 3 (ipykernel)",
   "language": "python",
   "name": "python3"
  },
  "language_info": {
   "codemirror_mode": {
    "name": "ipython",
    "version": 3
   },
   "file_extension": ".py",
   "mimetype": "text/x-python",
   "name": "python",
   "nbconvert_exporter": "python",
   "pygments_lexer": "ipython3",
   "version": "3.9.7"
  }
 },
 "nbformat": 4,
 "nbformat_minor": 5
}
