{
 "cells": [
  {
   "cell_type": "code",
   "execution_count": 1,
   "id": "cd57e627-3502-42e9-90f6-c0168ac012de",
   "metadata": {},
   "outputs": [],
   "source": [
    "import numpy as np\n",
    "import matplotlib.pyplot as plt\n",
    "import networkx as nx\n",
    "import random\n",
    "import statistics\n",
    "import kmax as kx\n",
    "import utility as util\n",
    "from hierarchy import *\n",
    "from scipy.optimize import fsolve\n",
    "from IPython.core.debugger import set_trace\n",
    "import scipy.stats as stats\n",
    "import pylab\n",
    "import statsmodels.api as sm"
   ]
  },
  {
   "cell_type": "code",
   "execution_count": 2,
   "id": "b5d69072-8fcd-4106-b258-c22ef5649aa6",
   "metadata": {},
   "outputs": [],
   "source": [
    "def draw_tree(tree, layout, draw_path=True):\n",
    "    rooted_tree = nx.bfs_tree(tree, 0)\n",
    "    \n",
    "    #nx.draw_networkx_nodes(tree, pos=layout, node_size=29)\n",
    "    nx.draw_networkx_labels(tree, pos=layout, font_size=10, font_color=\"tab:blue\")\n",
    "    \n",
    "    if draw_path:\n",
    "        path_cover,_,X=util.path_cover(tree)\n",
    "        nx.draw_networkx_edges(rooted_tree, pos=layout, edgelist=path_cover, edge_color=\"tab:red\", arrows=True)\n",
    "        \n",
    "        other_edges = [(u,v) for u,v in rooted_tree.edges() if (u,v) not in path_cover and (v,u) not in path_cover]\n",
    "        nx.draw_networkx_edges(rooted_tree, pos=layout, edgelist=other_edges)\n",
    "    else:\n",
    "        nx.draw_networkx_edges(rooted_tree, pos=layout)"
   ]
  },
  {
   "cell_type": "markdown",
   "id": "be863e3f-256a-4ffe-b6f0-72df456f191a",
   "metadata": {},
   "source": [
    "# Simulations 3\n",
    "\n",
    "## Goals:\n",
    "- Find path segment length for a typical vertex"
   ]
  },
  {
   "cell_type": "code",
   "execution_count": 3,
   "id": "889be52d-af48-4318-9c37-233bf053c6ce",
   "metadata": {},
   "outputs": [],
   "source": [
    "# Calculate the length of the path passing \n",
    "# through `node` in `path_cover`\n",
    "def path_seg_length(tree, path_cover, node):\n",
    "    if len(path_cover) == 0:\n",
    "        return 0\n",
    "    \n",
    "    path_subgraph = tree.edge_subgraph(path_cover)\n",
    "    if node not in path_subgraph:\n",
    "        return 0\n",
    "\n",
    "    # node_connected_component returns a list of nodes, so we subtract 1 to get the number of edges\n",
    "    return len(nx.node_connected_component(path_subgraph, node)) - 1\n",
    "\n",
    "def all_path_seg_lengths(tree):\n",
    "    hist_data = {}\n",
    "    component_root = 0\n",
    "    path_cover,_,_,_ = util.path_cover(tree, root=component_root)\n",
    "    path_subgraph = tree.edge_subgraph(path_cover)\n",
    "    for path in nx.connected_components(path_subgraph):\n",
    "        seg_len = len(path) - 1\n",
    "        if seg_len not in hist_data:\n",
    "            hist_data[seg_len] = 1\n",
    "        else:\n",
    "            hist_data[seg_len] += 1\n",
    "    \n",
    "    #seg_lengths = {node : path_seg_length(tree, path_covers[node], node) for node in tree.nodes()}\n",
    "\n",
    "    return hist_data\n",
    "\n",
    "def root_seg_length(tree):\n",
    "    path_cover,_,_,_ = util.path_cover(tree, root=0)\n",
    "    return path_seg_length(tree, path_cover, 0)\n",
    "\n",
    "def root_seg_length_z(tree):\n",
    "    path_cover,_,_,z_root = util.path_cover(tree, root=0)\n",
    "    return path_seg_length(tree, path_cover, 0), z_root"
   ]
  },
  {
   "cell_type": "code",
   "execution_count": 5,
   "id": "9f5656ef-5f69-495a-94d4-88d3e733a848",
   "metadata": {},
   "outputs": [],
   "source": [
    "n = 30\n",
    "lam = 0.7\n",
    "#sample_tree = nx.fast_gnp_random_graph(n, lam/n)\n",
    "sample_tree = nx.random_labeled_tree(n)\n",
    "for u,v in sample_tree.edges():\n",
    "    sample_tree[u][v]['weight'] = 1\n",
    "\n",
    "seg_length_counts = all_path_seg_lengths(sample_tree)"
   ]
  },
  {
   "cell_type": "code",
   "execution_count": null,
   "id": "df3a7360-d4be-4bd2-89a1-983705d4b49b",
   "metadata": {},
   "outputs": [],
   "source": [
    "seg_length_counts"
   ]
  },
  {
   "cell_type": "code",
   "execution_count": null,
   "id": "cb425fb8-cd01-4ac1-aa7e-c3e60f0ed584",
   "metadata": {},
   "outputs": [],
   "source": [
    "draw_tree(sample_tree, hierarchyc_pos(sample_tree, root=0))"
   ]
  },
  {
   "cell_type": "code",
   "execution_count": 4,
   "id": "bbcbf9eb-b8ea-4414-b64e-0311187aa162",
   "metadata": {},
   "outputs": [],
   "source": [
    "def generate_histogram(dataset, bins = np.arange(0,100,1)):\n",
    "    theoretical_seg_lengths = [compute_L(b) * num_samples for b in bins]\n",
    "    theoretical = []\n",
    "    #for b in bins:\n",
    "    #    theoretical += [b] * theoretical_seg_lengths[b]\n",
    "    \n",
    "    plt.figure(figsize=(6,6))\n",
    "    plt.bar(bins, theoretical_seg_lengths, color='red')\n",
    "    plt.hist(dataset, bins=bins, edgecolor = 'black', linewidth=1.2, color = 'lightblue', alpha=0.5)\n",
    "    plt.title(f\"Path segment length histogram (GWBP, $\\lambda={LAM}$, {num_samples} samples)\", fontfamily=['Serif'])\n",
    "    plt.xticks(bins)\n",
    "    plt.xlabel(\"Path length in optimal path cover\", fontfamily=['Serif'], fontsize=12)\n",
    "    plt.ylabel(\"Occurences\", fontfamily=['Serif'], fontsize=12)\n",
    "    plt.show()"
   ]
  },
  {
   "cell_type": "markdown",
   "id": "78f2e12a-6752-4b9b-b6fd-9dbadb9cf723",
   "metadata": {},
   "source": [
    "### Average Segmenth Length"
   ]
  },
  {
   "cell_type": "code",
   "execution_count": 5,
   "id": "f41f5ddb-b473-49e3-96bc-0647bde6ee2e",
   "metadata": {},
   "outputs": [],
   "source": [
    "num_samples = 10000\n",
    "seg_lengths = []\n",
    "LAM = 0.7"
   ]
  },
  {
   "cell_type": "code",
   "execution_count": null,
   "id": "cdfb1c87-e5d8-4685-8004-e4fa764bf605",
   "metadata": {},
   "outputs": [],
   "source": [
    "for _ in range(num_samples):\n",
    "    # Poisson Branching\n",
    "    sample_tree = nx.Graph(GWBP(LAM, MAXLEVEL=100))\n",
    "    for u,v in sample_tree.edges():\n",
    "        sample_tree[u][v]['weight'] = 1\n",
    "\n",
    "    for (l,c) in all_path_seg_lengths(sample_tree).items():\n",
    "        for _ in range(c):\n",
    "            seg_lengths.append(l)"
   ]
  },
  {
   "cell_type": "code",
   "execution_count": null,
   "id": "b2ab5dd8-a53a-4684-9dca-b32e71264126",
   "metadata": {},
   "outputs": [],
   "source": [
    "generate_histogram(seg_lengths, bins=np.arange(0,20,1))"
   ]
  },
  {
   "cell_type": "markdown",
   "id": "dfd62f6b-b57d-4524-ab13-ec32d67e94e9",
   "metadata": {},
   "source": [
    "### Root segment length"
   ]
  },
  {
   "cell_type": "code",
   "execution_count": null,
   "id": "86252a11-42a7-46fd-bb62-a7cbc257e925",
   "metadata": {},
   "outputs": [],
   "source": [
    "root_seg_lengths = []\n",
    "for _ in range(num_samples):\n",
    "    sample_tree = nx.Graph(GWBP(LAM, MAXLEVEL=100))\n",
    "    for u,v in sample_tree.edges():\n",
    "        sample_tree[u][v]['weight'] = 1\n",
    "\n",
    "    root_seg_lengths.append(root_seg_length(sample_tree))"
   ]
  },
  {
   "cell_type": "code",
   "execution_count": null,
   "id": "74271d94-8001-44e3-8d1b-12d9c62c143d",
   "metadata": {},
   "outputs": [],
   "source": [
    "generate_histogram(root_seg_lengths, bins=np.arange(0,20,1))"
   ]
  },
  {
   "cell_type": "markdown",
   "id": "4f2847b9-6986-4282-9552-813e94110c9e",
   "metadata": {},
   "source": [
    "### Root segmenth length (split by z)"
   ]
  },
  {
   "cell_type": "code",
   "execution_count": 6,
   "id": "2fa9e7b6-c5ea-4c7d-b6f4-91502cf7c09a",
   "metadata": {},
   "outputs": [
    {
     "ename": "ValueError",
     "evalue": "not enough values to unpack (expected 4, got 3)",
     "output_type": "error",
     "traceback": [
      "\u001b[1;31m---------------------------------------------------------------------------\u001b[0m",
      "\u001b[1;31mValueError\u001b[0m                                Traceback (most recent call last)",
      "Cell \u001b[1;32mIn[6], line 8\u001b[0m\n\u001b[0;32m      5\u001b[0m \u001b[38;5;28;01mfor\u001b[39;00m u,v \u001b[38;5;129;01min\u001b[39;00m sample_tree\u001b[38;5;241m.\u001b[39medges():\n\u001b[0;32m      6\u001b[0m     sample_tree[u][v][\u001b[38;5;124m'\u001b[39m\u001b[38;5;124mweight\u001b[39m\u001b[38;5;124m'\u001b[39m] \u001b[38;5;241m=\u001b[39m \u001b[38;5;241m1\u001b[39m\n\u001b[1;32m----> 8\u001b[0m seg_len, z_root \u001b[38;5;241m=\u001b[39m \u001b[43mroot_seg_length_z\u001b[49m\u001b[43m(\u001b[49m\u001b[43msample_tree\u001b[49m\u001b[43m)\u001b[49m\n\u001b[0;32m      9\u001b[0m \u001b[38;5;28;01mif\u001b[39;00m z_root \u001b[38;5;241m==\u001b[39m \u001b[38;5;241m0\u001b[39m:\n\u001b[0;32m     10\u001b[0m     root_seg_lengths_z0\u001b[38;5;241m.\u001b[39mappend(seg_len)\n",
      "Cell \u001b[1;32mIn[3], line 35\u001b[0m, in \u001b[0;36mroot_seg_length_z\u001b[1;34m(tree)\u001b[0m\n\u001b[0;32m     34\u001b[0m \u001b[38;5;28;01mdef\u001b[39;00m \u001b[38;5;21mroot_seg_length_z\u001b[39m(tree):\n\u001b[1;32m---> 35\u001b[0m     path_cover,_,_,z_root \u001b[38;5;241m=\u001b[39m util\u001b[38;5;241m.\u001b[39mpath_cover(tree, root\u001b[38;5;241m=\u001b[39m\u001b[38;5;241m0\u001b[39m)\n\u001b[0;32m     36\u001b[0m     \u001b[38;5;28;01mreturn\u001b[39;00m path_seg_length(tree, path_cover, \u001b[38;5;241m0\u001b[39m), z_root\n",
      "\u001b[1;31mValueError\u001b[0m: not enough values to unpack (expected 4, got 3)"
     ]
    }
   ],
   "source": [
    "root_seg_lengths_z0 = []\n",
    "root_seg_lengths_z1 = []\n",
    "for _ in range(num_samples):\n",
    "    sample_tree = nx.Graph(GWBP(LAM, MAXLEVEL=100))\n",
    "    for u,v in sample_tree.edges():\n",
    "        sample_tree[u][v]['weight'] = 1\n",
    "\n",
    "    seg_len, z_root = root_seg_length_z(sample_tree)\n",
    "    if z_root == 0:\n",
    "        root_seg_lengths_z0.append(seg_len)\n",
    "    else:\n",
    "        root_seg_lengths_z1.append(seg_len)"
   ]
  },
  {
   "cell_type": "code",
   "execution_count": null,
   "id": "f7c52021-b504-4e17-af9c-ec7ef0a50a4f",
   "metadata": {},
   "outputs": [],
   "source": [
    "def solve_p(lam):\n",
    "    func = lambda p: [p[0] * np.exp(lam*p[0]) - (1 + lam * p[0])]\n",
    "    return float(fsolve(func, 0)[0])"
   ]
  },
  {
   "cell_type": "code",
   "execution_count": null,
   "id": "d56f237a-b3cc-4118-b498-77fca7cce594",
   "metadata": {},
   "outputs": [],
   "source": [
    "LAM = 0.7\n",
    "p = solve_p(LAM)\n",
    "r = LAM * np.exp(-LAM * p)"
   ]
  },
  {
   "cell_type": "code",
   "execution_count": null,
   "id": "3656a084-91f8-40d2-841e-0a0b64d22840",
   "metadata": {},
   "outputs": [],
   "source": [
    "p * (1-r)"
   ]
  },
  {
   "cell_type": "code",
   "execution_count": null,
   "id": "8b48c51b-49ae-4c35-a10a-0b974dac3891",
   "metadata": {},
   "outputs": [],
   "source": [
    "p * (1-r) * r"
   ]
  },
  {
   "cell_type": "code",
   "execution_count": null,
   "id": "d7879b29-7620-486d-a5a0-6d5ade54601e",
   "metadata": {},
   "outputs": [],
   "source": [
    "def compute_L(k):\n",
    "    return (1-r) * r**(k-2) * (p * r**2 + (1-p) * (1-r) * max(0,(k-1)))"
   ]
  },
  {
   "cell_type": "code",
   "execution_count": null,
   "id": "95d4c5f2-a142-4fc9-a643-42c8239bdd39",
   "metadata": {},
   "outputs": [],
   "source": [
    "compute_L(3)"
   ]
  },
  {
   "cell_type": "code",
   "execution_count": null,
   "id": "e046b120-e3ac-4c12-b8c2-82586ed7de72",
   "metadata": {},
   "outputs": [],
   "source": []
  }
 ],
 "metadata": {
  "kernelspec": {
   "display_name": "Python 3 (ipykernel)",
   "language": "python",
   "name": "python3"
  },
  "language_info": {
   "codemirror_mode": {
    "name": "ipython",
    "version": 3
   },
   "file_extension": ".py",
   "mimetype": "text/x-python",
   "name": "python",
   "nbconvert_exporter": "python",
   "pygments_lexer": "ipython3",
   "version": "3.9.7"
  }
 },
 "nbformat": 4,
 "nbformat_minor": 5
}
