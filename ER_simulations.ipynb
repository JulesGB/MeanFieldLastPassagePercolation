{
 "cells": [
  {
   "cell_type": "code",
   "execution_count": 1,
   "metadata": {},
   "outputs": [],
   "source": [
    "import numpy as np\n",
    "import matplotlib.pyplot as plt\n",
    "import matplotlib\n",
    "import networkx as nx\n",
    "import random\n",
    "import copy\n",
    "\n",
    "import sys\n",
    "sys.path.append(\"Fall 2024\")\n",
    "\n",
    "import kmax as kx\n",
    "import utility as util\n",
    "from hierarchy import *\n",
    "import z_solver as zs"
   ]
  },
  {
   "cell_type": "code",
   "execution_count": 56,
   "metadata": {},
   "outputs": [],
   "source": [
    "def singular_ER_sample(n, lam):\n",
    "    sum = 0 \n",
    "    G = nx.erdos_renyi_graph(n, lam / n)\n",
    "    for u,v in G.edges():\n",
    "        G[u][v]['weight'] = np.random.uniform(0,1)\n",
    "    ccs = [G.subgraph(c).copy() for c in nx.connected_components(G)]\n",
    "\n",
    "    for cc in ccs:\n",
    "        if cc.number_of_nodes() != 1:\n",
    "            _, _, mdvp_val, _, _ = util.path_cover(cc, root = next(iter(cc)))\n",
    "            sum += mdvp_val\n",
    "    \n",
    "    return sum / n"
   ]
  },
  {
   "cell_type": "code",
   "execution_count": null,
   "metadata": {},
   "outputs": [
    {
     "name": "stdout",
     "output_type": "stream",
     "text": [
      "0.15881792493267363\n"
     ]
    }
   ],
   "source": [
    "print(singular_ER_sample(1000, 0.7))"
   ]
  }
 ],
 "metadata": {
  "kernelspec": {
   "display_name": "Python 3",
   "language": "python",
   "name": "python3"
  },
  "language_info": {
   "codemirror_mode": {
    "name": "ipython",
    "version": 3
   },
   "file_extension": ".py",
   "mimetype": "text/x-python",
   "name": "python",
   "nbconvert_exporter": "python",
   "pygments_lexer": "ipython3",
   "version": "3.12.6"
  }
 },
 "nbformat": 4,
 "nbformat_minor": 2
}
