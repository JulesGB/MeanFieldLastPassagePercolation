{
 "cells": [
  {
   "cell_type": "code",
   "execution_count": 1,
   "id": "14ce405f-cd25-46d2-a08f-f494a89cbd15",
   "metadata": {},
   "outputs": [],
   "source": [
    "import numpy as np\n",
    "import matplotlib.pyplot as plt\n",
    "import matplotlib\n",
    "import networkx as nx\n",
    "import random\n",
    "import copy\n",
    "\n",
    "import sys\n",
    "sys.path.append(\"Fall 2024\")\n",
    "\n",
    "import kmax as kx\n",
    "import utility as util\n",
    "from hierarchy import *\n",
    "import z_solver as zs\n",
    "import discretize as disc"
   ]
  },
  {
   "cell_type": "markdown",
   "id": "5df08cdd-8080-452c-96b7-6475f933c1ad",
   "metadata": {},
   "source": [
    "# Supercritical - Average Path Cover Weight"
   ]
  },
  {
   "cell_type": "markdown",
   "id": "5c3d8821-59b1-4173-a667-7cf0cb3f88fe",
   "metadata": {},
   "source": [
    "## Simulation Parameters"
   ]
  },
  {
   "cell_type": "code",
   "execution_count": 2,
   "id": "5d980cd7-0cbf-4d1a-9a55-588a74e927b7",
   "metadata": {},
   "outputs": [],
   "source": [
    "num_samples = 5 * 10 ** 3\n",
    "\n",
    "edge_dist_name = 'unif'\n",
    "#edge_dist_name = 'exp'\n",
    "\n",
    "if edge_dist_name == 'exp':\n",
    "    edge_dist = lambda: np.random.exponential()\n",
    "elif edge_dist_name == 'unif':\n",
    "    edge_dist = lambda: np.random.uniform(0,1)\n",
    "\n",
    "lams = [1.1, 1.3, 1.5, 1.7, 1.9]\n",
    "cutoffs = [6, 8, 10, 12, 14]"
   ]
  },
  {
   "cell_type": "markdown",
   "id": "75a278c0-0d99-494e-9289-5786ccd05430",
   "metadata": {},
   "source": [
    "## Simulation"
   ]
  },
  {
   "cell_type": "code",
   "execution_count": 3,
   "id": "464a275f-3c0f-4e99-9d46-0a7d46affdf2",
   "metadata": {},
   "outputs": [],
   "source": [
    "def simulate(lam, k):\n",
    "    offspring_dist = lambda: np.random.poisson(lam)\n",
    "    samples = np.array([])\n",
    "    for _ in range(num_samples):\n",
    "        # Generate tree\n",
    "        tree = nx.Graph(GWBP(dist=offspring_dist, MAXLEVEL=k))\n",
    "        for u,v in tree.edges():\n",
    "            tree[u][v]['weight'] = edge_dist()\n",
    "        \n",
    "        N = tree.number_of_nodes()\n",
    "        if N > 0:\n",
    "            _,_,W,_,_ = util.path_cover(tree, root=0)\n",
    "            samples = np.append(samples, [W/N])\n",
    "    return np.mean(samples)"
   ]
  },
  {
   "cell_type": "code",
   "execution_count": 4,
   "id": "5e74d7e4-b76b-4193-88a1-44f634e6c797",
   "metadata": {},
   "outputs": [
    {
     "data": {
      "text/plain": [
       "np.float64(0.16463401726144766)"
      ]
     },
     "execution_count": 4,
     "metadata": {},
     "output_type": "execute_result"
    }
   ],
   "source": [
    "np.mean(simulate(0.7,6))"
   ]
  },
  {
   "cell_type": "code",
   "execution_count": null,
   "id": "44539d36-d8ad-4f46-bdac-38349f3acae9",
   "metadata": {},
   "outputs": [
    {
     "name": "stdout",
     "output_type": "stream",
     "text": [
      "lambda 1.1 cutoff 6 done\n",
      "lambda 1.3 cutoff 6 done\n",
      "lambda 1.5 cutoff 6 done\n",
      "lambda 1.7 cutoff 6 done\n",
      "lambda 1.9 cutoff 6 done\n",
      "lambda 1.1 cutoff 8 done\n",
      "lambda 1.3 cutoff 8 done\n",
      "lambda 1.5 cutoff 8 done\n",
      "lambda 1.7 cutoff 8 done\n",
      "lambda 1.9 cutoff 8 done\n",
      "lambda 1.1 cutoff 10 done\n",
      "lambda 1.3 cutoff 10 done\n",
      "lambda 1.5 cutoff 10 done\n",
      "lambda 1.7 cutoff 10 done\n"
     ]
    }
   ],
   "source": [
    "averages = {}\n",
    "for k in cutoffs:\n",
    "    avgs = []\n",
    "    for lam in lams:\n",
    "        avgs.append(simulate(lam, k))\n",
    "        print(f'lambda {lam} cutoff {k} done')\n",
    "    averages[k] = avgs"
   ]
  },
  {
   "cell_type": "code",
   "execution_count": null,
   "id": "27a29466-7dde-468e-94a6-60771ad5b12e",
   "metadata": {},
   "outputs": [],
   "source": [
    "header = \"\\\\begin{tabular}{|p{1.5cm}||*{5}{p{2cm}|}}\\n\\\\hline\\n\\\\diagbox[innerwidth = 1.5cm, height = 4ex]{k}{$\\\\lambda$} & \"\n",
    "header += ' & '.join([f'{l:.1f}' for l in lams]) + ' \\\\\\\\ \\\\hline\\n'\n",
    "body = ''\n",
    "for k, avgs in averages.items():\n",
    "    body += f'{k} & '\n",
    "    body += ' & '.join([f'{x:.3f}' for x in avgs])\n",
    "    body += ' \\\\\\\\ \\\\hline\\n'\n",
    "body += '\\\\end{tabular}'\n",
    "print(header + body)"
   ]
  },
  {
   "cell_type": "code",
   "execution_count": null,
   "id": "1bba0442-74a3-49a2-860a-e0cad9428608",
   "metadata": {},
   "outputs": [],
   "source": []
  }
 ],
 "metadata": {
  "kernelspec": {
   "display_name": "Python [conda env:py13]",
   "language": "python",
   "name": "conda-env-py13-py"
  },
  "language_info": {
   "codemirror_mode": {
    "name": "ipython",
    "version": 3
   },
   "file_extension": ".py",
   "mimetype": "text/x-python",
   "name": "python",
   "nbconvert_exporter": "python",
   "pygments_lexer": "ipython3",
   "version": "3.13.2"
  }
 },
 "nbformat": 4,
 "nbformat_minor": 5
}
