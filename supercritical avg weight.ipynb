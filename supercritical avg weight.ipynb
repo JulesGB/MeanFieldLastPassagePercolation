{
 "cells": [
  {
   "cell_type": "code",
   "execution_count": 1,
   "id": "14ce405f-cd25-46d2-a08f-f494a89cbd15",
   "metadata": {},
   "outputs": [],
   "source": [
    "import numpy as np\n",
    "import matplotlib.pyplot as plt\n",
    "import matplotlib\n",
    "import networkx as nx\n",
    "import random\n",
    "import copy\n",
    "\n",
    "import sys\n",
    "sys.path.append(\"Fall 2024\")\n",
    "\n",
    "import kmax as kx\n",
    "import utility as util\n",
    "from hierarchy import *\n",
    "import z_solver as zs\n",
    "import discretize as disc"
   ]
  },
  {
   "cell_type": "markdown",
   "id": "5df08cdd-8080-452c-96b7-6475f933c1ad",
   "metadata": {},
   "source": [
    "# Supercritical - Average Path Cover Weight"
   ]
  },
  {
   "cell_type": "markdown",
   "id": "5c3d8821-59b1-4173-a667-7cf0cb3f88fe",
   "metadata": {},
   "source": [
    "## Simulation Parameters"
   ]
  },
  {
   "cell_type": "code",
   "execution_count": 2,
   "id": "5d980cd7-0cbf-4d1a-9a55-588a74e927b7",
   "metadata": {},
   "outputs": [],
   "source": [
    "num_samples = 10 ** 3\n",
    "\n",
    "edge_dist_name = 'unif'\n",
    "#edge_dist_name = 'exp'\n",
    "\n",
    "if edge_dist_name == 'exp':\n",
    "    edge_dist = lambda: np.random.exponential()\n",
    "elif edge_dist_name == 'unif':\n",
    "    edge_dist = lambda: np.random.uniform(0,1)\n",
    "\n",
    "lams = [1.1, 1.3, 1.5, 1.7, 1.9]\n",
    "cutoffs = [6, 8, 10, 12, 14]"
   ]
  },
  {
   "cell_type": "markdown",
   "id": "75a278c0-0d99-494e-9289-5786ccd05430",
   "metadata": {},
   "source": [
    "## Simulation"
   ]
  },
  {
   "cell_type": "code",
   "execution_count": 9,
   "id": "1b36ffe3-bdf3-4f70-9d6f-30d2ff1081d0",
   "metadata": {},
   "outputs": [
    {
     "name": "stdout",
     "output_type": "stream",
     "text": [
      "0.23400224462824293\n",
      "2.3454738749556556\n",
      "6\n",
      "0.39091231249260927\n"
     ]
    }
   ],
   "source": [
    "offspring_dist = lambda: np.random.poisson(1.1)\n",
    "samples = np.array([])\n",
    "for _ in range(num_samples):\n",
    "    # Generate tree\n",
    "    tree = nx.Graph(GWBP(dist=offspring_dist, MAXLEVEL=6))\n",
    "    for u,v in tree.edges():\n",
    "        tree[u][v]['weight'] = edge_dist()\n",
    "\n",
    "    N = tree.number_of_nodes()\n",
    "    if N > 0:\n",
    "        _,_,W,_,_ = util.path_cover(tree, root=0)\n",
    "        samples = np.append(samples, [W/N])\n",
    "print(np.mean(samples))\n",
    "print(W)\n",
    "print(tree.number_of_nodes())\n",
    "print(W/tree.number_of_nodes())"
   ]
  },
  {
   "cell_type": "markdown",
   "id": "100a5a3a-1bd1-41be-aeec-0d0c0a60d0f5",
   "metadata": {},
   "source": []
  },
  {
   "cell_type": "code",
   "execution_count": 11,
   "id": "16728971-ffdf-415a-931c-eb79745d3f0a",
   "metadata": {},
   "outputs": [
    {
     "data": {
      "text/plain": [
       "array([0.        , 0.05751206, 0.        , 0.        , 0.        ,\n",
       "       0.43446462, 0.40255063, 0.40223786, 0.29796978, 0.18307984])"
      ]
     },
     "execution_count": 11,
     "metadata": {},
     "output_type": "execute_result"
    }
   ],
   "source": [
    "samples[:10]"
   ]
  },
  {
   "cell_type": "code",
   "execution_count": 3,
   "id": "464a275f-3c0f-4e99-9d46-0a7d46affdf2",
   "metadata": {},
   "outputs": [],
   "source": [
    "def simulate(lam, k):\n",
    "    offspring_dist = lambda: np.random.poisson(lam)\n",
    "    samples = np.array([])\n",
    "    for _ in range(num_samples):\n",
    "        # Generate tree\n",
    "        tree = nx.Graph(GWBP(dist=offspring_dist, MAXLEVEL=k))\n",
    "        for u,v in tree.edges():\n",
    "            tree[u][v]['weight'] = edge_dist()\n",
    "            \n",
    "        _,_,W,_,_ = util.path_cover(tree, root=0)\n",
    "        np.append(samples, W / tree.number_of_nodes())\n",
    "    return np.mean(samples)"
   ]
  },
  {
   "cell_type": "code",
   "execution_count": null,
   "id": "27a29466-7dde-468e-94a6-60771ad5b12e",
   "metadata": {},
   "outputs": [
    {
     "name": "stderr",
     "output_type": "stream",
     "text": [
      "C:\\ProgramData\\miniconda3\\envs\\py13\\Lib\\site-packages\\numpy\\_core\\fromnumeric.py:3860: RuntimeWarning: Mean of empty slice.\n",
      "  return _methods._mean(a, axis=axis, dtype=dtype,\n",
      "C:\\ProgramData\\miniconda3\\envs\\py13\\Lib\\site-packages\\numpy\\_core\\_methods.py:145: RuntimeWarning: invalid value encountered in scalar divide\n",
      "  ret = ret.dtype.type(ret / rcount)\n"
     ]
    },
    {
     "name": "stdout",
     "output_type": "stream",
     "text": [
      "lam=1.1, k=6: W/n = nan\n",
      "lam=1.1, k=8: W/n = nan\n",
      "lam=1.1, k=10: W/n = nan\n",
      "lam=1.1, k=12: W/n = nan\n",
      "lam=1.1, k=14: W/n = nan\n",
      "lam=1.3, k=6: W/n = nan\n",
      "lam=1.3, k=8: W/n = nan\n",
      "lam=1.3, k=10: W/n = nan\n",
      "lam=1.3, k=12: W/n = nan\n",
      "lam=1.3, k=14: W/n = nan\n",
      "lam=1.5, k=6: W/n = nan\n",
      "lam=1.5, k=8: W/n = nan\n",
      "lam=1.5, k=10: W/n = nan\n",
      "lam=1.5, k=12: W/n = nan\n",
      "lam=1.5, k=14: W/n = nan\n",
      "lam=1.7, k=6: W/n = nan\n",
      "lam=1.7, k=8: W/n = nan\n",
      "lam=1.7, k=10: W/n = nan\n",
      "lam=1.7, k=12: W/n = nan\n"
     ]
    }
   ],
   "source": [
    "for lam in lams:\n",
    "    for k in cutoffs:\n",
    "        avg_weight = simulate(lam, k)\n",
    "        print(f'lam={lam}, k={k}: W/n = {avg_weight}')"
   ]
  }
 ],
 "metadata": {
  "kernelspec": {
   "display_name": "Python [conda env:py13]",
   "language": "python",
   "name": "conda-env-py13-py"
  },
  "language_info": {
   "codemirror_mode": {
    "name": "ipython",
    "version": 3
   },
   "file_extension": ".py",
   "mimetype": "text/x-python",
   "name": "python",
   "nbconvert_exporter": "python",
   "pygments_lexer": "ipython3",
   "version": "3.13.2"
  }
 },
 "nbformat": 4,
 "nbformat_minor": 5
}
