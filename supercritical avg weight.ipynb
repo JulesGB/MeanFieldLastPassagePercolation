{
 "cells": [
  {
   "cell_type": "code",
   "execution_count": null,
   "id": "14ce405f-cd25-46d2-a08f-f494a89cbd15",
   "metadata": {},
   "outputs": [],
   "source": [
    "import numpy as np\n",
    "import matplotlib.pyplot as plt\n",
    "import matplotlib\n",
    "import networkx as nx\n",
    "import random\n",
    "import copy\n",
    "\n",
    "import sys\n",
    "sys.path.append(\"Fall 2024\")\n",
    "\n",
    "import kmax as kx\n",
    "import utility as util\n",
    "from hierarchy import *\n",
    "import z_solver as zs\n",
    "import discretize as disc"
   ]
  },
  {
   "cell_type": "markdown",
   "id": "5df08cdd-8080-452c-96b7-6475f933c1ad",
   "metadata": {},
   "source": [
    "# Supercritical - Average Path Cover Weight"
   ]
  },
  {
   "cell_type": "markdown",
   "id": "5c3d8821-59b1-4173-a667-7cf0cb3f88fe",
   "metadata": {},
   "source": [
    "## Simulation Parameters"
   ]
  },
  {
   "cell_type": "code",
   "execution_count": null,
   "id": "5d980cd7-0cbf-4d1a-9a55-588a74e927b7",
   "metadata": {},
   "outputs": [],
   "source": [
    "num_samples = 10 ** 3\n",
    "\n",
    "edge_dist_name = 'unif'\n",
    "#edge_dist_name = 'exp'\n",
    "\n",
    "if edge_dist_name == 'exp':\n",
    "    edge_dist = lambda: np.random.exponential()\n",
    "elif edge_dist_name == 'unif':\n",
    "    edge_dist = lambda: np.random.uniform(0,1)\n",
    "\n",
    "lams = [1.1, 1.3, 1.5, 1.7, 1.9]\n",
    "cutoffs = [6, 8, 10, 12, 14]"
   ]
  },
  {
   "cell_type": "markdown",
   "id": "75a278c0-0d99-494e-9289-5786ccd05430",
   "metadata": {},
   "source": [
    "## Simulation"
   ]
  },
  {
   "cell_type": "code",
   "execution_count": null,
   "id": "464a275f-3c0f-4e99-9d46-0a7d46affdf2",
   "metadata": {},
   "outputs": [],
   "source": [
    "def simulate(lam, k):\n",
    "    offspring_dist = lambda: np.random.poisson(lam)\n",
    "    samples = np.array([])\n",
    "    for _ in range(num_samples):\n",
    "        # Generate tree\n",
    "        tree = nx.Graph(GWBP(dist=offspring_dist, MAXLEVEL=k))\n",
    "        for u,v in tree.edges():\n",
    "            tree[u][v]['weight'] = edge_dist()\n",
    "            \n",
    "        _,_,W,_,_ = util.path_cover(tree, root=0)\n",
    "        np.append(samples, W / tree.number_of_nodes())\n",
    "    return np.mean(samples)"
   ]
  },
  {
   "cell_type": "code",
   "execution_count": null,
   "id": "27a29466-7dde-468e-94a6-60771ad5b12e",
   "metadata": {},
   "outputs": [],
   "source": [
    "for lam in lams:\n",
    "    for k in cutoffs:\n",
    "        avg_weight = simulate(lam, k)\n",
    "        print(f'lam={lam}, k={k}: W/n = {avg_weight}')"
   ]
  }
 ],
 "metadata": {
  "kernelspec": {
   "display_name": "Python [conda env:py13]",
   "language": "python",
   "name": "conda-env-py13-py"
  },
  "language_info": {
   "codemirror_mode": {
    "name": "ipython",
    "version": 3
   },
   "file_extension": ".py",
   "mimetype": "text/x-python",
   "name": "python",
   "nbconvert_exporter": "python",
   "pygments_lexer": "ipython3",
   "version": "3.13.2"
  }
 },
 "nbformat": 4,
 "nbformat_minor": 5
}
