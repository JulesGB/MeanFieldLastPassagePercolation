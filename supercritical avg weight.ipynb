{
 "cells": [
  {
   "cell_type": "code",
   "execution_count": 1,
   "id": "14ce405f-cd25-46d2-a08f-f494a89cbd15",
   "metadata": {},
   "outputs": [],
   "source": [
    "import numpy as np\n",
    "import matplotlib.pyplot as plt\n",
    "import matplotlib\n",
    "import networkx as nx\n",
    "import random\n",
    "import copy\n",
    "\n",
    "import sys\n",
    "sys.path.append(\"Fall 2024\")\n",
    "\n",
    "import kmax as kx\n",
    "import utility as util\n",
    "from hierarchy import *\n",
    "import z_solver as zs\n",
    "import discretize as disc"
   ]
  },
  {
   "cell_type": "markdown",
   "id": "5df08cdd-8080-452c-96b7-6475f933c1ad",
   "metadata": {},
   "source": [
    "# Supercritical - Average Path Cover Weight"
   ]
  },
  {
   "cell_type": "markdown",
   "id": "5c3d8821-59b1-4173-a667-7cf0cb3f88fe",
   "metadata": {},
   "source": [
    "## Simulation Parameters"
   ]
  },
  {
   "cell_type": "code",
   "execution_count": 2,
   "id": "5d980cd7-0cbf-4d1a-9a55-588a74e927b7",
   "metadata": {},
   "outputs": [],
   "source": [
    "num_samples = 10 ** 3\n",
    "\n",
    "edge_dist_name = 'unif'\n",
    "#edge_dist_name = 'exp'\n",
    "\n",
    "if edge_dist_name == 'exp':\n",
    "    edge_dist = lambda: np.random.exponential()\n",
    "elif edge_dist_name == 'unif':\n",
    "    edge_dist = lambda: np.random.uniform(0,1)\n",
    "\n",
    "lams = [1.1, 1.3, 1.5, 1.7, 1.9]\n",
    "cutoffs = [6, 8, 10, 12, 14]"
   ]
  },
  {
   "cell_type": "markdown",
   "id": "75a278c0-0d99-494e-9289-5786ccd05430",
   "metadata": {},
   "source": [
    "## Simulation"
   ]
  },
  {
   "cell_type": "code",
   "execution_count": null,
   "id": "16728971-ffdf-415a-931c-eb79745d3f0a",
   "metadata": {},
   "outputs": [],
   "source": [
    "samples[:10]"
   ]
  },
  {
   "cell_type": "code",
   "execution_count": 3,
   "id": "464a275f-3c0f-4e99-9d46-0a7d46affdf2",
   "metadata": {},
   "outputs": [],
   "source": [
    "def simulate(lam, k):\n",
    "    offspring_dist = lambda: np.random.poisson(lam)\n",
    "    samples = np.array([])\n",
    "    for _ in range(num_samples):\n",
    "        # Generate tree\n",
    "        tree = nx.Graph(GWBP(dist=offspring_dist, MAXLEVEL=k))\n",
    "        for u,v in tree.edges():\n",
    "            tree[u][v]['weight'] = edge_dist()\n",
    "        \n",
    "        N = tree.number_of_nodes()\n",
    "        if N > 0:\n",
    "            _,_,W,_,_ = util.path_cover(tree, root=0)\n",
    "            samples = np.append(samples, [W/N])\n",
    "    return np.mean(samples)"
   ]
  },
  {
   "cell_type": "code",
   "execution_count": 4,
   "id": "5e74d7e4-b76b-4193-88a1-44f634e6c797",
   "metadata": {},
   "outputs": [
    {
     "data": {
      "text/plain": [
       "np.float64(0.16566096964189395)"
      ]
     },
     "execution_count": 4,
     "metadata": {},
     "output_type": "execute_result"
    }
   ],
   "source": [
    "np.mean(simulate(0.7,6))"
   ]
  },
  {
   "cell_type": "code",
   "execution_count": null,
   "id": "44539d36-d8ad-4f46-bdac-38349f3acae9",
   "metadata": {},
   "outputs": [],
   "source": [
    "averages = {}\n",
    "for k in cutoffs:\n",
    "    avgs = []\n",
    "    for lam in lams:\n",
    "        avgs.append(simulate(lam, k))\n",
    "        print(f'lambda {lam} cutoff {k} done')\n",
    "    averages[k] = avgs"
   ]
  },
  {
   "cell_type": "code",
   "execution_count": 6,
   "id": "27a29466-7dde-468e-94a6-60771ad5b12e",
   "metadata": {},
   "outputs": [
    {
     "name": "stdout",
     "output_type": "stream",
     "text": [
      "lambda 1.1 cutoff 6 done\n",
      "lambda 1.3 cutoff 6 done\n",
      "lambda 1.5 cutoff 6 done\n",
      "lambda 1.7 cutoff 6 done\n",
      "lambda 1.9 cutoff 6 done\n",
      "lambda 1.1 cutoff 8 done\n",
      "lambda 1.3 cutoff 8 done\n",
      "lambda 1.5 cutoff 8 done\n",
      "lambda 1.7 cutoff 8 done\n",
      "lambda 1.9 cutoff 8 done\n",
      "lambda 1.1 cutoff 10 done\n",
      "lambda 1.3 cutoff 10 done\n",
      "lambda 1.5 cutoff 10 done\n",
      "lambda 1.7 cutoff 10 done\n",
      "lambda 1.9 cutoff 10 done\n",
      "lambda 1.1 cutoff 12 done\n",
      "lambda 1.3 cutoff 12 done\n",
      "lambda 1.5 cutoff 12 done\n",
      "lambda 1.7 cutoff 12 done\n",
      "lambda 1.9 cutoff 12 done\n",
      "lambda 1.1 cutoff 14 done\n",
      "lambda 1.3 cutoff 14 done\n",
      "lambda 1.5 cutoff 14 done\n",
      "lambda 1.7 cutoff 14 done\n",
      "lambda 1.9 cutoff 14 done\n",
      "\\begin{tabular}{|p{1.5cm}||*{5}{p{2cm}|}}\n",
      "\\hline\n",
      "\\diagbox[innerwidth = 1.5cm, height = 4ex]{k}{$\\lambda$} &1.1:.1f & 1.3:.1f & 1.5:.1f & 1.7:.1f & 1.9:.1f \\\\ \\hline6 & 0.2418842038698425:.3f) & 0.2581534858654828:.3f) & 0.2784027189990075:.3f) & 0.29804968553695715:.3f) & 0.2977463896258:.3f) \\\\ \\hline8 & 0.23879832301124473:.3f) & 0.2760900838737753:.3f) & 0.28085711877299:.3f) & 0.3004396618017692:.3f) & 0.3063873076490859:.3f) \\\\ \\hline10 & 0.2393994651172946:.3f) & 0.2684203787266317:.3f) & 0.28950609898632657:.3f) & 0.29506716819042345:.3f) & 0.30574682222595917:.3f) \\\\ \\hline12 & 0.23680565941464216:.3f) & 0.27053156955870034:.3f) & 0.28989070090529356:.3f) & 0.29107483519284655:.3f) & 0.307844395718736:.3f) \\\\ \\hline14 & 0.2450660285824605:.3f) & 0.2764972346052063:.3f) & 0.2916467765923554:.3f) & 0.2988126949026683:.3f) & 0.2982260488169335:.3f) \\\\ \\hline\n",
      "\\end{tabular}\n"
     ]
    }
   ],
   "source": [
    "header = \"\\\\begin{tabular}{|p{1.5cm}||*{5}{p{2cm}|}}\\n\\\\hline\\n\\\\diagbox[innerwidth = 1.5cm, height = 4ex]{k}{$\\\\lambda$} &\"\n",
    "header += ' & '.join([f'{l:.1f}' for l in lams]) + ' \\\\\\\\ \\\\hline\\n'\n",
    "body = ''\n",
    "for k, avgs in averages.items():\n",
    "    body += f'{k} & '\n",
    "    body += ' & '.join([f'{x:.3f}' for x in avgs])\n",
    "    body += ' \\\\\\\\ \\\\hline'\n",
    "body += '\\n\\\\end{tabular}'\n",
    "print(header + body)"
   ]
  }
 ],
 "metadata": {
  "kernelspec": {
   "display_name": "Python [conda env:py13]",
   "language": "python",
   "name": "conda-env-py13-py"
  },
  "language_info": {
   "codemirror_mode": {
    "name": "ipython",
    "version": 3
   },
   "file_extension": ".py",
   "mimetype": "text/x-python",
   "name": "python",
   "nbconvert_exporter": "python",
   "pygments_lexer": "ipython3",
   "version": "3.13.2"
  }
 },
 "nbformat": 4,
 "nbformat_minor": 5
}
