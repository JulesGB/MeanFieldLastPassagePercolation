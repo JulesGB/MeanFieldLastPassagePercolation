{
 "cells": [
  {
   "cell_type": "code",
   "execution_count": 1,
   "id": "8aa01f71-95ac-40fb-a799-4a3686478b61",
   "metadata": {},
   "outputs": [],
   "source": [
    "import numpy as np\n",
    "import matplotlib.pyplot as plt\n",
    "import matplotlib\n",
    "import networkx as nx\n",
    "import random\n",
    "import copy\n",
    "\n",
    "import sys\n",
    "sys.path.append(\"Fall 2024\")\n",
    "\n",
    "import kmax as kx\n",
    "import utility as util\n",
    "from hierarchy import *\n",
    "import z_solver as zs\n",
    "import discretize as disc"
   ]
  },
  {
   "cell_type": "markdown",
   "id": "80a09fbb-5b23-4cc2-8811-72e3c271783f",
   "metadata": {},
   "source": [
    "# Continuous Edge Weights - Transition Probabilities"
   ]
  },
  {
   "cell_type": "markdown",
   "id": "48f341d3-eeee-446e-be8f-17d0049b986d",
   "metadata": {},
   "source": [
    "## Function Definitions"
   ]
  },
  {
   "cell_type": "markdown",
   "id": "2dabfba8-3e7f-4e88-acf4-a97618ea47a7",
   "metadata": {},
   "source": [
    "## Simulation"
   ]
  },
  {
   "cell_type": "code",
   "execution_count": 2,
   "id": "0fcb65c0-98f9-4458-a3dd-e667f01a1f11",
   "metadata": {},
   "outputs": [],
   "source": [
    "num_samples = 1000\n",
    "lam = 0.5\n",
    "offspring_dist = lambda: np.random.poisson(lam)\n",
    "edge_dist = lambda: np.random.uniform(0,1)"
   ]
  },
  {
   "cell_type": "code",
   "execution_count": 3,
   "id": "bd0a4481-a4d9-4b9d-913e-cf77ff9bd0cf",
   "metadata": {},
   "outputs": [],
   "source": [
    "# Setup transition count matrix\n",
    "num_sections = 10\n",
    "transitions = []"
   ]
  },
  {
   "cell_type": "code",
   "execution_count": 4,
   "id": "415c3935-4511-473c-8ddb-c832e9a589cf",
   "metadata": {
    "scrolled": true
   },
   "outputs": [],
   "source": [
    "for _ in range(num_samples):\n",
    "    # Generate tree\n",
    "    tree = nx.Graph(GWBP(dist=offspring_dist, MAXLEVEL=10))\n",
    "    for u,v in tree.edges():\n",
    "        tree[u][v]['weight'] = edge_dist()\n",
    "\n",
    "    if tree.number_of_nodes() == 1:\n",
    "        #transition_counts[0][0] += 1\n",
    "        continue\n",
    "    \n",
    "    # Get Z values, children\n",
    "    tups = util.path_cover(tree, root=0, return_tuples=True)\n",
    "    Z = {v:tup[1] for v,tup in tups}\n",
    "    v1 = {v:tup[2] for v,tup in tups}\n",
    "    v2 = {v:tup[3] for v,tup in tups}\n",
    "\n",
    "    current_node = v1[0] # first max child of root 0\n",
    "    while True:\n",
    "        if v1[current_node] is not None:\n",
    "            transitions.append((Z[current_node], Z[v1[current_node]]))\n",
    "            if Z[v1[current_node]] < 0:\n",
    "                break\n",
    "            else:\n",
    "                current_node = v1[current_node]\n",
    "        else:\n",
    "            # TODO - should we distinguish this case from transitions to negative?\n",
    "            transitions.append((Z[current_node], -1)) \n",
    "            break"
   ]
  },
  {
   "cell_type": "markdown",
   "id": "9c17773c-6095-4695-94fc-dcb99b4dc530",
   "metadata": {},
   "source": [
    "Each component `transition_counts[i][j]` represents the number of times an edge $(v_1,v_2)$ has $Z(v_1)$ in subsection $i$ and $Z(v_2)$ in subsection $j$.\n",
    "That is, the row index is the source state and the column index is the end state."
   ]
  },
  {
   "cell_type": "code",
   "execution_count": 8,
   "id": "294470d8-b124-4299-898c-8841ea5e2319",
   "metadata": {
    "scrolled": true
   },
   "outputs": [
    {
     "data": {
      "text/plain": [
       "[(0.10774726517723221, 0.4347424957848549),\n",
       " (0.4347424957848549, 0.25704362105464273),\n",
       " (0.25704362105464273, -1),\n",
       " (0.8928027309591353, -1),\n",
       " (0.6861725445215856, 0.7475370351115612)]"
      ]
     },
     "execution_count": 8,
     "metadata": {},
     "output_type": "execute_result"
    }
   ],
   "source": [
    "transitions[:5]"
   ]
  },
  {
   "cell_type": "markdown",
   "id": "a9d65134-f368-466e-a4e6-254e0c1e3764",
   "metadata": {},
   "source": [
    "### TODO - fix probability conversion"
   ]
  },
  {
   "cell_type": "code",
   "execution_count": 17,
   "id": "1e6d3777-8bf5-4e8c-9cb0-d7ae9575827b",
   "metadata": {},
   "outputs": [],
   "source": [
    "discretized = disc.discretize_log_2d(transitions, 10).statistic\n",
    "total = sum(sum(discretized))\n",
    "transition_probs = discretized / total"
   ]
  },
  {
   "cell_type": "code",
   "execution_count": 18,
   "id": "37a2aeb7-5018-4c5c-a5d0-6f339169fcb7",
   "metadata": {},
   "outputs": [
    {
     "data": {
      "text/plain": [
       "array([[0.       , 0.       , 0.       , 0.       , 0.0015625, 0.003125 ,\n",
       "        0.00625  , 0.0046875, 0.       , 0.       ],\n",
       "       [0.0515625, 0.0046875, 0.0015625, 0.0015625, 0.0046875, 0.0046875,\n",
       "        0.0140625, 0.003125 , 0.       , 0.       ],\n",
       "       [0.0609375, 0.0015625, 0.0046875, 0.00625  , 0.00625  , 0.0078125,\n",
       "        0.0171875, 0.0015625, 0.       , 0.       ],\n",
       "       [0.06875  , 0.00625  , 0.00625  , 0.003125 , 0.0078125, 0.00625  ,\n",
       "        0.0078125, 0.003125 , 0.       , 0.       ],\n",
       "       [0.1078125, 0.003125 , 0.0046875, 0.00625  , 0.0109375, 0.0109375,\n",
       "        0.0140625, 0.003125 , 0.       , 0.       ],\n",
       "       [0.0953125, 0.0046875, 0.0140625, 0.003125 , 0.0109375, 0.009375 ,\n",
       "        0.009375 , 0.0046875, 0.       , 0.       ],\n",
       "       [0.1578125, 0.0140625, 0.0140625, 0.0171875, 0.0125   , 0.0203125,\n",
       "        0.025    , 0.0078125, 0.       , 0.       ],\n",
       "       [0.0671875, 0.0046875, 0.0015625, 0.00625  , 0.003125 , 0.00625  ,\n",
       "        0.00625  , 0.00625  , 0.       , 0.       ],\n",
       "       [0.       , 0.       , 0.       , 0.       , 0.       , 0.       ,\n",
       "        0.       , 0.       , 0.       , 0.       ],\n",
       "       [0.       , 0.       , 0.       , 0.       , 0.       , 0.       ,\n",
       "        0.       , 0.       , 0.       , 0.       ]])"
      ]
     },
     "execution_count": 18,
     "metadata": {},
     "output_type": "execute_result"
    }
   ],
   "source": [
    "transition_probs"
   ]
  },
  {
   "cell_type": "markdown",
   "id": "3bea0542-b2fa-49b1-b9fb-9681828302f9",
   "metadata": {},
   "source": [
    "Rows sum to 1:"
   ]
  },
  {
   "cell_type": "markdown",
   "id": "84d5a692-f720-49dd-b9f4-97fd7c574c23",
   "metadata": {},
   "source": [
    "### 3d Plot"
   ]
  },
  {
   "cell_type": "code",
   "execution_count": null,
   "id": "98229e5b-e153-4d22-8e5e-f5d5661b4814",
   "metadata": {},
   "outputs": [],
   "source": [
    "fig = plt.figure(figsize=(8, 8))\n",
    "ax = fig.add_subplot(111, projection='3d')\n",
    "ax.set_aspect('auto', anchor='C')\n",
    "\n",
    "#coord matrices\n",
    "x_len, y_len = transition_probs.shape\n",
    "\n",
    "bar_scale = 0.5\n",
    "dx = dy = bar_scale * (1 / num_sections)\n",
    "dz = transition_probs.T.flatten()\n",
    "\n",
    "bar_positions = section_bounds - (1 / (2 * num_sections)) - (1/4) * dx\n",
    "xpos, ypos = np.meshgrid(bar_positions, bar_positions)\n",
    "xpos = xpos.flatten()\n",
    "ypos = ypos.flatten()\n",
    "zpos = np.zeros_like(xpos)\n",
    "\n",
    "ax.bar3d(xpos, ypos, zpos, dx, dy, dz)\n",
    "\n",
    "ax.set_xlabel('From State')\n",
    "ax.set_ylabel('To State')\n",
    "ax.set_zlabel('Probability')\n",
    "ax.set_title('Transition Probabilities')\n",
    "\n",
    "ax.set_xticks(np.concatenate(([-(1 / num_sections)], section_bounds)))\n",
    "ax.set_yticks(np.concatenate(([-(1 / num_sections)], section_bounds)))\n",
    "\n",
    "ax.view_init(elev=30, azim=45, roll=0)\n",
    "ax.set_box_aspect(None, zoom=0.9)\n",
    "plt.show()"
   ]
  },
  {
   "cell_type": "markdown",
   "id": "fd223790-11d1-4cbd-9e7a-224afa2ed04e",
   "metadata": {},
   "source": [
    "### Heatmap"
   ]
  },
  {
   "cell_type": "markdown",
   "id": "2e010bc7-195a-42f7-ab76-0b08d8ba06f6",
   "metadata": {
    "jp-MarkdownHeadingCollapsed": true
   },
   "source": [
    "#### Color plotter from matplotlib docs"
   ]
  },
  {
   "cell_type": "code",
   "execution_count": null,
   "id": "db2af358-3f54-4ffb-b2c1-2179860487d7",
   "metadata": {},
   "outputs": [],
   "source": [
    "# https://matplotlib.org/stable/gallery/images_contours_and_fields/image_annotated_heatmap.html#sphx-glr-gallery-images-contours-and-fields-image-annotated-heatmap-py\n",
    "def heatmap(data, row_labels, col_labels, ax=None,\n",
    "            cbar_kw=None, cbarlabel=\"\", **kwargs):\n",
    "    \"\"\"\n",
    "    Create a heatmap from a numpy array and two lists of labels.\n",
    "\n",
    "    Parameters\n",
    "    ----------\n",
    "    data\n",
    "        A 2D numpy array of shape (M, N).\n",
    "    row_labels\n",
    "        A list or array of length M with the labels for the rows.\n",
    "    col_labels\n",
    "        A list or array of length N with the labels for the columns.\n",
    "    ax\n",
    "        A `matplotlib.axes.Axes` instance to which the heatmap is plotted.  If\n",
    "        not provided, use current Axes or create a new one.  Optional.\n",
    "    cbar_kw\n",
    "        A dictionary with arguments to `matplotlib.Figure.colorbar`.  Optional.\n",
    "    cbarlabel\n",
    "        The label for the colorbar.  Optional.\n",
    "    **kwargs\n",
    "        All other arguments are forwarded to `imshow`.\n",
    "    \"\"\"\n",
    "\n",
    "    if ax is None:\n",
    "        ax = plt.gca()\n",
    "\n",
    "    if cbar_kw is None:\n",
    "        cbar_kw = {}\n",
    "\n",
    "    # Plot the heatmap\n",
    "    im = ax.imshow(data, **kwargs)\n",
    "\n",
    "    # Create colorbar\n",
    "    cbar = ax.figure.colorbar(im, ax=ax, **cbar_kw)\n",
    "    cbar.ax.set_ylabel(cbarlabel, rotation=-90, va=\"bottom\")\n",
    "\n",
    "    # Show all ticks and label them with the respective list entries.\n",
    "    ax.set_xticks(range(data.shape[1]), labels=col_labels,\n",
    "                  rotation=-30, ha=\"right\", rotation_mode=\"anchor\")\n",
    "    ax.set_yticks(range(data.shape[0]), labels=row_labels)\n",
    "\n",
    "    # Let the horizontal axes labeling appear on top.\n",
    "    ax.tick_params(top=True, bottom=False,\n",
    "                   labeltop=True, labelbottom=False)\n",
    "\n",
    "    # Turn spines off and create white grid.\n",
    "    ax.spines[:].set_visible(False)\n",
    "\n",
    "    ax.set_xticks(np.arange(data.shape[1]+1)-.5, minor=True)\n",
    "    ax.set_yticks(np.arange(data.shape[0]+1)-.5, minor=True)\n",
    "    ax.grid(which=\"minor\", color=\"w\", linestyle='-', linewidth=3)\n",
    "    ax.tick_params(which=\"minor\", bottom=False, left=False)\n",
    "\n",
    "    return im, cbar\n",
    "\n",
    "def annotate_heatmap(im, data=None, valfmt=\"{x:.2f}\",\n",
    "                     textcolors=(\"black\", \"white\"),\n",
    "                     threshold=None, **textkw):\n",
    "    \"\"\"\n",
    "    A function to annotate a heatmap.\n",
    "\n",
    "    Parameters\n",
    "    ----------\n",
    "    im\n",
    "        The AxesImage to be labeled.\n",
    "    data\n",
    "        Data used to annotate.  If None, the image's data is used.  Optional.\n",
    "    valfmt\n",
    "        The format of the annotations inside the heatmap.  This should either\n",
    "        use the string format method, e.g. \"$ {x:.2f}\", or be a\n",
    "        `matplotlib.ticker.Formatter`.  Optional.\n",
    "    textcolors\n",
    "        A pair of colors.  The first is used for values below a threshold,\n",
    "        the second for those above.  Optional.\n",
    "    threshold\n",
    "        Value in data units according to which the colors from textcolors are\n",
    "        applied.  If None (the default) uses the middle of the colormap as\n",
    "        separation.  Optional.\n",
    "    **kwargs\n",
    "        All other arguments are forwarded to each call to `text` used to create\n",
    "        the text labels.\n",
    "    \"\"\"\n",
    "\n",
    "    if not isinstance(data, (list, np.ndarray)):\n",
    "        data = im.get_array()\n",
    "\n",
    "    # Normalize the threshold to the images color range.\n",
    "    if threshold is not None:\n",
    "        threshold = im.norm(threshold)\n",
    "    else:\n",
    "        threshold = im.norm(data.max())/2.\n",
    "\n",
    "    # Set default alignment to center, but allow it to be\n",
    "    # overwritten by textkw.\n",
    "    kw = dict(horizontalalignment=\"center\",\n",
    "              verticalalignment=\"center\")\n",
    "    kw.update(textkw)\n",
    "\n",
    "    # Get the formatter in case a string is supplied\n",
    "    if isinstance(valfmt, str):\n",
    "        valfmt = matplotlib.ticker.StrMethodFormatter(valfmt)\n",
    "\n",
    "    # Loop over the data and create a `Text` for each \"pixel\".\n",
    "    # Change the text's color depending on the data.\n",
    "    texts = []\n",
    "    for i in range(data.shape[0]):\n",
    "        for j in range(data.shape[1]):\n",
    "            kw.update(color=textcolors[int(im.norm(data[i, j]) > threshold)])\n",
    "            text = im.axes.text(j, i, valfmt(data[i, j], None), **kw)\n",
    "            texts.append(text)\n",
    "\n",
    "    return texts"
   ]
  },
  {
   "cell_type": "markdown",
   "id": "0b29dd17-0ce9-4876-b7f1-c6b14084bfad",
   "metadata": {},
   "source": [
    "#### Plot"
   ]
  },
  {
   "cell_type": "code",
   "execution_count": null,
   "id": "0d158148-1ae1-48d7-96fa-7a6cc9fee9b8",
   "metadata": {},
   "outputs": [],
   "source": [
    "data = transition_probs[1:,1:]\n",
    "labels = [str(s)[:3] for s in section_bounds[1:]]\n",
    "fig, ax = plt.subplots()\n",
    "\n",
    "im, cbar = heatmap(data, labels, labels, ax=ax,\n",
    "                   cmap=\"YlOrBr\", cbarlabel=\"Density\")\n",
    "texts = annotate_heatmap(im, valfmt=\"{x:.2f}\")\n",
    "\n",
    "plt.title('Transition Probabilities')\n",
    "plt.xlabel('To State')\n",
    "plt.ylabel('From State')\n",
    "\n",
    "fig.tight_layout()\n",
    "plt.show()"
   ]
  },
  {
   "cell_type": "code",
   "execution_count": null,
   "id": "18a89c79-a799-4884-9f8b-af92a638b39f",
   "metadata": {},
   "outputs": [],
   "source": [
    "[sum(data[r]) for r in range(10)]"
   ]
  },
  {
   "cell_type": "code",
   "execution_count": null,
   "id": "2700412d-4534-4470-84e1-95b6ac72a37b",
   "metadata": {},
   "outputs": [],
   "source": [
    "[sum(data[:,c]) for c in range(10)]"
   ]
  },
  {
   "cell_type": "markdown",
   "id": "09059779-9a4a-494f-8afe-56fa130c5d66",
   "metadata": {},
   "source": [
    "## Z histograms"
   ]
  },
  {
   "cell_type": "code",
   "execution_count": null,
   "id": "2d4a7633-68ce-4e21-b90d-d6e74caaee5b",
   "metadata": {},
   "outputs": [],
   "source": [
    "z_vals_along_path = []\n",
    "num_samples = 100000\n",
    "for _ in range(num_samples):\n",
    "    # Generate tree\n",
    "    tree = nx.Graph(GWBP(dist=offspring_dist, MAXLEVEL=10))\n",
    "    for u,v in tree.edges():\n",
    "        tree[u][v]['weight'] = edge_dist()\n",
    "\n",
    "    if tree.number_of_nodes() == 1:\n",
    "        continue\n",
    "    \n",
    "    # Get Z values, children\n",
    "    tups = util.path_cover(tree, root=0, return_tuples=True)\n",
    "    Z = {v:tup[1] for v,tup in tups}\n",
    "    v1 = {v:tup[2] for v,tup in tups}\n",
    "    v2 = {v:tup[3] for v,tup in tups}\n",
    "\n",
    "    current_node = 0 # first max child of root 0\n",
    "    while v1[current_node] is not None and Z[v1[current_node]] >= 0:\n",
    "        current_node = v1[current_node]\n",
    "        z_vals_along_path.append(Z[current_node])"
   ]
  },
  {
   "cell_type": "code",
   "execution_count": null,
   "id": "9ba608c7",
   "metadata": {},
   "outputs": [],
   "source": [
    "lam = 0.8\n",
    "offspring_dist = lambda: np.random.poisson(lam)\n",
    "z_vals_random = []\n",
    "num_samples = 100000\n",
    "for _ in range(num_samples):\n",
    "        # Generate tree\n",
    "    tree = nx.Graph(GWBP(dist=offspring_dist, MAXLEVEL=10))\n",
    "    for u,v in tree.edges():\n",
    "        tree[u][v]['weight'] = edge_dist()\n",
    "\n",
    "    if tree.number_of_nodes() < 1:\n",
    "        continue\n",
    "\n",
    "    # Get Z values, children\n",
    "    tups = util.path_cover(tree, root=0, return_tuples=True)\n",
    "    # need to exclude root because we are assuming it has no z-value\n",
    "    Z = {v:tup[1] for v,tup in tups if v == 0}\n",
    "    z_vals_random += list(Z.values())"
   ]
  },
  {
   "cell_type": "code",
   "execution_count": null,
   "id": "ed04c6ec",
   "metadata": {},
   "outputs": [],
   "source": [
    "z_count_less_than_zero = sum(1 for z in z_vals_random if z <= 0)\n",
    "total_z_values = len(z_vals_random)\n",
    "print(z_count_less_than_zero / total_z_values)\n",
    "xs, ys = zs.compute_z_pdf(lam, 1000)"
   ]
  },
  {
   "cell_type": "code",
   "execution_count": null,
   "id": "b70a190f",
   "metadata": {},
   "outputs": [],
   "source": [
    "z_vals_random_pos = [z for z in z_vals_random if z > 0]\n",
    "fig = plt.figure(figsize=(8, 6))\n",
    "fig.patch.set_facecolor('xkcd:off white')\n",
    "plt.plot(xs, ys, '-', label=['Expected PDF'], color='red', linewidth = 3.0)\n",
    "plt.hist(z_vals_random, bins=\"auto\", color=\"blue\", edgecolor=\"black\", alpha=0.6, density=\"True\")\n",
    "plt.title(f\"Root Z-Value Distribution for $\\\\lambda$ = {lam}, {num_samples} samples\", fontfamily = ['Serif'])\n",
    "plt.xlabel(\"Z-Value\")\n",
    "plt.ylabel(\"Normalized Frequency\")\n",
    "plt.legend()\n",
    "plt.grid(axis='y', alpha=0.75)\n",
    "plt.show()"
   ]
  },
  {
   "cell_type": "code",
   "execution_count": null,
   "id": "8fc6b83d",
   "metadata": {},
   "outputs": [],
   "source": [
    "plt.figure(figsize=(8, 6))\n",
    "plt.hist(z_vals_along_path, bins=\"auto\", color=\"blue\", edgecolor=\"black\", alpha=0.7)\n",
    "plt.title(\"Z-Values For Nodes Along the Path Starting From the First Max of the Root\")\n",
    "plt.xlabel(\"Z-Value\")\n",
    "plt.ylabel(\"Frequency\")\n",
    "plt.grid(axis='y', alpha=0.75)\n",
    "plt.show()"
   ]
  },
  {
   "cell_type": "code",
   "execution_count": null,
   "id": "66b7d7f3-6902-4695-bcb8-156044a06148",
   "metadata": {},
   "outputs": [],
   "source": [
    "xs, ys = zs.compute_z_pdf(0.7, 10000)"
   ]
  },
  {
   "cell_type": "code",
   "execution_count": null,
   "id": "83e86a8a-fc37-4943-9379-fddbc30f7511",
   "metadata": {},
   "outputs": [],
   "source": [
    "plt.figure()\n",
    "plt.plot(xs, ys, '-', label=['CDF', 'density'])\n",
    "plt.legend()"
   ]
  }
 ],
 "metadata": {
  "kernelspec": {
   "display_name": "Python 3 (ipykernel)",
   "language": "python",
   "name": "python3"
  },
  "language_info": {
   "codemirror_mode": {
    "name": "ipython",
    "version": 3
   },
   "file_extension": ".py",
   "mimetype": "text/x-python",
   "name": "python",
   "nbconvert_exporter": "python",
   "pygments_lexer": "ipython3",
   "version": "3.9.7"
  }
 },
 "nbformat": 4,
 "nbformat_minor": 5
}
