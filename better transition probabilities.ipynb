{
 "cells": [
  {
   "cell_type": "code",
   "execution_count": 1,
   "id": "8aa01f71-95ac-40fb-a799-4a3686478b61",
   "metadata": {},
   "outputs": [],
   "source": [
    "import numpy as np\n",
    "import matplotlib.pyplot as plt\n",
    "import matplotlib\n",
    "import networkx as nx\n",
    "import random\n",
    "import copy\n",
    "\n",
    "import sys\n",
    "sys.path.append(\"Fall 2024\")\n",
    "\n",
    "import kmax as kx\n",
    "import utility as util\n",
    "from hierarchy import *\n",
    "import z_solver as zs\n",
    "import discretize as disc"
   ]
  },
  {
   "cell_type": "markdown",
   "id": "80a09fbb-5b23-4cc2-8811-72e3c271783f",
   "metadata": {},
   "source": [
    "# Continuous Edge Weights - Transition Probabilities"
   ]
  },
  {
   "cell_type": "markdown",
   "id": "48f341d3-eeee-446e-be8f-17d0049b986d",
   "metadata": {},
   "source": [
    "## Simulation Parameters"
   ]
  },
  {
   "cell_type": "code",
   "execution_count": 2,
   "id": "0fcb65c0-98f9-4458-a3dd-e667f01a1f11",
   "metadata": {},
   "outputs": [],
   "source": [
    "num_samples = 10 ** 6\n",
    "num_sections = 10 # Number of bins\n",
    "\n",
    "lam = 0.7\n",
    "offspring_dist = lambda: np.random.poisson(lam)\n",
    "\n",
    "edge_dist_name = 'unif'\n",
    "#edge_dist_name = 'exp'\n",
    "\n",
    "if edge_dist_name == 'exp':\n",
    "    edge_dist = lambda: np.random.exponential()\n",
    "elif edge_dist_name == 'unif':\n",
    "    edge_dist = lambda: np.random.uniform(0,1)\n",
    "\n",
    "plot_value = 'Z'\n",
    "#plot_value = 'delta'"
   ]
  },
  {
   "cell_type": "markdown",
   "id": "2dabfba8-3e7f-4e88-acf4-a97618ea47a7",
   "metadata": {},
   "source": [
    "## Simulation"
   ]
  },
  {
   "cell_type": "code",
   "execution_count": null,
   "id": "415c3935-4511-473c-8ddb-c832e9a589cf",
   "metadata": {
    "scrolled": true
   },
   "outputs": [],
   "source": [
    "transitions = []\n",
    "neg_first_count = 0\n",
    "\n",
    "for _ in range(num_samples):\n",
    "    # Generate tree\n",
    "    tree = nx.Graph(GWBP(dist=offspring_dist, MAXLEVEL=10))\n",
    "    for u,v in tree.edges():\n",
    "        tree[u][v]['weight'] = edge_dist()\n",
    "\n",
    "    if tree.number_of_nodes() == 1:\n",
    "        #transition_counts[0][0] += 1\n",
    "        continue\n",
    "    \n",
    "    # Get Z values, children\n",
    "    tups = util.path_cover(tree, root=0, return_tuples=True)\n",
    "    Z = {v:tup[1] for v,tup in tups}\n",
    "    v1 = {v:tup[2] for v,tup in tups}\n",
    "    v2 = {v:tup[3] for v,tup in tups}\n",
    "    delta = {v:tup[4] for v,tup in tups}\n",
    "\n",
    "    current_node = v1[0] # first max child of root 0\n",
    "    if Z[current_node] <= 0:\n",
    "        neg_first_count += 1\n",
    "        continue\n",
    "    while True:\n",
    "        if v1[current_node] is not None:\n",
    "            if plot_value == 'Z':\n",
    "                transitions.append((Z[current_node], Z[v1[current_node]]))\n",
    "            elif plot_value == 'delta':\n",
    "                transitions.append((delta[current_node], delta[v1[current_node]]))\n",
    "            \n",
    "            if Z[v1[current_node]] < 0:\n",
    "                break\n",
    "            else:\n",
    "                current_node = v1[current_node]\n",
    "        else:\n",
    "            # TODO - should we distinguish this case from transitions to negative?\n",
    "            #transitions.append((Z[current_node], -1)) \n",
    "            break"
   ]
  },
  {
   "cell_type": "markdown",
   "id": "9c17773c-6095-4695-94fc-dcb99b4dc530",
   "metadata": {},
   "source": [
    "Each component `transition_counts[i][j]` represents the number of times an edge $(v_1,v_2)$ has $\\delta(v_1)$ in subsection $i$ and $\\delta(v_2)$ in subsection $j$.\n",
    "That is, the row index is the source state and the column index is the end state."
   ]
  },
  {
   "cell_type": "code",
   "execution_count": null,
   "id": "294470d8-b124-4299-898c-8841ea5e2319",
   "metadata": {
    "scrolled": true
   },
   "outputs": [],
   "source": [
    "transitions[:5]"
   ]
  },
  {
   "cell_type": "markdown",
   "id": "a9d65134-f368-466e-a4e6-254e0c1e3764",
   "metadata": {},
   "source": [
    "### Probability conversion"
   ]
  },
  {
   "cell_type": "code",
   "execution_count": null,
   "id": "1e6d3777-8bf5-4e8c-9cb0-d7ae9575827b",
   "metadata": {},
   "outputs": [],
   "source": [
    "if edge_dist_name == 'exp':\n",
    "    disc_stat = disc.discretize_log_2d(transitions, num_sections)\n",
    "elif edge_dist_name == 'unif':\n",
    "    disc_stat = disc.discretize_linear_2d(transitions, num_sections)\n",
    "\n",
    "discretized = disc_stat.statistic\n",
    "x_edges = disc_stat.x_edge\n",
    "y_edges = disc_stat.y_edge\n",
    "row_totals = sum(np.transpose(discretized))\n",
    "transition_probs = np.array([row / row_total if row_total != 0 else np.zeros(row.size)\n",
    "                    for row,row_total in zip(discretized, row_totals)])"
   ]
  },
  {
   "cell_type": "code",
   "execution_count": null,
   "id": "313e403f-f2b7-4287-bb47-a9a0f087627c",
   "metadata": {},
   "outputs": [],
   "source": [
    "transition_probs[:2]"
   ]
  },
  {
   "cell_type": "markdown",
   "id": "3bea0542-b2fa-49b1-b9fb-9681828302f9",
   "metadata": {},
   "source": [
    "Rows sum to 1:"
   ]
  },
  {
   "cell_type": "code",
   "execution_count": null,
   "id": "4918f778-e4b8-4117-b9a5-bc891e1e661c",
   "metadata": {},
   "outputs": [],
   "source": [
    "for i in range(num_sections-1):\n",
    "    print(sum(transition_probs[i]))"
   ]
  },
  {
   "cell_type": "markdown",
   "id": "fd223790-11d1-4cbd-9e7a-224afa2ed04e",
   "metadata": {},
   "source": [
    "### Heatmap"
   ]
  },
  {
   "cell_type": "markdown",
   "id": "2e010bc7-195a-42f7-ab76-0b08d8ba06f6",
   "metadata": {
    "jp-MarkdownHeadingCollapsed": true
   },
   "source": [
    "#### Color plotter from matplotlib docs"
   ]
  },
  {
   "cell_type": "code",
   "execution_count": null,
   "id": "db2af358-3f54-4ffb-b2c1-2179860487d7",
   "metadata": {},
   "outputs": [],
   "source": [
    "# https://matplotlib.org/stable/gallery/images_contours_and_fields/image_annotated_heatmap.html#sphx-glr-gallery-images-contours-and-fields-image-annotated-heatmap-py\n",
    "def heatmap(data, row_labels, col_labels, ax=None,\n",
    "            cbar_kw=None, cbarlabel=\"\", **kwargs):\n",
    "    \"\"\"\n",
    "    Create a heatmap from a numpy array and two lists of labels.\n",
    "\n",
    "    Parameters\n",
    "    ----------\n",
    "    data\n",
    "        A 2D numpy array of shape (M, N).\n",
    "    row_labels\n",
    "        A list or array of length M with the labels for the rows.\n",
    "    col_labels\n",
    "        A list or array of length N with the labels for the columns.\n",
    "    ax\n",
    "        A `matplotlib.axes.Axes` instance to which the heatmap is plotted.  If\n",
    "        not provided, use current Axes or create a new one.  Optional.\n",
    "    cbar_kw\n",
    "        A dictionary with arguments to `matplotlib.Figure.colorbar`.  Optional.\n",
    "    cbarlabel\n",
    "        The label for the colorbar.  Optional.\n",
    "    **kwargs\n",
    "        All other arguments are forwarded to `imshow`.\n",
    "    \"\"\"\n",
    "\n",
    "    if ax is None:\n",
    "        ax = plt.gca()\n",
    "\n",
    "    if cbar_kw is None:\n",
    "        cbar_kw = {}\n",
    "\n",
    "    # Plot the heatmap\n",
    "    im = ax.imshow(data, **kwargs)\n",
    "\n",
    "    # Create colorbar\n",
    "    cbar = ax.figure.colorbar(im, ax=ax, **cbar_kw)\n",
    "    cbar.ax.set_ylabel(cbarlabel, rotation=-90, va=\"bottom\")\n",
    "\n",
    "    # Show all ticks and label them with the respective list entries.\n",
    "    ax.set_xticks(range(data.shape[1]), labels=col_labels,\n",
    "                  rotation=-30, ha=\"right\", rotation_mode=\"anchor\")\n",
    "    ax.set_yticks(range(data.shape[0]), labels=row_labels)\n",
    "\n",
    "    # Let the horizontal axes labeling appear on top.\n",
    "    ax.tick_params(top=True, bottom=False,\n",
    "                   labeltop=True, labelbottom=False)\n",
    "\n",
    "    # Turn spines off and create white grid.\n",
    "    ax.spines[:].set_visible(False)\n",
    "\n",
    "    ax.set_xticks(np.arange(data.shape[1]+1)-.5, minor=True)\n",
    "    ax.set_yticks(np.arange(data.shape[0]+1)-.5, minor=True)\n",
    "    ax.grid(which=\"minor\", color=\"w\", linestyle='-', linewidth=3)\n",
    "    ax.tick_params(which=\"minor\", bottom=False, left=False)\n",
    "\n",
    "    return im, cbar\n",
    "\n",
    "def annotate_heatmap(im, data=None, valfmt=\"{x:.2f}\",\n",
    "                     textcolors=(\"black\", \"white\"),\n",
    "                     threshold=None, **textkw):\n",
    "    \"\"\"\n",
    "    A function to annotate a heatmap.\n",
    "\n",
    "    Parameters\n",
    "    ----------\n",
    "    im\n",
    "        The AxesImage to be labeled.\n",
    "    data\n",
    "        Data used to annotate.  If None, the image's data is used.  Optional.\n",
    "    valfmt\n",
    "        The format of the annotations inside the heatmap.  This should either\n",
    "        use the string format method, e.g. \"$ {x:.2f}\", or be a\n",
    "        `matplotlib.ticker.Formatter`.  Optional.\n",
    "    textcolors\n",
    "        A pair of colors.  The first is used for values below a threshold,\n",
    "        the second for those above.  Optional.\n",
    "    threshold\n",
    "        Value in data units according to which the colors from textcolors are\n",
    "        applied.  If None (the default) uses the middle of the colormap as\n",
    "        separation.  Optional.\n",
    "    **kwargs\n",
    "        All other arguments are forwarded to each call to `text` used to create\n",
    "        the text labels.\n",
    "    \"\"\"\n",
    "\n",
    "    if not isinstance(data, (list, np.ndarray)):\n",
    "        data = im.get_array()\n",
    "\n",
    "    # Normalize the threshold to the images color range.\n",
    "    if threshold is not None:\n",
    "        threshold = im.norm(threshold)\n",
    "    else:\n",
    "        threshold = im.norm(data.max())/2.\n",
    "\n",
    "    # Set default alignment to center, but allow it to be\n",
    "    # overwritten by textkw.\n",
    "    kw = dict(horizontalalignment=\"center\",\n",
    "              verticalalignment=\"center\")\n",
    "    kw.update(textkw)\n",
    "\n",
    "    # Get the formatter in case a string is supplied\n",
    "    if isinstance(valfmt, str):\n",
    "        valfmt = matplotlib.ticker.StrMethodFormatter(valfmt)\n",
    "\n",
    "    # Loop over the data and create a `Text` for each \"pixel\".\n",
    "    # Change the text's color depending on the data.\n",
    "    texts = []\n",
    "    for i in range(data.shape[0]):\n",
    "        for j in range(data.shape[1]):\n",
    "            kw.update(color=textcolors[int(im.norm(data[i, j]) > threshold)])\n",
    "            text = im.axes.text(j, i, valfmt(data[i, j], None), **kw)\n",
    "            texts.append(text)\n",
    "\n",
    "    return texts"
   ]
  },
  {
   "cell_type": "markdown",
   "id": "0b29dd17-0ce9-4876-b7f1-c6b14084bfad",
   "metadata": {},
   "source": [
    "#### Plot"
   ]
  },
  {
   "cell_type": "code",
   "execution_count": null,
   "id": "3b2f3fce-4690-4893-b7ff-aaadfae3aad9",
   "metadata": {},
   "outputs": [],
   "source": [
    "flip_vertical = True\n",
    "if flip_vertical:\n",
    "    transition_probs = np.flipud(transition_probs)"
   ]
  },
  {
   "cell_type": "code",
   "execution_count": null,
   "id": "0d158148-1ae1-48d7-96fa-7a6cc9fee9b8",
   "metadata": {
    "editable": true,
    "slideshow": {
     "slide_type": ""
    },
    "tags": []
   },
   "outputs": [],
   "source": [
    "fig, ax = plt.subplots(figsize=(8,8))\n",
    "\n",
    "rlabels = [f'({x_edges[i]:.2f},{x_edges[i+1]:.2f})' for i in range(len(x_edges)-1)]\n",
    "clabels = [f'({y_edges[i]:.2f},{y_edges[i+1]:.2f})' for i in range(len(y_edges)-1)]\n",
    "\n",
    "im, cbar = heatmap(transition_probs, rlabels[::-1] if flip_vertical else rlabels, clabels, ax=ax,\n",
    "                   cmap=\"YlOrBr\", cbarlabel=\"Density\",\n",
    "                   #cmap=\"viridis\", cbarlabel=\"Density\",\n",
    "                   cbar_kw={'shrink':0.8})\n",
    "texts = annotate_heatmap(im, valfmt=\"{x:.2f}\")\n",
    "#texts = annotate_heatmap(im, valfmt=\"{x:.2f}\", textcolors=['lightgrey', 'black'])\n",
    "\n",
    "title = f'${'\\\\' if plot_value=='delta' else ''}{plot_value}$ Transition Probabilities\\n'\n",
    "\n",
    "# Axis lines\n",
    "#ax.vlines(0.5, 0, 1, colors='k', transform=ax.transAxes)\n",
    "#ax.hlines(0.5, 0, 1, colors='k', transform=ax.transAxes)\n",
    "ax.vlines(1/(num_sections+1), 0, 1, colors='k', transform=ax.transAxes)\n",
    "\n",
    "if edge_dist_name == 'exp':\n",
    "    title += f'$\\\\xi=\\\\text{{Poisson}}({lam}), \\\\omega=\\\\text{{Exp}}(1), '\n",
    "elif edge_dist_name == 'unif':\n",
    "    title += f'$\\\\xi=\\\\text{{Poisson}}({lam}), \\\\omega=\\\\text{{Unif}}(0,1), '\n",
    "\n",
    "# title += f'n={num_samples}$'\n",
    "title += 'n=10^6$'\n",
    "#title += 'n=10^5$'\n",
    "\n",
    "plt.title(title)\n",
    "plt.xlabel('To State')\n",
    "plt.ylabel('From State')\n",
    "\n",
    "fig.tight_layout()\n",
    "plt.show()"
   ]
  },
  {
   "cell_type": "code",
   "execution_count": null,
   "id": "2d4a7633-68ce-4e21-b90d-d6e74caaee5b",
   "metadata": {},
   "outputs": [],
   "source": [
    "z_vals_along_path = []\n",
    "num_samples = 100000\n",
    "for _ in range(num_samples):\n",
    "    # Generate tree\n",
    "    tree = nx.Graph(GWBP(dist=offspring_dist, MAXLEVEL=10))\n",
    "    for u,v in tree.edges():\n",
    "        tree[u][v]['weight'] = edge_dist()\n",
    "\n",
    "    if tree.number_of_nodes() == 1:\n",
    "        continue\n",
    "    \n",
    "    # Get Z values, children\n",
    "    tups = util.path_cover(tree, root=0, return_tuples=True)\n",
    "    Z = {v:tup[1] for v,tup in tups}\n",
    "    v1 = {v:tup[2] for v,tup in tups}\n",
    "    v2 = {v:tup[3] for v,tup in tups}\n",
    "\n",
    "    current_node = 0 # first max child of root 0\n",
    "    while v1[current_node] is not None and Z[v1[current_node]] >= 0:\n",
    "        current_node = v1[current_node]\n",
    "        z_vals_along_path.append(Z[current_node])"
   ]
  },
  {
   "cell_type": "code",
   "execution_count": null,
   "id": "9ba608c7",
   "metadata": {},
   "outputs": [],
   "source": [
    "offspring_dist = lambda: np.random.poisson(lam)\n",
    "z_vals_random = []\n",
    "num_samples = 100000\n",
    "for _ in range(num_samples):\n",
    "        # Generate tree\n",
    "    tree = nx.Graph(GWBP(dist=offspring_dist, MAXLEVEL=10))\n",
    "    for u,v in tree.edges():\n",
    "        tree[u][v]['weight'] = edge_dist()\n",
    "\n",
    "    if tree.number_of_nodes() < 1:\n",
    "        continue\n",
    "\n",
    "    # Get Z values, children\n",
    "    tups = util.path_cover(tree, root=0, return_tuples=True)\n",
    "    # need to exclude root because we are assuming it has no z-value\n",
    "    Z = {v:tup[1] for v,tup in tups if v == 0}\n",
    "    z_vals_random += list(Z.values())"
   ]
  },
  {
   "cell_type": "code",
   "execution_count": null,
   "id": "ed04c6ec",
   "metadata": {},
   "outputs": [],
   "source": [
    "z_count_less_than_zero = sum(1 for z in z_vals_random if z <= 0)\n",
    "total_z_values = len(z_vals_random)\n",
    "print(z_count_less_than_zero / total_z_values)\n",
    "xs, ys = zs.compute_z_pdf(lam, 1000)"
   ]
  },
  {
   "cell_type": "code",
   "execution_count": null,
   "id": "b70a190f",
   "metadata": {},
   "outputs": [],
   "source": [
    "z_vals_random_pos = [z for z in z_vals_random if z > 0]\n",
    "fig = plt.figure(figsize=(8, 6))\n",
    "fig.patch.set_facecolor('xkcd:off white')\n",
    "plt.plot(xs, ys, '-', label=['Expected PDF'], color='red', linewidth = 3.0)\n",
    "plt.hist(z_vals_random, bins=\"auto\", color=\"blue\", edgecolor=\"black\", alpha=0.6, density=\"True\")\n",
    "plt.title(f\"Root Z-Value Distribution for $\\\\lambda$ = {lam}, {num_samples} samples\", fontfamily = ['Serif'])\n",
    "plt.xlabel(\"Z-Value\")\n",
    "plt.ylabel(\"Normalized Frequency\")\n",
    "plt.legend()\n",
    "plt.grid(axis='y', alpha=0.75)\n",
    "plt.show()"
   ]
  },
  {
   "cell_type": "code",
   "execution_count": null,
   "id": "8fc6b83d",
   "metadata": {},
   "outputs": [],
   "source": [
    "plt.figure(figsize=(8, 6))\n",
    "plt.hist(z_vals_along_path, bins=\"auto\", color=\"blue\", edgecolor=\"black\", alpha=0.7)\n",
    "plt.title(\"Z-Values For Nodes Along the Path Starting From the First Max of the Root\")\n",
    "plt.xlabel(\"Z-Value\")\n",
    "plt.ylabel(\"Frequency\")\n",
    "plt.grid(axis='y', alpha=0.75)\n",
    "plt.show()"
   ]
  },
  {
   "cell_type": "code",
   "execution_count": null,
   "id": "66b7d7f3-6902-4695-bcb8-156044a06148",
   "metadata": {},
   "outputs": [],
   "source": [
    "xs, ys = zs.compute_z_pdf(0.7, 10000)"
   ]
  },
  {
   "cell_type": "code",
   "execution_count": null,
   "id": "83e86a8a-fc37-4943-9379-fddbc30f7511",
   "metadata": {},
   "outputs": [],
   "source": [
    "plt.figure()\n",
    "plt.plot(xs, ys, '-', label=['CDF', 'density'])\n",
    "plt.legend()"
   ]
  }
 ],
 "metadata": {
  "kernelspec": {
   "display_name": "Python [conda env:py13]",
   "language": "python",
   "name": "conda-env-py13-py"
  },
  "language_info": {
   "codemirror_mode": {
    "name": "ipython",
    "version": 3
   },
   "file_extension": ".py",
   "mimetype": "text/x-python",
   "name": "python",
   "nbconvert_exporter": "python",
   "pygments_lexer": "ipython3",
   "version": "3.13.2"
  }
 },
 "nbformat": 4,
 "nbformat_minor": 5
}
