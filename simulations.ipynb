{
 "cells": [
  {
   "cell_type": "code",
   "execution_count": 1,
   "id": "74b3689d-8781-4351-9ebf-57bf636bed20",
   "metadata": {},
   "outputs": [],
   "source": [
    "import numpy as np\n",
    "import matplotlib.pyplot as plt\n",
    "import networkx as nx\n",
    "import random\n",
    "import kmax as kx\n",
    "import utility as util\n",
    "from hierarchy import *"
   ]
  },
  {
   "cell_type": "markdown",
   "id": "cafdcc67-7867-4862-927a-c567a55b2505",
   "metadata": {},
   "source": [
    "# Erdos-Renyi Simulations"
   ]
  },
  {
   "cell_type": "code",
   "execution_count": 2,
   "id": "53830c97-4f76-4a26-9e2c-3b8fbc52d8d1",
   "metadata": {},
   "outputs": [],
   "source": [
    "def my_draw(tree, draw_path=True):\n",
    "    #layout = hierarchyc_pos(tree, 0)\n",
    "    layout = nx.spring_layout(tree)\n",
    "    # nx.draw_networkx_nodes(tree, pos=layout, node_size=4)\n",
    "    nx.draw_networkx_labels(tree, pos=layout, font_size=8, font_color=\"tab:blue\")\n",
    "    \n",
    "    #if draw_path:\n",
    "    #    path_cover,_=util.path_cover(tree)\n",
    "    #    nx.draw_networkx_edges(rooted_tree, pos=layout, edgelist=path_cover, edge_color=\"tab:red\", arrows=True)\n",
    "    #    \n",
    "    #    other_edges = [(u,v) for u,v in rooted_tree.edges() if (u,v) not in path_cover and (v,u) not in path_cover]\n",
    "    #    nx.draw_networkx_edges(rooted_tree, pos=layout, edgelist=other_edges)\n",
    "    #else:\n",
    "    nx.draw_networkx_edges(tree, pos=layout)"
   ]
  },
  {
   "cell_type": "code",
   "execution_count": 3,
   "id": "44db511c-8ee7-4dbb-a80b-55ff7cc7f008",
   "metadata": {},
   "outputs": [],
   "source": [
    "n = 20\n",
    "lam = 0.7\n",
    "tree = nx.erdos_renyi_graph(n, lam/n)\n",
    "for u,v in tree.edges():\n",
    "    tree[u][v]['weight'] = 1"
   ]
  },
  {
   "cell_type": "code",
   "execution_count": 4,
   "id": "c504364d-20c6-4d14-beb9-28e1bf4b08e4",
   "metadata": {},
   "outputs": [
    {
     "data": {
      "image/png": "[encoded data removed]",
      "text/plain": [
       "<Figure size 640x480 with 1 Axes>"
      ]
     },
     "metadata": {},
     "output_type": "display_data"
    }
   ],
   "source": [
    "my_draw(tree)"
   ]
  },
  {
   "cell_type": "code",
   "execution_count": 5,
   "id": "07222cf3-24fe-4412-99e2-09cee87cfacb",
   "metadata": {},
   "outputs": [],
   "source": [
    "def sim_Tn(n, lam=0.7):\n",
    "    # Generate Erdos-Renyi graph (G(n,lam/n))\n",
    "    tree = nx.erdos_renyi_graph(n, lam/n)\n",
    "    for u,v in tree.edges():\n",
    "        tree[u][v]['weight'] = 1\n",
    "        \n",
    "    T_n = 0\n",
    "    for nodes in nx.connected_components(tree):\n",
    "        subgraph = tree.subgraph(nodes)\n",
    "        \n",
    "        #print(subgraph.edges())\n",
    "        path, _, X = util.path_cover(subgraph, list(nodes)[0])\n",
    "        T_n += X\n",
    "        \n",
    "    return T_n, nx.number_connected_components(tree)"
   ]
  },
  {
   "cell_type": "code",
   "execution_count": null,
   "id": "5420cb42-bfa9-4f65-b6ff-3215b76bfdac",
   "metadata": {},
   "outputs": [],
   "source": [
    "def sim_expectation_X(num_samples, n, lam):\n",
    "    Xs = 0\n",
    "    for i in range(num_samples):\n",
    "        X, k = sim_Tn(n, lam)\n",
    "        Xs += X\n",
    "        print(Xs / k)"
   ]
  },
  {
   "cell_type": "code",
   "execution_count": 8,
   "id": "01316120-6706-4174-8509-d2b34e014b95",
   "metadata": {},
   "outputs": [
    {
     "name": "stdout",
     "output_type": "stream",
     "text": [
      "0.625\n",
      "1.3703703703703705\n",
      "1.463768115942029\n",
      "2.125\n",
      "2.4558823529411766\n",
      "3.4655172413793105\n",
      "3.7142857142857144\n",
      "3.3376623376623376\n",
      "5.3090909090909095\n",
      "5.559322033898305\n",
      "5.918032786885246\n",
      "6.779661016949152\n",
      "6.085714285714285\n",
      "7.030769230769231\n",
      "7.253731343283582\n",
      "8.508196721311476\n",
      "8.746031746031745\n",
      "8.803030303030303\n",
      "9.951612903225806\n",
      "11.945454545454545\n",
      "9.5\n",
      "11.234375\n",
      "10.507042253521126\n",
      "12.80327868852459\n",
      "15.807692307692308\n",
      "12.304347826086957\n",
      "11.486842105263158\n",
      "12.704225352112676\n",
      "17.10909090909091\n",
      "13.857142857142858\n",
      "14.434782608695652\n",
      "14.81159420289855\n",
      "17.93220338983051\n",
      "17.349206349206348\n",
      "17.59375\n",
      "19.065573770491802\n",
      "19.62295081967213\n",
      "20.229508196721312\n",
      "22.31578947368421\n",
      "19.71212121212121\n",
      "20.8125\n",
      "21.634920634920636\n",
      "19.041095890410958\n",
      "25.963636363636365\n",
      "21.776119402985074\n",
      "21.271428571428572\n",
      "22.64179104477612\n",
      "27.29824561403509\n",
      "24.446153846153845\n",
      "27.066666666666666\n",
      "25.875\n",
      "24.420289855072465\n",
      "26.8125\n",
      "22.584415584415584\n",
      "26.818181818181817\n",
      "29.096774193548388\n",
      "30.114754098360656\n",
      "28.303030303030305\n",
      "27.47826086956522\n",
      "30.15625\n",
      "33.93103448275862\n",
      "30.28787878787879\n",
      "32.82258064516129\n",
      "31.8\n",
      "33.91935483870968\n",
      "36.91379310344828\n",
      "31.44927536231884\n",
      "35.0\n",
      "44.88\n",
      "32.0\n",
      "42.018181818181816\n",
      "34.4264705882353\n",
      "32.41095890410959\n",
      "34.18571428571428\n",
      "32.66216216216216\n",
      "39.53225806451613\n",
      "45.25454545454546\n",
      "34.42465753424658\n",
      "34.310810810810814\n",
      "36.140845070422536\n",
      "38.161764705882355\n",
      "37.48571428571429\n",
      "46.719298245614034\n",
      "35.35526315789474\n",
      "43.935483870967744\n",
      "43.078125\n",
      "38.10958904109589\n",
      "43.323076923076925\n",
      "39.486111111111114\n",
      "42.91044776119403\n",
      "45.453125\n",
      "45.9375\n",
      "41.18055555555556\n",
      "45.42424242424242\n",
      "44.529411764705884\n",
      "44.94117647058823\n",
      "49.854838709677416\n",
      "50.41935483870968\n",
      "60.86538461538461\n",
      "47.01470588235294\n"
     ]
    }
   ],
   "source": [
    "# Expectation of single sample X\n",
    "n = 100\n",
    "lam = 0.7\n",
    "num_samples = 100\n",
    "\n",
    "Xs = 0\n",
    "for i in range(num_samples):\n",
    "    X, k = sim_Tn(n, lam)\n",
    "    Xs += X\n",
    "    print(Xs / k)"
   ]
  },
  {
   "cell_type": "code",
   "execution_count": null,
   "id": "c3c4ad33-69f8-459a-bec8-3041e60f3e1b",
   "metadata": {},
   "outputs": [],
   "source": [
    "values = {n:sim_Tn(n, lam)/n for n in range(1,300)}\n",
    "x,y = zip(*sorted(values.items(), key=lambda x:x[0]))\n",
    "plt.plot(x,y)\n",
    "plt.xlabel(\"n\")\n",
    "plt.ylabel(\"T_n/n\")"
   ]
  },
  {
   "cell_type": "code",
   "execution_count": null,
   "id": "9a996470-430e-45d9-94f8-5ecdde22e4f2",
   "metadata": {},
   "outputs": [],
   "source": [
    "list(values.items())[:10]"
   ]
  },
  {
   "cell_type": "code",
   "execution_count": null,
   "id": "b7c7c73a-78bd-4b8a-8d50-c69054488f8e",
   "metadata": {},
   "outputs": [],
   "source": []
  }
 ],
 "metadata": {
  "kernelspec": {
   "display_name": "Python 3 (ipykernel)",
   "language": "python",
   "name": "python3"
  },
  "language_info": {
   "codemirror_mode": {
    "name": "ipython",
    "version": 3
   },
   "file_extension": ".py",
   "mimetype": "text/x-python",
   "name": "python",
   "nbconvert_exporter": "python",
   "pygments_lexer": "ipython3",
   "version": "3.9.7"
  }
 },
 "nbformat": 4,
 "nbformat_minor": 5
}
