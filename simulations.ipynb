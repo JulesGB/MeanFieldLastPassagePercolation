{
 "cells": [
  {
   "cell_type": "code",
   "execution_count": 1,
   "id": "74b3689d-8781-4351-9ebf-57bf636bed20",
   "metadata": {},
   "outputs": [
    {
     "ename": "SyntaxError",
     "evalue": "invalid syntax (utility.py, line 88)",
     "output_type": "error",
     "traceback": [
      "Traceback \u001b[1;36m(most recent call last)\u001b[0m:\n",
      "\u001b[0m  File \u001b[0;32m~\\AppData\\Roaming\\Python\\Python312\\site-packages\\IPython\\core\\interactiveshell.py:3577\u001b[0m in \u001b[0;35mrun_code\u001b[0m\n    exec(code_obj, self.user_global_ns, self.user_ns)\u001b[0m\n",
      "\u001b[1;36m  Cell \u001b[1;32mIn[1], line 7\u001b[1;36m\n\u001b[1;33m    import utility as util\u001b[1;36m\n",
      "\u001b[1;36m  File \u001b[1;32m~\\Desktop\\Mean-Field Last-Passage Percolation\\MeanFieldLastPassagePercolation\\utility.py:88\u001b[1;36m\u001b[0m\n\u001b[1;33m    if node ==\u001b[0m\n\u001b[1;37m               ^\u001b[0m\n\u001b[1;31mSyntaxError\u001b[0m\u001b[1;31m:\u001b[0m invalid syntax\n"
     ]
    }
   ],
   "source": [
    "import numpy as np\n",
    "import matplotlib.pyplot as plt\n",
    "import networkx as nx\n",
    "import random\n",
    "import statistics\n",
    "import kmax as kx\n",
    "import utility as util\n",
    "from hierarchy import *"
   ]
  },
  {
   "cell_type": "markdown",
   "id": "cafdcc67-7867-4862-927a-c567a55b2505",
   "metadata": {},
   "source": [
    "# Erdos-Renyi Simulations\n",
    "\n",
    "### TODO\n",
    "[ ] Simulate $\\frac{\\sum{T_i}}{n} \\to \\frac{EX}{EN}$"
   ]
  },
  {
   "cell_type": "code",
   "execution_count": null,
   "id": "53830c97-4f76-4a26-9e2c-3b8fbc52d8d1",
   "metadata": {},
   "outputs": [],
   "source": [
    "def my_draw(tree, draw_path=True):\n",
    "    #layout = hierarchyc_pos(tree, 0)\n",
    "    layout = nx.spring_layout(tree)\n",
    "    # nx.draw_networkx_nodes(tree, pos=layout, node_size=4)\n",
    "    nx.draw_networkx_labels(tree, pos=layout, font_size=8, font_color=\"tab:blue\")\n",
    "    \n",
    "    #if draw_path:\n",
    "    #    path_cover,_=util.path_cover(tree)\n",
    "    #    nx.draw_networkx_edges(rooted_tree, pos=layout, edgelist=path_cover, edge_color=\"tab:red\", arrows=True)\n",
    "    #    \n",
    "    #    other_edges = [(u,v) for u,v in rooted_tree.edges() if (u,v) not in path_cover and (v,u) not in path_cover]\n",
    "    #    nx.draw_networkx_edges(rooted_tree, pos=layout, edgelist=other_edges)\n",
    "    #else:\n",
    "    nx.draw_networkx_edges(tree, pos=layout)"
   ]
  },
  {
   "cell_type": "markdown",
   "id": "9c57d4c3-d878-4137-af99-1cf10ea1122c",
   "metadata": {},
   "source": [
    "# Generate Tree"
   ]
  },
  {
   "cell_type": "code",
   "execution_count": null,
   "id": "44db511c-8ee7-4dbb-a80b-55ff7cc7f008",
   "metadata": {},
   "outputs": [],
   "source": [
    "n = 20\n",
    "lam = 0.7\n",
    "tree = nx.erdos_renyi_graph(n, lam/n)\n",
    "for u,v in tree.edges():\n",
    "    tree[u][v]['weight'] = 1"
   ]
  },
  {
   "cell_type": "code",
   "execution_count": null,
   "id": "c504364d-20c6-4d14-beb9-28e1bf4b08e4",
   "metadata": {},
   "outputs": [],
   "source": [
    "my_draw(tree)"
   ]
  },
  {
   "cell_type": "markdown",
   "id": "f87eed6c-6f40-4742-925d-a0e569cf90e4",
   "metadata": {},
   "source": [
    "# Simulation"
   ]
  },
  {
   "cell_type": "code",
   "execution_count": null,
   "id": "07222cf3-24fe-4412-99e2-09cee87cfacb",
   "metadata": {},
   "outputs": [],
   "source": [
    "def expectation_X_sample(sample_tree): \n",
    "    X = 0\n",
    "    for nodes in nx.connected_components(sample_tree):\n",
    "        subgraph = sample_tree.subgraph(nodes)\n",
    "        path, _, Xi = util.path_cover(subgraph, list(nodes)[0])\n",
    "        X += Xi\n",
    "        \n",
    "    return X / nx.number_connected_components(sample_tree)"
   ]
  },
  {
   "cell_type": "code",
   "execution_count": null,
   "id": "0a65ccee-b290-4d9a-b996-eabb8205c8df",
   "metadata": {},
   "outputs": [],
   "source": [
    "def expectation_X(n, lam, num_samples=100):\n",
    "    Xs = 0\n",
    "    for _ in range(num_samples):\n",
    "        # Generate Erdos-Renyi graph (G(n,lam/n))\n",
    "        sample_tree = nx.erdos_renyi_graph(n, lam/n)\n",
    "        for u,v in sample_tree.edges():\n",
    "            sample_tree[u][v]['weight'] = 1\n",
    "\n",
    "        # Calculate EX for current sample\n",
    "        Xs += expectation_X_sample(sample_tree)\n",
    "    return Xs / num_samples"
   ]
  },
  {
   "cell_type": "code",
   "execution_count": null,
   "id": "01316120-6706-4174-8509-d2b34e014b95",
   "metadata": {},
   "outputs": [],
   "source": [
    "expectation_X(100, 0.7)"
   ]
  },
  {
   "cell_type": "code",
   "execution_count": null,
   "id": "c3c4ad33-69f8-459a-bec8-3041e60f3e1b",
   "metadata": {},
   "outputs": [],
   "source": [
    "ns = list(range(1,100))\n",
    "values = [expectation_X(n,0.7) for n in ns]"
   ]
  },
  {
   "cell_type": "code",
   "execution_count": null,
   "id": "beae1014-f2f3-4cea-b73c-e2a3b4aa667f",
   "metadata": {},
   "outputs": [],
   "source": [
    "plt.plot(ns, values)\n",
    "plt.xlabel(\"n\")\n",
    "plt.ylabel(\"EX\")\n",
    "plt.axhline(y=statistics.mean(values), color='red')"
   ]
  },
  {
   "cell_type": "code",
   "execution_count": null,
   "id": "121c3c15-861b-43c9-a7dd-fa183bb6f096",
   "metadata": {},
   "outputs": [],
   "source": []
  }
 ],
 "metadata": {
  "kernelspec": {
   "display_name": "Python 3 (ipykernel)",
   "language": "python",
   "name": "python3"
  },
  "language_info": {
   "codemirror_mode": {
    "name": "ipython",
    "version": 3
   },
   "file_extension": ".py",
   "mimetype": "text/x-python",
   "name": "python",
   "nbconvert_exporter": "python",
   "pygments_lexer": "ipython3",
   "version": "3.12.6"
  }
 },
 "nbformat": 4,
 "nbformat_minor": 5
}
