{
 "cells": [
  {
   "cell_type": "code",
   "execution_count": 1,
   "id": "74b3689d-8781-4351-9ebf-57bf636bed20",
   "metadata": {},
   "outputs": [],
   "source": [
    "import numpy as np\n",
    "import matplotlib.pyplot as plt\n",
    "import networkx as nx\n",
    "import random\n",
    "import statistics\n",
    "import kmax as kx\n",
    "import utility as util\n",
    "from hierarchy import *\n",
    "from scipy.optimize import fsolve\n",
    "from IPython.core.debugger import set_trace"
   ]
  },
  {
   "cell_type": "markdown",
   "id": "cafdcc67-7867-4862-927a-c567a55b2505",
   "metadata": {},
   "source": [
    "# Simulations"
   ]
  },
  {
   "cell_type": "markdown",
   "id": "6b3a2ac9-1adb-4246-aace-2776393d73f2",
   "metadata": {},
   "source": [
    "## Erdos-Renyi Graphs $(G_{n,p})$\n",
    "\n",
    "For an Erdos-Renyi graph $G\\left(n,\\frac{\\lambda}{n}\\right)$, we expect\n",
    "$$\n",
    "TODO\n",
    "$$\n",
    "\n",
    "For Erdos-Renyi random graph G(n, lam/n) compute the x value / n, for 1000 samples with n = 10000 or more. This should converge to E(X/N) where X =  x value for a Poisson(lam) branching process and N = number of nodes in the same Poisson(lam) branching process. X and N are correlated and we computed E(X), E(N) explicitly. What we need is E(X/N): this can be computed by simulation many Galton Watson Tree samples, for each sample compute X/N, take their average."
   ]
  },
  {
   "cell_type": "markdown",
   "id": "b121a299-2f8c-4519-9cb6-5421ab891310",
   "metadata": {},
   "source": [
    "### Approximation of $\\mathbb{E}(X/N)$"
   ]
  },
  {
   "cell_type": "code",
   "execution_count": 2,
   "id": "adb2808f-5656-4212-afe5-2bb105c2aa38",
   "metadata": {},
   "outputs": [],
   "source": [
    "def X_sample_GNP(sample_tree):\n",
    "    X = 0\n",
    "    for nodes in nx.connected_components(sample_tree):\n",
    "        subgraph = sample_tree.subgraph(nodes)\n",
    "        path, _, Xi = util.path_cover(subgraph, list(nodes)[0])\n",
    "        X += Xi\n",
    "    return X"
   ]
  },
  {
   "cell_type": "code",
   "execution_count": 3,
   "id": "9566cf94-dd83-4119-a89d-93bc21c197be",
   "metadata": {},
   "outputs": [],
   "source": [
    "# TODO\n",
    "def iterate_GNP(lam, num_samples=100, n=10000):\n",
    "    Xs = 0\n",
    "    Ns = 0\n",
    "    for _ in range(num_samples):\n",
    "        # Erdos-Reyni Graph\n",
    "        sample_tree = nx.fast_gnp_random_graph(n, lam/n)\n",
    "\n",
    "        for u,v in sample_tree.edges():\n",
    "            sample_tree[u][v]['weight'] = 1\n",
    "\n",
    "        # Calculate EX/EN for current sample\n",
    "        Xs += X_sample_GNP(sample_tree)\n",
    "        Ns += nx.number_of_nodes(sample_tree)\n",
    "    return Xs / Ns"
   ]
  },
  {
   "cell_type": "markdown",
   "id": "f87eed6c-6f40-4742-925d-a0e569cf90e4",
   "metadata": {},
   "source": [
    "## GW Branching Process"
   ]
  },
  {
   "cell_type": "markdown",
   "id": "e69811ee-85ee-4f94-9a84-3cabc832315e",
   "metadata": {},
   "source": [
    "For a Poisson branching process with $\\lambda < 1$, we expect that\n",
    "$$\n",
    "\\frac{X}{n}\\underset{n\\to\\infty}{\\longrightarrow}\\frac{\\mathbb{E}X}{\\mathbb{E}N}\n",
    "$$\n",
    "where $X$ is the last-passage time of a GWBP tree with parameter $\\lambda$\n",
    "\n",
    "In theory,\n",
    "$$\n",
    "\\mathbb{E}X = \\frac{2-(\\lambda p+2)e^{-\\lambda p}}{1-\\lambda}~~~~~\\text{and}~~~~~\\mathbb{E}N=\\frac{1}{1-\\lambda}\n",
    "$$\n",
    "where $p:=p(\\lambda)$ is a solution to the equation $$pe^{\\lambda p} = 1+\\lambda p.$$\n",
    "\n",
    "Thus\n",
    "$$\n",
    "\\frac{\\mathbb{E}X}{\\mathbb{E}N} = 2-(\\lambda p+2)e^{-\\lambda p}.\n",
    "$$\n",
    "For example,\n",
    "$\n",
    "\\lambda = 0.7 \\implies p\\approx 0.874161.\n",
    "$"
   ]
  },
  {
   "cell_type": "markdown",
   "id": "1c595650-987c-4ef0-a002-56096ff550c0",
   "metadata": {},
   "source": [
    "### Computation of $p$ + theoretical target values"
   ]
  },
  {
   "cell_type": "code",
   "execution_count": 41,
   "id": "b0ae1c2f-0005-4e88-aaa3-abc5e2d5d183",
   "metadata": {},
   "outputs": [],
   "source": [
    "# CONSTANTS\n",
    "LAM = 0.7"
   ]
  },
  {
   "cell_type": "code",
   "execution_count": 5,
   "id": "3e8de369-2d50-4fbe-b147-dc4792b9f132",
   "metadata": {},
   "outputs": [],
   "source": [
    "def func(p):\n",
    "    return [p[0] * np.exp(LAM*p[0]) - (1 + LAM * p[0])]"
   ]
  },
  {
   "cell_type": "code",
   "execution_count": 6,
   "id": "9b180558-c847-41c3-af2d-bbaf59a3a89a",
   "metadata": {},
   "outputs": [],
   "source": [
    "p = float(fsolve(func,0)[0])\n",
    "EX_EN = 2-(2+LAM*p)*math.exp(-LAM*p)\n",
    "EX = EX_EN / (1-LAM)"
   ]
  },
  {
   "cell_type": "code",
   "execution_count": 7,
   "id": "65979852-0e9d-4209-b09c-5352a7ba5be2",
   "metadata": {},
   "outputs": [
    {
     "name": "stdout",
     "output_type": "stream",
     "text": [
      "p = 0.8741606425132245\n",
      "EX/EN = 0.583526626641014\n",
      "EX = 1.9450887554700462\n"
     ]
    }
   ],
   "source": [
    "print(f'p = {p}')\n",
    "print(f'EX/EN = {EX_EN}')\n",
    "print(f'EX = {EX}')"
   ]
  },
  {
   "cell_type": "markdown",
   "id": "17f82ecb-84b1-4547-9626-b04f9f1c8302",
   "metadata": {},
   "source": [
    "### Approximation of $\\frac{\\mathbb{E}X}{\\mathbb{E}N}$\n",
    "\n",
    "We know $\\mathbb{E}N=\\frac{1}{1-\\lambda}$ so we only need to compute $\\mathbb{E}X$."
   ]
  },
  {
   "cell_type": "code",
   "execution_count": 20,
   "id": "ffe980ff-1065-4868-8abd-0f5a1710d868",
   "metadata": {},
   "outputs": [],
   "source": [
    "def iterate_GWBP_EX(num_samples=100):\n",
    "    Xs = []\n",
    "    for _ in range(num_samples):\n",
    "        # Poisson Branching\n",
    "        sample_tree = nx.Graph(GWBP(LAM, MAXLEVEL=100))\n",
    "        for u,v in sample_tree.edges():\n",
    "            sample_tree[u][v]['weight'] = 1\n",
    "\n",
    "        # Get X for sample_tree\n",
    "        _,_,X = util.path_cover(sample_tree, list(sample_tree.nodes())[0])\n",
    "        Xs.append(X)\n",
    "    return Xs"
   ]
  },
  {
   "cell_type": "code",
   "execution_count": 44,
   "id": "9fcca150-9f95-42d7-8ffc-b7fb3171dd9a",
   "metadata": {},
   "outputs": [
    {
     "data": {
      "text/plain": [
       "1.9518"
      ]
     },
     "execution_count": 44,
     "metadata": {},
     "output_type": "execute_result"
    }
   ],
   "source": [
    "Xs = iterate_GWBP_EX(num_samples=10000)\n",
    "EX_sampled = statistics.mean(Xs)\n",
    "EX_sampled"
   ]
  },
  {
   "cell_type": "code",
   "execution_count": 45,
   "id": "e2c4cb86-ba97-4967-ba69-60c7bcdf35fd",
   "metadata": {},
   "outputs": [
    {
     "data": {
      "text/plain": [
       "0.5855400000000001"
      ]
     },
     "execution_count": 45,
     "metadata": {},
     "output_type": "execute_result"
    }
   ],
   "source": [
    "EX_EN_sampled = EX_sampled * (1 - LAM)\n",
    "EX_EN_sampled"
   ]
  },
  {
   "cell_type": "code",
   "execution_count": 42,
   "id": "48b1ec9b-6ab6-4e45-8333-9939d1a207e8",
   "metadata": {},
   "outputs": [],
   "source": [
    "#plt.hist(Xs, density=True, bins=100, range=(0,30))"
   ]
  },
  {
   "cell_type": "markdown",
   "id": "7456ad1a-fce5-4ab9-b7a5-771e4604d395",
   "metadata": {},
   "source": [
    "$\\%_{\\text{error}}$ of sampled $\\frac{\\mathbb{E}X}{\\mathbb{E}N}$ = "
   ]
  },
  {
   "cell_type": "code",
   "execution_count": 46,
   "id": "638fb3a4-d214-4878-9288-15475504a2e5",
   "metadata": {},
   "outputs": [
    {
     "data": {
      "text/plain": [
       "0.01725126387658309"
      ]
     },
     "execution_count": 46,
     "metadata": {},
     "output_type": "execute_result"
    }
   ],
   "source": [
    "(EX_EN_sampled - EX_EN) / EX_EN"
   ]
  },
  {
   "cell_type": "markdown",
   "id": "d37a877d-fc86-4f16-ab6b-980323def7d1",
   "metadata": {},
   "source": [
    "### Approximation of $\\mathbb{E}(X/N)$\n",
    "For each Galton Watson branching process look at the ratio of the X value and the size of the tree, generate multiple samples, look at their average. It will be different from expectation of X divided by expectation of N, but that should be the answer for the Erdos Renyi graph X/n"
   ]
  },
  {
   "cell_type": "code",
   "execution_count": 10,
   "id": "0a65ccee-b290-4d9a-b996-eabb8205c8df",
   "metadata": {},
   "outputs": [],
   "source": [
    "def iterate_GWBP_EX_N(num_samples=100):\n",
    "    X_Ns = 0\n",
    "    for _ in range(num_samples):\n",
    "        # Poisson Branching\n",
    "        sample_tree = nx.Graph(GWBP(LAM, MAXLEVEL=100))\n",
    "        for u,v in sample_tree.edges():\n",
    "            sample_tree[u][v]['weight'] = 1\n",
    "\n",
    "        # Get X for sample_tree\n",
    "        _,_,X = util.path_cover(sample_tree, list(sample_tree.nodes())[0])\n",
    "            \n",
    "        # Calculate X/N for current sample\n",
    "        # GW Branching Process produces a single connected (tree) component, so N = |V|\n",
    "        X_Ns += X / nx.number_of_nodes(sample_tree)\n",
    "    return X_Ns / num_samples"
   ]
  },
  {
   "cell_type": "code",
   "execution_count": 11,
   "id": "c3c4ad33-69f8-459a-bec8-3041e60f3e1b",
   "metadata": {},
   "outputs": [
    {
     "data": {
      "text/plain": [
       "0.3100726156077978"
      ]
     },
     "execution_count": 11,
     "metadata": {},
     "output_type": "execute_result"
    }
   ],
   "source": [
    "EX_N_GWBP = iterate_GWBP_EX_N(num_samples=10000)\n",
    "EX_N_GWBP"
   ]
  },
  {
   "cell_type": "code",
   "execution_count": 12,
   "id": "1fedd37e-c9a8-41ea-a9a9-00b0f9501fad",
   "metadata": {},
   "outputs": [
    {
     "data": {
      "text/plain": [
       "1.6350161398622485"
      ]
     },
     "execution_count": 12,
     "metadata": {},
     "output_type": "execute_result"
    }
   ],
   "source": [
    "abs(EX_N_GWBP-EX)"
   ]
  },
  {
   "cell_type": "code",
   "execution_count": 13,
   "id": "cb81fad1-d689-49e2-bc80-999e16441416",
   "metadata": {},
   "outputs": [
    {
     "ename": "NameError",
     "evalue": "name 'mean' is not defined",
     "output_type": "error",
     "traceback": [
      "\u001b[1;31m---------------------------------------------------------------------------\u001b[0m",
      "\u001b[1;31mNameError\u001b[0m                                 Traceback (most recent call last)",
      "Cell \u001b[1;32mIn[13], line 1\u001b[0m\n\u001b[1;32m----> 1\u001b[0m \u001b[38;5;241m1\u001b[39m \u001b[38;5;241m-\u001b[39m \u001b[43mmean\u001b[49m\u001b[38;5;241m/\u001b[39mEX\n",
      "\u001b[1;31mNameError\u001b[0m: name 'mean' is not defined"
     ]
    }
   ],
   "source": [
    "1 - mean/EX"
   ]
  },
  {
   "cell_type": "markdown",
   "id": "5421e0be-c9f7-4416-a22b-1627808497da",
   "metadata": {},
   "source": [
    "### Graphing"
   ]
  },
  {
   "cell_type": "code",
   "execution_count": null,
   "id": "beae1014-f2f3-4cea-b73c-e2a3b4aa667f",
   "metadata": {
    "scrolled": true
   },
   "outputs": [],
   "source": [
    "plt.plot(ns, values)\n",
    "plt.xlabel(\"n\")\n",
    "plt.ylabel(\"EX\")\n",
    "plt.axhline(y=statistics.mean(values), color='red')"
   ]
  },
  {
   "cell_type": "code",
   "execution_count": null,
   "id": "cd25f59c-f1b7-4367-837a-1cbccc758ecf",
   "metadata": {},
   "outputs": [],
   "source": []
  }
 ],
 "metadata": {
  "kernelspec": {
   "display_name": "Python 3 (ipykernel)",
   "language": "python",
   "name": "python3"
  },
  "language_info": {
   "codemirror_mode": {
    "name": "ipython",
    "version": 3
   },
   "file_extension": ".py",
   "mimetype": "text/x-python",
   "name": "python",
   "nbconvert_exporter": "python",
   "pygments_lexer": "ipython3",
   "version": "3.9.7"
  }
 },
 "nbformat": 4,
 "nbformat_minor": 5
}
