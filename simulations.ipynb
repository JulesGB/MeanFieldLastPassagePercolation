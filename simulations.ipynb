{
 "cells": [
  {
   "cell_type": "code",
   "execution_count": 1,
   "id": "74b3689d-8781-4351-9ebf-57bf636bed20",
   "metadata": {},
   "outputs": [],
   "source": [
    "import numpy as np\n",
    "import matplotlib.pyplot as plt\n",
    "import networkx as nx\n",
    "import random\n",
    "import statistics\n",
    "import kmax as kx\n",
    "import utility as util\n",
    "from hierarchy import *\n",
    "from scipy.optimize import fsolve\n",
    "from IPython.core.debugger import set_trace"
   ]
  },
  {
   "cell_type": "markdown",
   "id": "cafdcc67-7867-4862-927a-c567a55b2505",
   "metadata": {},
   "source": [
    "# Simulations"
   ]
  },
  {
   "cell_type": "code",
   "execution_count": 2,
   "id": "b0ae1c2f-0005-4e88-aaa3-abc5e2d5d183",
   "metadata": {},
   "outputs": [],
   "source": [
    "# CONSTANTS\n",
    "LAM = 0.7"
   ]
  },
  {
   "cell_type": "markdown",
   "id": "f87eed6c-6f40-4742-925d-a0e569cf90e4",
   "metadata": {},
   "source": [
    "## GW Branching Process"
   ]
  },
  {
   "cell_type": "markdown",
   "id": "e69811ee-85ee-4f94-9a84-3cabc832315e",
   "metadata": {},
   "source": [
    "For a Poisson branching process with $\\lambda < 1$, we expect that\n",
    "$$\n",
    "\\frac{X}{n}\\underset{n\\to\\infty}{\\longrightarrow}\\frac{\\mathbb{E}X}{\\mathbb{E}N}\n",
    "$$\n",
    "where $X$ is the last-passage time of a GWBP tree with parameter $\\lambda$\n",
    "\n",
    "In theory,\n",
    "$$\n",
    "\\mathbb{E}X = \\frac{2-(\\lambda p+2)e^{-\\lambda p}}{1-\\lambda}~~~~~\\text{and}~~~~~\\mathbb{E}N=\\frac{1}{1-\\lambda}\n",
    "$$\n",
    "where $p:=p(\\lambda)$ is a solution to the equation $$pe^{\\lambda p} = 1+\\lambda p.$$\n",
    "\n",
    "Thus\n",
    "$$\n",
    "\\frac{\\mathbb{E}X}{\\mathbb{E}N} = 2-(\\lambda p+2)e^{-\\lambda p}.\n",
    "$$\n",
    "For example,\n",
    "$\n",
    "\\lambda = 0.7 \\implies p\\approx 0.874161.\n",
    "$"
   ]
  },
  {
   "cell_type": "markdown",
   "id": "1c595650-987c-4ef0-a002-56096ff550c0",
   "metadata": {},
   "source": [
    "### Computation of $p,$ theoretical values"
   ]
  },
  {
   "cell_type": "code",
   "execution_count": 131,
   "id": "3e8de369-2d50-4fbe-b147-dc4792b9f132",
   "metadata": {},
   "outputs": [],
   "source": [
    "def solve_p(lam):\n",
    "    func = lambda p: [p[0] * np.exp(lam*p[0]) - (1 + lam * p[0])]\n",
    "    return float(fsolve(func, 0)[0])"
   ]
  },
  {
   "cell_type": "code",
   "execution_count": 132,
   "id": "9b180558-c847-41c3-af2d-bbaf59a3a89a",
   "metadata": {},
   "outputs": [],
   "source": [
    "p = solve_p(LAM)\n",
    "EX_EN = 2-(2+LAM*p)*math.exp(-LAM*p)\n",
    "EX = EX_EN / (1-LAM)"
   ]
  },
  {
   "cell_type": "code",
   "execution_count": 133,
   "id": "65979852-0e9d-4209-b09c-5352a7ba5be2",
   "metadata": {},
   "outputs": [
    {
     "name": "stdout",
     "output_type": "stream",
     "text": [
      "p = 0.8741606425132245\n",
      "EX/EN = 0.583526626641014\n",
      "EX = 1.9450887554700462\n"
     ]
    }
   ],
   "source": [
    "print(f'p = {p}')\n",
    "print(f'EX/EN = {EX_EN}')\n",
    "print(f'EX = {EX}')"
   ]
  },
  {
   "cell_type": "markdown",
   "id": "17f82ecb-84b1-4547-9626-b04f9f1c8302",
   "metadata": {},
   "source": [
    "### Approximation of $\\frac{\\mathbb{E}X}{\\mathbb{E}N}$\n",
    "\n",
    "We know $\\mathbb{E}N=\\frac{1}{1-\\lambda}$ so we only need to compute $\\mathbb{E}X$."
   ]
  },
  {
   "cell_type": "code",
   "execution_count": 20,
   "id": "ffe980ff-1065-4868-8abd-0f5a1710d868",
   "metadata": {},
   "outputs": [],
   "source": [
    "def iterate_GWBP_EX(num_samples=100):\n",
    "    Xs = []\n",
    "    for _ in range(num_samples):\n",
    "        # Poisson Branching\n",
    "        sample_tree = nx.Graph(GWBP(LAM, MAXLEVEL=100))\n",
    "        for u,v in sample_tree.edges():\n",
    "            sample_tree[u][v]['weight'] = 1\n",
    "\n",
    "        # Get X for sample_tree\n",
    "        _,_,X = util.path_cover(sample_tree, list(sample_tree.nodes())[0])\n",
    "        Xs.append(X)\n",
    "    return Xs"
   ]
  },
  {
   "cell_type": "code",
   "execution_count": 44,
   "id": "9fcca150-9f95-42d7-8ffc-b7fb3171dd9a",
   "metadata": {},
   "outputs": [
    {
     "data": {
      "text/plain": [
       "1.9518"
      ]
     },
     "execution_count": 44,
     "metadata": {},
     "output_type": "execute_result"
    }
   ],
   "source": [
    "Xs = iterate_GWBP_EX(num_samples=10000)\n",
    "EX_sampled = statistics.mean(Xs)\n",
    "EX_sampled"
   ]
  },
  {
   "cell_type": "code",
   "execution_count": 45,
   "id": "e2c4cb86-ba97-4967-ba69-60c7bcdf35fd",
   "metadata": {},
   "outputs": [
    {
     "data": {
      "text/plain": [
       "0.5855400000000001"
      ]
     },
     "execution_count": 45,
     "metadata": {},
     "output_type": "execute_result"
    }
   ],
   "source": [
    "EX_EN_sampled = EX_sampled * (1 - LAM)\n",
    "EX_EN_sampled"
   ]
  },
  {
   "cell_type": "code",
   "execution_count": 42,
   "id": "48b1ec9b-6ab6-4e45-8333-9939d1a207e8",
   "metadata": {},
   "outputs": [],
   "source": [
    "#plt.hist(Xs, density=True, bins=100, range=(0,30))"
   ]
  },
  {
   "cell_type": "markdown",
   "id": "7456ad1a-fce5-4ab9-b7a5-771e4604d395",
   "metadata": {},
   "source": [
    "$\\%_{\\text{error}}$ of sampled $\\frac{\\mathbb{E}X}{\\mathbb{E}N}$ = "
   ]
  },
  {
   "cell_type": "code",
   "execution_count": 46,
   "id": "638fb3a4-d214-4878-9288-15475504a2e5",
   "metadata": {},
   "outputs": [
    {
     "data": {
      "text/plain": [
       "0.01725126387658309"
      ]
     },
     "execution_count": 46,
     "metadata": {},
     "output_type": "execute_result"
    }
   ],
   "source": [
    "(EX_EN_sampled - EX_EN) / EX_EN"
   ]
  },
  {
   "cell_type": "markdown",
   "id": "d37a877d-fc86-4f16-ab6b-980323def7d1",
   "metadata": {},
   "source": [
    "### Approximation of $\\mathbb{E}(X/N)$\n",
    "For each Galton Watson branching process look at the ratio of the X value and the size of the tree, generate multiple samples, look at their average. It will be different from expectation of X divided by expectation of N, but that should be the answer for the Erdos Renyi graph X/n"
   ]
  },
  {
   "cell_type": "code",
   "execution_count": 3,
   "id": "0a65ccee-b290-4d9a-b996-eabb8205c8df",
   "metadata": {},
   "outputs": [],
   "source": [
    "def iterate_GWBP_EX_N(num_samples=100):\n",
    "    X_Ns = 0\n",
    "    for _ in range(num_samples):\n",
    "        # Poisson Branching\n",
    "        sample_tree = nx.Graph(GWBP(LAM, MAXLEVEL=100))\n",
    "        for u,v in sample_tree.edges():\n",
    "            sample_tree[u][v]['weight'] = 1\n",
    "\n",
    "        # Get X for sample_tree\n",
    "        _,_,X = util.path_cover(sample_tree, list(sample_tree.nodes())[0])\n",
    "            \n",
    "        # Calculate X/N for current sample\n",
    "        # GW Branching Process produces a single connected (tree) component, so N = |V|\n",
    "        X_Ns += X / nx.number_of_nodes(sample_tree)\n",
    "    return X_Ns / num_samples"
   ]
  },
  {
   "cell_type": "code",
   "execution_count": 4,
   "id": "c3c4ad33-69f8-459a-bec8-3041e60f3e1b",
   "metadata": {},
   "outputs": [
    {
     "data": {
      "text/plain": [
       "0.31389552362946316"
      ]
     },
     "execution_count": 4,
     "metadata": {},
     "output_type": "execute_result"
    }
   ],
   "source": [
    "EX_N_GWBP = iterate_GWBP_EX_N(num_samples=10000)\n",
    "EX_N_GWBP"
   ]
  },
  {
   "cell_type": "markdown",
   "id": "6b3a2ac9-1adb-4246-aace-2776393d73f2",
   "metadata": {},
   "source": [
    "## Erdos-Renyi Graphs $(G_{n,p})$\n",
    "\n",
    "For Erdos-Renyi random graph $G\\left(n,\\frac{\\lambda}{n}\\right)$ compute the x value / n, for 1000 samples with n = 10000 or more. This should converge to E(X/N) where X =  x value for a Poisson(lam) branching process and N = number of nodes in the same Poisson(lam) branching process. X and N are correlated and we computed E(X), E(N) explicitly. What we need is E(X/N): this can be computed by simulation many Galton Watson Tree samples, for each sample compute X/N, take their average."
   ]
  },
  {
   "cell_type": "markdown",
   "id": "b121a299-2f8c-4519-9cb6-5421ab891310",
   "metadata": {},
   "source": [
    "### Approximation of $\\mathbb{E}(X/N)$"
   ]
  },
  {
   "cell_type": "code",
   "execution_count": 2,
   "id": "adb2808f-5656-4212-afe5-2bb105c2aa38",
   "metadata": {},
   "outputs": [],
   "source": [
    "def X_sample_GNP(sample_tree):\n",
    "    X = 0\n",
    "    for nodes in nx.connected_components(sample_tree):\n",
    "        subgraph = sample_tree.subgraph(nodes)\n",
    "        path, _, Xi = util.path_cover(subgraph, list(nodes)[0])\n",
    "        X += Xi\n",
    "    return X"
   ]
  },
  {
   "cell_type": "code",
   "execution_count": 51,
   "id": "9566cf94-dd83-4119-a89d-93bc21c197be",
   "metadata": {},
   "outputs": [],
   "source": [
    "def iterate_GNP(num_samples=1000, n=10000):\n",
    "    X_Ns = []\n",
    "    for _ in range(num_samples):\n",
    "        # Erdos-Reyni Graph\n",
    "        sample_tree = nx.fast_gnp_random_graph(n, LAM/n)\n",
    "        for u,v in sample_tree.edges():\n",
    "            sample_tree[u][v]['weight'] = 1\n",
    "\n",
    "        # Calculate X/n for current sample\n",
    "        X_Ns.append(X_sample_GNP(sample_tree) / n)\n",
    "    return X_Ns"
   ]
  },
  {
   "cell_type": "code",
   "execution_count": 53,
   "id": "7fdfbb1a-504f-46a2-8ce0-6f140d5914ec",
   "metadata": {},
   "outputs": [
    {
     "data": {
      "text/plain": [
       "0.3160146"
      ]
     },
     "execution_count": 53,
     "metadata": {},
     "output_type": "execute_result"
    }
   ],
   "source": [
    "X_Ns = iterate_GNP()\n",
    "EX_N_sampled = statistics.mean(X_Ns)\n",
    "EX_N_sampled"
   ]
  },
  {
   "cell_type": "markdown",
   "id": "f89051f5-d14c-467a-8dda-4568d02666a5",
   "metadata": {},
   "source": [
    "Per Partha's above explanation, this value should converge to $\\mathbb{E}(X/N)$ for a GWBP tree.\n",
    "\n",
    "So let's examine the $\\%_{\\text{error}}$:"
   ]
  },
  {
   "cell_type": "code",
   "execution_count": 55,
   "id": "6764640f-ed2a-4354-bdd9-2dd45ba64e2a",
   "metadata": {},
   "outputs": [
    {
     "data": {
      "text/plain": [
       "0.01916320272448058"
      ]
     },
     "execution_count": 55,
     "metadata": {},
     "output_type": "execute_result"
    }
   ],
   "source": [
    "(EX_N_sampled - EX_N_GWBP) / EX_N_GWBP"
   ]
  },
  {
   "cell_type": "markdown",
   "id": "5421e0be-c9f7-4416-a22b-1627808497da",
   "metadata": {},
   "source": [
    "### Graphing"
   ]
  },
  {
   "cell_type": "code",
   "execution_count": 139,
   "id": "3b4c931e-c904-4043-bcf1-de7003ee1900",
   "metadata": {},
   "outputs": [],
   "source": [
    "# https://stackoverflow.com/a/14000631\n",
    "# Function for graphing an expression\n",
    "def graph(formula, x_range, xlabel, ylabel):  \n",
    "    x = np.array(x_range)\n",
    "    y = formula(x)\n",
    "    plt.xlabel(xlabel)\n",
    "    plt.ylabel(ylabel)\n",
    "    plt.plot(x, y, 'r')\n",
    "    plt.show()"
   ]
  },
  {
   "cell_type": "code",
   "execution_count": 110,
   "id": "cd25f59c-f1b7-4367-837a-1cbccc758ecf",
   "metadata": {},
   "outputs": [],
   "source": [
    "LAM = 0\n",
    "lams = []\n",
    "EXs = []\n",
    "while LAM < 1:\n",
    "    LAM += 0.01\n",
    "    lams.append(LAM)\n",
    "    EX = statistics.mean(iterate_GWBP_EX(num_samples=1000))\n",
    "    EXs.append(EX)"
   ]
  },
  {
   "cell_type": "code",
   "execution_count": 111,
   "id": "adc3b74c-1917-45d8-891a-18cbb8c393e5",
   "metadata": {},
   "outputs": [
    {
     "data": {
      "text/plain": [
       "Text(0, 0.5, 'EX (simulated)')"
      ]
     },
     "execution_count": 111,
     "metadata": {},
     "output_type": "execute_result"
    },
    {
     "data": {
      "image/png": "[encoded data removed]",
      "text/plain": [
       "<Figure size 640x480 with 1 Axes>"
      ]
     },
     "metadata": {},
     "output_type": "display_data"
    }
   ],
   "source": [
    "plt.plot(lams, EXs)\n",
    "plt.xlabel(\"$\\lambda$\")\n",
    "plt.ylabel(\"EX (simulated)\")"
   ]
  },
  {
   "cell_type": "code",
   "execution_count": 140,
   "id": "d9d1a623-e63e-4dc7-8815-3e29ac370bb0",
   "metadata": {},
   "outputs": [
    {
     "ename": "ValueError",
     "evalue": "object too deep for desired array",
     "output_type": "error",
     "traceback": [
      "\u001b[1;31m---------------------------------------------------------------------------\u001b[0m",
      "\u001b[1;31mValueError\u001b[0m                                Traceback (most recent call last)",
      "\u001b[1;31mValueError\u001b[0m: object too deep for desired array"
     ]
    },
    {
     "ename": "error",
     "evalue": "Result from function call is not a proper array of floats.",
     "output_type": "error",
     "traceback": [
      "\u001b[1;31m---------------------------------------------------------------------------\u001b[0m",
      "\u001b[1;31merror\u001b[0m                                     Traceback (most recent call last)",
      "Cell \u001b[1;32mIn[140], line 2\u001b[0m\n\u001b[0;32m      1\u001b[0m func \u001b[38;5;241m=\u001b[39m \u001b[38;5;28;01mlambda\u001b[39;00m lam: (\u001b[38;5;241m2\u001b[39m\u001b[38;5;241m-\u001b[39m(lam\u001b[38;5;241m*\u001b[39msolve_p(lam)\u001b[38;5;241m+\u001b[39m\u001b[38;5;241m2\u001b[39m)\u001b[38;5;241m*\u001b[39mnp\u001b[38;5;241m.\u001b[39mexp(\u001b[38;5;241m-\u001b[39mlam\u001b[38;5;241m*\u001b[39msolve_p(lam))) \u001b[38;5;241m/\u001b[39m (\u001b[38;5;241m1\u001b[39m\u001b[38;5;241m-\u001b[39mlam)\n\u001b[1;32m----> 2\u001b[0m \u001b[43mgraph\u001b[49m\u001b[43m(\u001b[49m\u001b[43mfunc\u001b[49m\u001b[43m,\u001b[49m\u001b[43m \u001b[49m\u001b[43mnp\u001b[49m\u001b[38;5;241;43m.\u001b[39;49m\u001b[43marange\u001b[49m\u001b[43m(\u001b[49m\u001b[38;5;241;43m0.01\u001b[39;49m\u001b[43m,\u001b[49m\u001b[38;5;241;43m0.99\u001b[39;49m\u001b[43m,\u001b[49m\u001b[38;5;241;43m0.01\u001b[39;49m\u001b[43m)\u001b[49m\u001b[43m,\u001b[49m\n\u001b[0;32m      3\u001b[0m \u001b[43m      \u001b[49m\u001b[38;5;124;43m\"\u001b[39;49m\u001b[38;5;124;43m$\u001b[39;49m\u001b[38;5;124;43m\\\u001b[39;49m\u001b[38;5;124;43mlambda$\u001b[39;49m\u001b[38;5;124;43m\"\u001b[39;49m\u001b[43m,\u001b[49m\u001b[43m \u001b[49m\u001b[38;5;124;43m\"\u001b[39;49m\u001b[38;5;124;43mEX (actual)\u001b[39;49m\u001b[38;5;124;43m\"\u001b[39;49m\u001b[43m)\u001b[49m\n",
      "Cell \u001b[1;32mIn[139], line 5\u001b[0m, in \u001b[0;36mgraph\u001b[1;34m(formula, x_range, xlabel, ylabel)\u001b[0m\n\u001b[0;32m      3\u001b[0m \u001b[38;5;28;01mdef\u001b[39;00m \u001b[38;5;21mgraph\u001b[39m(formula, x_range, xlabel, ylabel):  \n\u001b[0;32m      4\u001b[0m     x \u001b[38;5;241m=\u001b[39m np\u001b[38;5;241m.\u001b[39marray(x_range)\n\u001b[1;32m----> 5\u001b[0m     y \u001b[38;5;241m=\u001b[39m \u001b[43mformula\u001b[49m\u001b[43m(\u001b[49m\u001b[43mx\u001b[49m\u001b[43m)\u001b[49m\n\u001b[0;32m      6\u001b[0m     plt\u001b[38;5;241m.\u001b[39mxlabel(xlabel)\n\u001b[0;32m      7\u001b[0m     plt\u001b[38;5;241m.\u001b[39mylabel(ylabel)\n",
      "Cell \u001b[1;32mIn[140], line 1\u001b[0m, in \u001b[0;36m<lambda>\u001b[1;34m(lam)\u001b[0m\n\u001b[1;32m----> 1\u001b[0m func \u001b[38;5;241m=\u001b[39m \u001b[38;5;28;01mlambda\u001b[39;00m lam: (\u001b[38;5;241m2\u001b[39m\u001b[38;5;241m-\u001b[39m(lam\u001b[38;5;241m*\u001b[39m\u001b[43msolve_p\u001b[49m\u001b[43m(\u001b[49m\u001b[43mlam\u001b[49m\u001b[43m)\u001b[49m\u001b[38;5;241m+\u001b[39m\u001b[38;5;241m2\u001b[39m)\u001b[38;5;241m*\u001b[39mnp\u001b[38;5;241m.\u001b[39mexp(\u001b[38;5;241m-\u001b[39mlam\u001b[38;5;241m*\u001b[39msolve_p(lam))) \u001b[38;5;241m/\u001b[39m (\u001b[38;5;241m1\u001b[39m\u001b[38;5;241m-\u001b[39mlam)\n\u001b[0;32m      2\u001b[0m graph(func, np\u001b[38;5;241m.\u001b[39marange(\u001b[38;5;241m0.01\u001b[39m,\u001b[38;5;241m0.99\u001b[39m,\u001b[38;5;241m0.01\u001b[39m),\n\u001b[0;32m      3\u001b[0m       \u001b[38;5;124m\"\u001b[39m\u001b[38;5;124m$\u001b[39m\u001b[38;5;124m\\\u001b[39m\u001b[38;5;124mlambda$\u001b[39m\u001b[38;5;124m\"\u001b[39m, \u001b[38;5;124m\"\u001b[39m\u001b[38;5;124mEX (actual)\u001b[39m\u001b[38;5;124m\"\u001b[39m)\n",
      "Cell \u001b[1;32mIn[131], line 3\u001b[0m, in \u001b[0;36msolve_p\u001b[1;34m(lam)\u001b[0m\n\u001b[0;32m      1\u001b[0m \u001b[38;5;28;01mdef\u001b[39;00m \u001b[38;5;21msolve_p\u001b[39m(lam):\n\u001b[0;32m      2\u001b[0m     func \u001b[38;5;241m=\u001b[39m \u001b[38;5;28;01mlambda\u001b[39;00m p: [p[\u001b[38;5;241m0\u001b[39m] \u001b[38;5;241m*\u001b[39m np\u001b[38;5;241m.\u001b[39mexp(lam\u001b[38;5;241m*\u001b[39mp[\u001b[38;5;241m0\u001b[39m]) \u001b[38;5;241m-\u001b[39m (\u001b[38;5;241m1\u001b[39m \u001b[38;5;241m+\u001b[39m lam \u001b[38;5;241m*\u001b[39m p[\u001b[38;5;241m0\u001b[39m])]\n\u001b[1;32m----> 3\u001b[0m     \u001b[38;5;28;01mreturn\u001b[39;00m \u001b[38;5;28mfloat\u001b[39m(\u001b[43mfsolve\u001b[49m\u001b[43m(\u001b[49m\u001b[43mfunc\u001b[49m\u001b[43m,\u001b[49m\u001b[43m \u001b[49m\u001b[38;5;241;43m0\u001b[39;49m\u001b[43m)\u001b[49m[\u001b[38;5;241m0\u001b[39m])\n",
      "File \u001b[1;32mC:\\Python39\\lib\\site-packages\\scipy\\optimize\\_minpack_py.py:166\u001b[0m, in \u001b[0;36mfsolve\u001b[1;34m(func, x0, args, fprime, full_output, col_deriv, xtol, maxfev, band, epsfcn, factor, diag)\u001b[0m\n\u001b[0;32m     54\u001b[0m \u001b[38;5;250m\u001b[39m\u001b[38;5;124;03m\"\"\"\u001b[39;00m\n\u001b[0;32m     55\u001b[0m \u001b[38;5;124;03mFind the roots of a function.\u001b[39;00m\n\u001b[0;32m     56\u001b[0m \n\u001b[1;32m   (...)\u001b[0m\n\u001b[0;32m    156\u001b[0m \n\u001b[0;32m    157\u001b[0m \u001b[38;5;124;03m\"\"\"\u001b[39;00m\n\u001b[0;32m    158\u001b[0m options \u001b[38;5;241m=\u001b[39m {\u001b[38;5;124m'\u001b[39m\u001b[38;5;124mcol_deriv\u001b[39m\u001b[38;5;124m'\u001b[39m: col_deriv,\n\u001b[0;32m    159\u001b[0m            \u001b[38;5;124m'\u001b[39m\u001b[38;5;124mxtol\u001b[39m\u001b[38;5;124m'\u001b[39m: xtol,\n\u001b[0;32m    160\u001b[0m            \u001b[38;5;124m'\u001b[39m\u001b[38;5;124mmaxfev\u001b[39m\u001b[38;5;124m'\u001b[39m: maxfev,\n\u001b[1;32m   (...)\u001b[0m\n\u001b[0;32m    163\u001b[0m            \u001b[38;5;124m'\u001b[39m\u001b[38;5;124mfactor\u001b[39m\u001b[38;5;124m'\u001b[39m: factor,\n\u001b[0;32m    164\u001b[0m            \u001b[38;5;124m'\u001b[39m\u001b[38;5;124mdiag\u001b[39m\u001b[38;5;124m'\u001b[39m: diag}\n\u001b[1;32m--> 166\u001b[0m res \u001b[38;5;241m=\u001b[39m _root_hybr(func, x0, args, jac\u001b[38;5;241m=\u001b[39mfprime, \u001b[38;5;241m*\u001b[39m\u001b[38;5;241m*\u001b[39moptions)\n\u001b[0;32m    167\u001b[0m \u001b[38;5;28;01mif\u001b[39;00m full_output:\n\u001b[0;32m    168\u001b[0m     x \u001b[38;5;241m=\u001b[39m res[\u001b[38;5;124m'\u001b[39m\u001b[38;5;124mx\u001b[39m\u001b[38;5;124m'\u001b[39m]\n",
      "File \u001b[1;32mC:\\Python39\\lib\\site-packages\\scipy\\optimize\\_minpack_py.py:243\u001b[0m, in \u001b[0;36m_root_hybr\u001b[1;34m(func, x0, args, jac, col_deriv, xtol, maxfev, band, eps, factor, diag, **unknown_options)\u001b[0m\n\u001b[0;32m    241\u001b[0m     \u001b[38;5;28;01mif\u001b[39;00m maxfev \u001b[38;5;241m==\u001b[39m \u001b[38;5;241m0\u001b[39m:\n\u001b[0;32m    242\u001b[0m         maxfev \u001b[38;5;241m=\u001b[39m \u001b[38;5;241m200\u001b[39m \u001b[38;5;241m*\u001b[39m (n \u001b[38;5;241m+\u001b[39m \u001b[38;5;241m1\u001b[39m)\n\u001b[1;32m--> 243\u001b[0m     retval \u001b[38;5;241m=\u001b[39m \u001b[43m_minpack\u001b[49m\u001b[38;5;241;43m.\u001b[39;49m\u001b[43m_hybrd\u001b[49m\u001b[43m(\u001b[49m\u001b[43mfunc\u001b[49m\u001b[43m,\u001b[49m\u001b[43m \u001b[49m\u001b[43mx0\u001b[49m\u001b[43m,\u001b[49m\u001b[43m \u001b[49m\u001b[43margs\u001b[49m\u001b[43m,\u001b[49m\u001b[43m \u001b[49m\u001b[38;5;241;43m1\u001b[39;49m\u001b[43m,\u001b[49m\u001b[43m \u001b[49m\u001b[43mxtol\u001b[49m\u001b[43m,\u001b[49m\u001b[43m \u001b[49m\u001b[43mmaxfev\u001b[49m\u001b[43m,\u001b[49m\n\u001b[0;32m    244\u001b[0m \u001b[43m                             \u001b[49m\u001b[43mml\u001b[49m\u001b[43m,\u001b[49m\u001b[43m \u001b[49m\u001b[43mmu\u001b[49m\u001b[43m,\u001b[49m\u001b[43m \u001b[49m\u001b[43mepsfcn\u001b[49m\u001b[43m,\u001b[49m\u001b[43m \u001b[49m\u001b[43mfactor\u001b[49m\u001b[43m,\u001b[49m\u001b[43m \u001b[49m\u001b[43mdiag\u001b[49m\u001b[43m)\u001b[49m\n\u001b[0;32m    245\u001b[0m \u001b[38;5;28;01melse\u001b[39;00m:\n\u001b[0;32m    246\u001b[0m     _check_func(\u001b[38;5;124m'\u001b[39m\u001b[38;5;124mfsolve\u001b[39m\u001b[38;5;124m'\u001b[39m, \u001b[38;5;124m'\u001b[39m\u001b[38;5;124mfprime\u001b[39m\u001b[38;5;124m'\u001b[39m, Dfun, x0, args, n, (n, n))\n",
      "\u001b[1;31merror\u001b[0m: Result from function call is not a proper array of floats."
     ]
    }
   ],
   "source": [
    "func = lambda lam: (2-(lam*solve_p(lam)+2)*np.exp(-lam*solve_p(lam))) / (1-lam)\n",
    "graph(func, np.arange(0.01,0.99,0.01),\n",
    "      \"$\\lambda$\", \"EX (actual)\")"
   ]
  },
  {
   "cell_type": "code",
   "execution_count": null,
   "id": "fc0d255b-9592-4491-97ee-562754a5f7fd",
   "metadata": {},
   "outputs": [],
   "source": []
  }
 ],
 "metadata": {
  "kernelspec": {
   "display_name": "Python 3",
   "language": "python",
   "name": "python3"
  },
  "language_info": {
   "codemirror_mode": {
    "name": "ipython",
    "version": 3
   },
   "file_extension": ".py",
   "mimetype": "text/x-python",
   "name": "python",
   "nbconvert_exporter": "python",
   "pygments_lexer": "ipython3",
   "version": "3.12.6"
  }
 },
 "nbformat": 4,
 "nbformat_minor": 5
}
