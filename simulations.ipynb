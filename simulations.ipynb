{
 "cells": [
  {
   "cell_type": "code",
   "execution_count": 1,
   "id": "74b3689d-8781-4351-9ebf-57bf636bed20",
   "metadata": {},
   "outputs": [],
   "source": [
    "import numpy as np\n",
    "import matplotlib.pyplot as plt\n",
    "import networkx as nx\n",
    "import random\n",
    "import statistics\n",
    "import kmax as kx\n",
    "import utility as util\n",
    "from hierarchy import *"
   ]
  },
  {
   "cell_type": "markdown",
   "id": "cafdcc67-7867-4862-927a-c567a55b2505",
   "metadata": {},
   "source": [
    "# Erdos-Renyi Simulations"
   ]
  },
  {
   "cell_type": "code",
   "execution_count": 2,
   "id": "53830c97-4f76-4a26-9e2c-3b8fbc52d8d1",
   "metadata": {},
   "outputs": [],
   "source": [
    "def my_draw(tree, draw_path=True):\n",
    "    #layout = hierarchyc_pos(tree, 0)\n",
    "    layout = nx.spring_layout(tree)\n",
    "    # nx.draw_networkx_nodes(tree, pos=layout, node_size=4)\n",
    "    nx.draw_networkx_labels(tree, pos=layout, font_size=8, font_color=\"tab:blue\")\n",
    "    \n",
    "    #if draw_path:\n",
    "    #    path_cover,_=util.path_cover(tree)\n",
    "    #    nx.draw_networkx_edges(rooted_tree, pos=layout, edgelist=path_cover, edge_color=\"tab:red\", arrows=True)\n",
    "    #    \n",
    "    #    other_edges = [(u,v) for u,v in rooted_tree.edges() if (u,v) not in path_cover and (v,u) not in path_cover]\n",
    "    #    nx.draw_networkx_edges(rooted_tree, pos=layout, edgelist=other_edges)\n",
    "    #else:\n",
    "    nx.draw_networkx_edges(tree, pos=layout)"
   ]
  },
  {
   "cell_type": "markdown",
   "id": "9c57d4c3-d878-4137-af99-1cf10ea1122c",
   "metadata": {
    "jp-MarkdownHeadingCollapsed": true
   },
   "source": [
    "# Generate Tree"
   ]
  },
  {
   "cell_type": "code",
   "execution_count": 3,
   "id": "44db511c-8ee7-4dbb-a80b-55ff7cc7f008",
   "metadata": {},
   "outputs": [],
   "source": [
    "# Constants\n",
    "n = 20\n",
    "lam = 0.7\n",
    "\n",
    "tree = nx.erdos_renyi_graph(n, lam/n)\n",
    "for u,v in tree.edges():\n",
    "    tree[u][v]['weight'] = 1"
   ]
  },
  {
   "cell_type": "code",
   "execution_count": 4,
   "id": "c504364d-20c6-4d14-beb9-28e1bf4b08e4",
   "metadata": {},
   "outputs": [
    {
     "data": {
      "image/png": "[encoded data removed]",
      "text/plain": [
       "<Figure size 640x480 with 1 Axes>"
      ]
     },
     "metadata": {},
     "output_type": "display_data"
    }
   ],
   "source": [
    "my_draw(tree)"
   ]
  },
  {
   "cell_type": "markdown",
   "id": "f87eed6c-6f40-4742-925d-a0e569cf90e4",
   "metadata": {},
   "source": [
    "# Simulation"
   ]
  },
  {
   "cell_type": "markdown",
   "id": "e69811ee-85ee-4f94-9a84-3cabc832315e",
   "metadata": {},
   "source": [
    "For poisson branching process:\n",
    "$$\n",
    "\\lambda = 0.7 \\implies p\\approx 0.874161\n",
    "$$"
   ]
  },
  {
   "cell_type": "code",
   "execution_count": 132,
   "id": "b0ae1c2f-0005-4e88-aaa3-abc5e2d5d183",
   "metadata": {},
   "outputs": [],
   "source": [
    "lam = 0.5\n",
    "p = 0.9214\n",
    "EX_EN = 2-(2+lam*p)*math.exp(-lam*p)\n",
    "EX = EX_EN / (1-lam)"
   ]
  },
  {
   "cell_type": "code",
   "execution_count": 133,
   "id": "65979852-0e9d-4209-b09c-5352a7ba5be2",
   "metadata": {},
   "outputs": [
    {
     "data": {
      "text/plain": [
       "0.44768733277352535"
      ]
     },
     "execution_count": 133,
     "metadata": {},
     "output_type": "execute_result"
    }
   ],
   "source": [
    "EX_EN"
   ]
  },
  {
   "cell_type": "code",
   "execution_count": 134,
   "id": "c7a51da8-9185-4309-be3f-5ff1b2fbac5d",
   "metadata": {},
   "outputs": [
    {
     "data": {
      "text/plain": [
       "0.8953746655470507"
      ]
     },
     "execution_count": 134,
     "metadata": {},
     "output_type": "execute_result"
    }
   ],
   "source": [
    "EX"
   ]
  },
  {
   "cell_type": "code",
   "execution_count": 126,
   "id": "07222cf3-24fe-4412-99e2-09cee87cfacb",
   "metadata": {},
   "outputs": [],
   "source": [
    "def expectation_X_sample(sample_tree): \n",
    "    X = 0\n",
    "    for nodes in nx.connected_components(sample_tree):\n",
    "        subgraph = sample_tree.subgraph(nodes)\n",
    "        path, _, Xi = util.path_cover(subgraph, list(nodes)[0])\n",
    "        # X += Xi\n",
    "        X += Xi * nx.number_of_nodes(subgraph)\n",
    "        \n",
    "    return X"
   ]
  },
  {
   "cell_type": "code",
   "execution_count": 127,
   "id": "0a65ccee-b290-4d9a-b996-eabb8205c8df",
   "metadata": {},
   "outputs": [],
   "source": [
    "def expectation_X(lam, num_samples=100):\n",
    "    Xs = 0\n",
    "    Ns = 0\n",
    "    for _ in range(num_samples):\n",
    "        # Erdos-Reyni\n",
    "        n = 100000\n",
    "        sample_tree = nx.fast_gnp_random_graph(n, lam/n)\n",
    "        #sample_tree = nx.erdos_renyi_graph(2000, lam/2000)\n",
    "\n",
    "        # Poisson Branching\n",
    "        #sample_tree = nx.Graph(GWBP(lam, MAXLEVEL=100))\n",
    "        for u,v in sample_tree.edges():\n",
    "            sample_tree[u][v]['weight'] = 1\n",
    "\n",
    "        # Calculate EX/EN for current sample\n",
    "        Xs += expectation_X_sample(sample_tree)\n",
    "        Ns += nx.number_of_nodes(sample_tree)\n",
    "    return Xs / Ns"
   ]
  },
  {
   "cell_type": "code",
   "execution_count": 128,
   "id": "c3c4ad33-69f8-459a-bec8-3041e60f3e1b",
   "metadata": {},
   "outputs": [],
   "source": [
    "samples_per_iteration = 1\n",
    "num_iterations = 1\n",
    "values = [expectation_X(lam, num_samples=samples_per_iteration) for _ in range(num_iterations)]"
   ]
  },
  {
   "cell_type": "code",
   "execution_count": 135,
   "id": "121c3c15-861b-43c9-a7dd-fa183bb6f096",
   "metadata": {},
   "outputs": [
    {
     "data": {
      "text/plain": [
       "0.87221"
      ]
     },
     "execution_count": 135,
     "metadata": {},
     "output_type": "execute_result"
    }
   ],
   "source": [
    "mean = statistics.mean(values)\n",
    "mean"
   ]
  },
  {
   "cell_type": "code",
   "execution_count": 136,
   "id": "1fedd37e-c9a8-41ea-a9a9-00b0f9501fad",
   "metadata": {},
   "outputs": [
    {
     "data": {
      "text/plain": [
       "0.023164665547050656"
      ]
     },
     "execution_count": 136,
     "metadata": {},
     "output_type": "execute_result"
    }
   ],
   "source": [
    "abs(mean-EX)"
   ]
  },
  {
   "cell_type": "code",
   "execution_count": 137,
   "id": "cb81fad1-d689-49e2-bc80-999e16441416",
   "metadata": {},
   "outputs": [
    {
     "data": {
      "text/plain": [
       "0.025871477537168897"
      ]
     },
     "execution_count": 137,
     "metadata": {},
     "output_type": "execute_result"
    }
   ],
   "source": [
    "1 - mean/EX"
   ]
  },
  {
   "cell_type": "markdown",
   "id": "5421e0be-c9f7-4416-a22b-1627808497da",
   "metadata": {
    "jp-MarkdownHeadingCollapsed": true
   },
   "source": [
    "### Graphing"
   ]
  },
  {
   "cell_type": "code",
   "execution_count": 15,
   "id": "beae1014-f2f3-4cea-b73c-e2a3b4aa667f",
   "metadata": {
    "scrolled": true
   },
   "outputs": [
    {
     "ename": "NameError",
     "evalue": "name 'ns' is not defined",
     "output_type": "error",
     "traceback": [
      "\u001b[1;31m---------------------------------------------------------------------------\u001b[0m",
      "\u001b[1;31mNameError\u001b[0m                                 Traceback (most recent call last)",
      "Cell \u001b[1;32mIn[15], line 1\u001b[0m\n\u001b[1;32m----> 1\u001b[0m plt\u001b[38;5;241m.\u001b[39mplot(\u001b[43mns\u001b[49m, values)\n\u001b[0;32m      2\u001b[0m plt\u001b[38;5;241m.\u001b[39mxlabel(\u001b[38;5;124m\"\u001b[39m\u001b[38;5;124mn\u001b[39m\u001b[38;5;124m\"\u001b[39m)\n\u001b[0;32m      3\u001b[0m plt\u001b[38;5;241m.\u001b[39mylabel(\u001b[38;5;124m\"\u001b[39m\u001b[38;5;124mEX\u001b[39m\u001b[38;5;124m\"\u001b[39m)\n",
      "\u001b[1;31mNameError\u001b[0m: name 'ns' is not defined"
     ]
    }
   ],
   "source": [
    "plt.plot(ns, values)\n",
    "plt.xlabel(\"n\")\n",
    "plt.ylabel(\"EX\")\n",
    "plt.axhline(y=statistics.mean(values), color='red')"
   ]
  }
 ],
 "metadata": {
  "kernelspec": {
   "display_name": "Python 3 (ipykernel)",
   "language": "python",
   "name": "python3"
  },
  "language_info": {
   "codemirror_mode": {
    "name": "ipython",
    "version": 3
   },
   "file_extension": ".py",
   "mimetype": "text/x-python",
   "name": "python",
   "nbconvert_exporter": "python",
   "pygments_lexer": "ipython3",
   "version": "3.9.7"
  }
 },
 "nbformat": 4,
 "nbformat_minor": 5
}
