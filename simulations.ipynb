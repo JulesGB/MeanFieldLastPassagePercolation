{
 "cells": [
  {
   "cell_type": "code",
   "execution_count": 1,
   "id": "74b3689d-8781-4351-9ebf-57bf636bed20",
   "metadata": {},
   "outputs": [],
   "source": [
    "import numpy as np\n",
    "import matplotlib.pyplot as plt\n",
    "import networkx as nx\n",
    "import random\n",
    "import statistics\n",
    "import kmax as kx\n",
    "import utility as util\n",
    "from hierarchy import *\n",
    "from scipy.optimize import fsolve"
   ]
  },
  {
   "cell_type": "markdown",
   "id": "cafdcc67-7867-4862-927a-c567a55b2505",
   "metadata": {},
   "source": [
    "# Simulations"
   ]
  },
  {
   "cell_type": "markdown",
   "id": "6b3a2ac9-1adb-4246-aace-2776393d73f2",
   "metadata": {},
   "source": [
    "## Erdos-Renyi Graphs $(G_{n,p})$"
   ]
  },
  {
   "cell_type": "markdown",
   "id": "f558d359-5fd0-43e9-95fe-b9427d6eebc1",
   "metadata": {},
   "source": [
    "### Approximation of $\\mathbb{E}X/\\mathbb{E}N$"
   ]
  },
  {
   "cell_type": "code",
   "execution_count": null,
   "id": "9566cf94-dd83-4119-a89d-93bc21c197be",
   "metadata": {},
   "outputs": [],
   "source": [
    "# TODO\n",
    "def iterate_GWBP(lam, num_samples=100):\n",
    "    Xs = 0\n",
    "    Ns = 0\n",
    "    for _ in range(num_samples):\n",
    "        # Erdos-Reyni\n",
    "        n = 100000\n",
    "        sample_tree = nx.fast_gnp_random_graph(n, lam/n)\n",
    "\n",
    "        for u,v in sample_tree.edges():\n",
    "            sample_tree[u][v]['weight'] = 1\n",
    "\n",
    "        # Calculate EX/EN for current sample\n",
    "        Xs += expectation_X_sample(sample_tree)\n",
    "        Ns += nx.number_of_nodes(sample_tree)\n",
    "    return Xs / Ns"
   ]
  },
  {
   "cell_type": "markdown",
   "id": "b121a299-2f8c-4519-9cb6-5421ab891310",
   "metadata": {},
   "source": [
    "### Approximation of $\\mathbb{E}(X/N)$"
   ]
  },
  {
   "cell_type": "markdown",
   "id": "f87eed6c-6f40-4742-925d-a0e569cf90e4",
   "metadata": {},
   "source": [
    "## GW Branching Process"
   ]
  },
  {
   "cell_type": "markdown",
   "id": "e69811ee-85ee-4f94-9a84-3cabc832315e",
   "metadata": {},
   "source": [
    "For a Poisson branching process with $\\lambda < 1$, we expect that\n",
    "$$\n",
    "\\frac{X}{n}\\underset{n\\to\\infty}{\\longrightarrow}\\frac{\\mathbb{E}X}{\\mathbb{E}N}\n",
    "$$\n",
    "where $X$ is the last-passage time of a GWBP tree with parameter $\\lambda$\n",
    "\n",
    "In theory,\n",
    "$$\n",
    "\\mathbb{E}X = \\frac{2-(\\lambda p+2)e^{-\\lambda p}}{1-\\lambda}~~~~~\\text{and}~~~~~\\mathbb{E}N=\\frac{1}{1-\\lambda}\n",
    "$$\n",
    "where $p:=p(\\lambda)$ is a solution to the equation $$pe^{\\lambda p} = 1+\\lambda p.$$\n",
    "\n",
    "Thus\n",
    "$$\n",
    "\\frac{\\mathbb{E}X}{\\mathbb{E}N} = 2-(\\lambda p+2)e^{-\\lambda p}.\n",
    "$$\n",
    "For example,\n",
    "$$\n",
    "\\lambda = 0.7 \\implies p\\approx 0.874161.\n",
    "$$"
   ]
  },
  {
   "cell_type": "code",
   "execution_count": 23,
   "id": "b0ae1c2f-0005-4e88-aaa3-abc5e2d5d183",
   "metadata": {},
   "outputs": [],
   "source": [
    "# CONSTANTS\n",
    "LAM = 0.7"
   ]
  },
  {
   "cell_type": "code",
   "execution_count": 24,
   "id": "3e8de369-2d50-4fbe-b147-dc4792b9f132",
   "metadata": {},
   "outputs": [],
   "source": [
    "def func(p):\n",
    "    return [p[0] * np.exp(LAM*p[0]) - (1 + LAM * p[0])]"
   ]
  },
  {
   "cell_type": "code",
   "execution_count": 25,
   "id": "9b180558-c847-41c3-af2d-bbaf59a3a89a",
   "metadata": {},
   "outputs": [],
   "source": [
    "p = fsolve(func,0)[0]\n",
    "EX_EN = 2-(2+lam*p)*math.exp(-lam*p)\n",
    "EX = EX_EN / (1-lam)"
   ]
  },
  {
   "cell_type": "code",
   "execution_count": 26,
   "id": "65979852-0e9d-4209-b09c-5352a7ba5be2",
   "metadata": {},
   "outputs": [
    {
     "name": "stdout",
     "output_type": "stream",
     "text": [
      "p = 0.8741606425132245\n",
      "EX/EN = 0.583526626641014\n"
     ]
    }
   ],
   "source": [
    "print(f'p = {p}')\n",
    "print(f'EX/EN = {EX_EN}')"
   ]
  },
  {
   "cell_type": "code",
   "execution_count": 30,
   "id": "07222cf3-24fe-4412-99e2-09cee87cfacb",
   "metadata": {},
   "outputs": [],
   "source": [
    "def expectation_X_sample(sample_tree): \n",
    "    X = 0\n",
    "    for nodes in nx.connected_components(sample_tree):\n",
    "        subgraph = sample_tree.subgraph(nodes)\n",
    "        path, _, Xi = util.path_cover(subgraph, list(nodes)[0])\n",
    "        X += Xi / nx.number_of_nodes(subgraph)\n",
    "    return X"
   ]
  },
  {
   "cell_type": "code",
   "execution_count": 31,
   "id": "0a65ccee-b290-4d9a-b996-eabb8205c8df",
   "metadata": {},
   "outputs": [],
   "source": [
    "def iterate_GWBP(lam, num_samples=100):\n",
    "    Xs = 0\n",
    "    Ns = 0\n",
    "    for _ in range(num_samples):\n",
    "        # Poisson Branching\n",
    "        sample_tree = nx.Graph(GWBP(lam, MAXLEVEL=100))\n",
    "        for u,v in sample_tree.edges():\n",
    "            sample_tree[u][v]['weight'] = 1\n",
    "\n",
    "        # Calculate EX/EN for current sample\n",
    "        Xs += expectation_X_sample(sample_tree)\n",
    "        Ns += nx.number_of_nodes(sample_tree)\n",
    "    return Xs / Ns"
   ]
  },
  {
   "cell_type": "code",
   "execution_count": 32,
   "id": "c3c4ad33-69f8-459a-bec8-3041e60f3e1b",
   "metadata": {},
   "outputs": [],
   "source": [
    "samples_per_iteration = 1\n",
    "num_iterations = 1\n",
    "values = [iterate_GWBP(lam, num_samples=samples_per_iteration) for _ in range(num_iterations)]"
   ]
  },
  {
   "cell_type": "code",
   "execution_count": 33,
   "id": "121c3c15-861b-43c9-a7dd-fa183bb6f096",
   "metadata": {},
   "outputs": [
    {
     "data": {
      "text/plain": [
       "0.08870471217243048"
      ]
     },
     "execution_count": 33,
     "metadata": {},
     "output_type": "execute_result"
    }
   ],
   "source": [
    "mean = statistics.mean(values)\n",
    "mean"
   ]
  },
  {
   "cell_type": "code",
   "execution_count": 34,
   "id": "1fedd37e-c9a8-41ea-a9a9-00b0f9501fad",
   "metadata": {},
   "outputs": [
    {
     "data": {
      "text/plain": [
       "np.float64(1.8563840432976157)"
      ]
     },
     "execution_count": 34,
     "metadata": {},
     "output_type": "execute_result"
    }
   ],
   "source": [
    "abs(mean-EX)"
   ]
  },
  {
   "cell_type": "code",
   "execution_count": 35,
   "id": "cb81fad1-d689-49e2-bc80-999e16441416",
   "metadata": {},
   "outputs": [
    {
     "data": {
      "text/plain": [
       "np.float64(0.95439554523002)"
      ]
     },
     "execution_count": 35,
     "metadata": {},
     "output_type": "execute_result"
    }
   ],
   "source": [
    "1 - mean/EX"
   ]
  },
  {
   "cell_type": "markdown",
   "id": "5421e0be-c9f7-4416-a22b-1627808497da",
   "metadata": {
    "jp-MarkdownHeadingCollapsed": true
   },
   "source": [
    "### Graphing"
   ]
  },
  {
   "cell_type": "code",
   "execution_count": 14,
   "id": "beae1014-f2f3-4cea-b73c-e2a3b4aa667f",
   "metadata": {
    "scrolled": true
   },
   "outputs": [
    {
     "ename": "NameError",
     "evalue": "name 'ns' is not defined",
     "output_type": "error",
     "traceback": [
      "\u001b[1;31m---------------------------------------------------------------------------\u001b[0m",
      "\u001b[1;31mNameError\u001b[0m                                 Traceback (most recent call last)",
      "Cell \u001b[1;32mIn[14], line 1\u001b[0m\n\u001b[1;32m----> 1\u001b[0m plt\u001b[38;5;241m.\u001b[39mplot(\u001b[43mns\u001b[49m, values)\n\u001b[0;32m      2\u001b[0m plt\u001b[38;5;241m.\u001b[39mxlabel(\u001b[38;5;124m\"\u001b[39m\u001b[38;5;124mn\u001b[39m\u001b[38;5;124m\"\u001b[39m)\n\u001b[0;32m      3\u001b[0m plt\u001b[38;5;241m.\u001b[39mylabel(\u001b[38;5;124m\"\u001b[39m\u001b[38;5;124mEX\u001b[39m\u001b[38;5;124m\"\u001b[39m)\n",
      "\u001b[1;31mNameError\u001b[0m: name 'ns' is not defined"
     ]
    }
   ],
   "source": [
    "plt.plot(ns, values)\n",
    "plt.xlabel(\"n\")\n",
    "plt.ylabel(\"EX\")\n",
    "plt.axhline(y=statistics.mean(values), color='red')"
   ]
  }
 ],
 "metadata": {
  "kernelspec": {
   "display_name": "Python 3 (ipykernel)",
   "language": "python",
   "name": "python3"
  },
  "language_info": {
   "codemirror_mode": {
    "name": "ipython",
    "version": 3
   },
   "file_extension": ".py",
   "mimetype": "text/x-python",
   "name": "python",
   "nbconvert_exporter": "python",
   "pygments_lexer": "ipython3",
   "version": "3.9.7"
  }
 },
 "nbformat": 4,
 "nbformat_minor": 5
}
