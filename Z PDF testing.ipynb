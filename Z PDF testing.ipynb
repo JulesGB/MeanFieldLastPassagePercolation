{
 "cells": [
  {
   "cell_type": "code",
   "execution_count": 1,
   "id": "1017feb6-53d1-47a5-b6e2-0cfd588424d4",
   "metadata": {},
   "outputs": [],
   "source": [
    "import numpy as np\n",
    "import matplotlib.pyplot as plt\n",
    "import matplotlib\n",
    "import networkx as nx\n",
    "import random\n",
    "import copy\n",
    "\n",
    "import sys\n",
    "sys.path.append(\"Fall 2024\")\n",
    "\n",
    "import kmax as kx\n",
    "import utility as util\n",
    "from hierarchy import *\n",
    "import z_solver as zs\n",
    "import discretize as disc"
   ]
  },
  {
   "cell_type": "markdown",
   "id": "e7fbc3c8-3683-4ebe-82f7-8aafcfab8c96",
   "metadata": {},
   "source": [
    "# Z PDF testing"
   ]
  },
  {
   "cell_type": "markdown",
   "id": "9122dba5-a81a-4fed-80b6-e874123dcfd0",
   "metadata": {},
   "source": [
    "$$\\mathbb{P}(Z\\le x\\mid x\\ge0) = e^{-x} \\frac{A}{\\lambda}$$\n",
    "\n",
    "$$\\mathbb{P}(Z\\le x\\mid x<0)=\\frac{-\\left(e^{-Ae^{x}-x}\\right)\\left(2-2e^{(Ae^{x})}+2Ae^{x}+A^{2}e^{(2x)}\\right)}{A}$$"
   ]
  },
  {
   "cell_type": "code",
   "execution_count": null,
   "id": "688ec3e2-70f2-4e89-baae-26f09a7b1623",
   "metadata": {},
   "outputs": [
    {
     "name": "stdout",
     "output_type": "stream",
     "text": [
      "0.9933057053003354\n",
      "0.9933778921979364\n",
      "0.9934970946638025\n",
      "0.9936423878992225\n",
      "0.9937995049954857\n"
     ]
    },
    {
     "data": {
      "text/plain": [
       "<matplotlib.legend.Legend at 0x286a692ae90>"
      ]
     },
     "execution_count": 9,
     "metadata": {},
     "output_type": "execute_result"
    }
   ],
   "source": [
    "import scipy.integrate\n",
    "\n",
    "plt.title('PDF of Z with $\\\\omega\\\\sim\\\\text{Exp}(1)$')\n",
    "plt.rcParams[\"figure.figsize\"] = (10,10)\n",
    "num_samples = 100000\n",
    "for lam in [0.1,0.3,0.5,0.7,0.9]:\n",
    "    xs, pdf_values, A_lam = zs.compute_z_pdf_exp(lam, num_samples = 100000, high=5)\n",
    "    xs_neg = xs[:num_samples//2]\n",
    "    xs_pos = xs[num_samples//2:]\n",
    "    pdf_neg = pdf_values[:num_samples//2]\n",
    "    pdf_pos = pdf_values[num_samples//2:]\n",
    "    plt.plot(xs_neg, pdf_neg, label=f'$\\\\lambda={lam}, A_\\\\lambda = {A_lam:.3f}, F_\\\\delta(0)={(1+A_lam) * math.exp(-A_lam):.3f}$')\n",
    "    plt.plot(xs_pos, pdf_pos, label=f'$\\\\lambda={lam}, A_\\\\lambda = {A_lam:.3f}, F_\\\\delta(0)={(1+A_lam) * math.exp(-A_lam):.3f}$')\n",
    "    print(scipy.integrate.simpson(pdf_values, x=xs))\n",
    "plt.legend()"
   ]
  },
  {
   "cell_type": "code",
   "execution_count": null,
   "id": "f222f164-25f7-49e8-89c2-1ffa50fedeba",
   "metadata": {},
   "outputs": [],
   "source": []
  }
 ],
 "metadata": {
  "kernelspec": {
   "display_name": "Python [conda env:py13]",
   "language": "python",
   "name": "conda-env-py13-py"
  },
  "language_info": {
   "codemirror_mode": {
    "name": "ipython",
    "version": 3
   },
   "file_extension": ".py",
   "mimetype": "text/x-python",
   "name": "python",
   "nbconvert_exporter": "python",
   "pygments_lexer": "ipython3",
   "version": "3.13.2"
  }
 },
 "nbformat": 4,
 "nbformat_minor": 5
}
